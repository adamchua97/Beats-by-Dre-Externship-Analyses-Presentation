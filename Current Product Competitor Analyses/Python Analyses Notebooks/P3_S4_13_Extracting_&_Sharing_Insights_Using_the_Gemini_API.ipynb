{
  "nbformat": 4,
  "nbformat_minor": 0,
  "metadata": {
    "colab": {
      "provenance": []
    },
    "kernelspec": {
      "name": "python3",
      "display_name": "Python 3"
    },
    "language_info": {
      "name": "python"
    }
  },
  "cells": [
    {
      "cell_type": "markdown",
      "source": [
        "# Import Libraries"
      ],
      "metadata": {
        "id": "IQMGiXZ-_nlE"
      }
    },
    {
      "cell_type": "code",
      "execution_count": null,
      "metadata": {
        "id": "R6nznJPO_dKU"
      },
      "outputs": [],
      "source": [
        "import os\n",
        "import pandas as pd\n",
        "import google.generativeai as genai"
      ]
    },
    {
      "cell_type": "markdown",
      "source": [
        "# Model Setup"
      ],
      "metadata": {
        "id": "wYVeQzoN_wTC"
      }
    },
    {
      "cell_type": "code",
      "source": [
        "# Define Gemini API key\n",
        "api_key = \"[API key]\"\n",
        "\n",
        "# Function to analyze amazon reviews\n",
        "def analyze_reviews(reviews, api_key, prompt_message):\n",
        "    genai.configure(api_key=api_key)\n",
        "\n",
        "    model = genai.GenerativeModel(\n",
        "        model_name=\"gemini-1.5-flash\",\n",
        "        generation_config={\n",
        "            \"temperature\": 1,\n",
        "            \"top_p\": 0.95,\n",
        "            \"top_k\": 64,\n",
        "            \"max_output_tokens\": 8192,\n",
        "            \"response_mime_type\": \"text/plain\",\n",
        "        },\n",
        "    )\n",
        "\n",
        "    chat_session = model.start_chat(history=[])\n",
        "\n",
        "    prompt = prompt_message + \"\\\\n\\\\n\".join(reviews)\n",
        "    response = chat_session.send_message(prompt)\n",
        "    return response.text"
      ],
      "metadata": {
        "id": "ZUtl3em6BuKk"
      },
      "execution_count": null,
      "outputs": []
    },
    {
      "cell_type": "markdown",
      "source": [
        "# Load Reviews Data"
      ],
      "metadata": {
        "id": "kSqW9_cXARrs"
      }
    },
    {
      "cell_type": "code",
      "source": [
        "# Load your dataset\n",
        "df = pd.read_csv('/content/amazon_reviews_data_clean_with_sentiment.csv')\n",
        "\n",
        "# Select reviews to analyze\n",
        "reviews = df['content'].head(105).tolist()\n",
        "\n",
        "# Create your prompt\n",
        "prompt_message = \"Analyze the following reviews and summarize the key insights:\"\n",
        "\n",
        "# Get insights\n",
        "insights = analyze_reviews(reviews, api_key, prompt_message)\n",
        "print(insights)"
      ],
      "metadata": {
        "colab": {
          "base_uri": "https://localhost:8080/",
          "height": 245
        },
        "id": "aoq7isfVB9ED",
        "outputId": "e32a5e34-9a3e-4265-c0ff-0a58f8061555"
      },
      "execution_count": null,
      "outputs": [
        {
          "output_type": "stream",
          "name": "stdout",
          "text": [
            "The Beats Pill speaker receives overwhelmingly positive reviews, praising its sound quality as \"amazing,\" \"awesome,\" \"booming,\" and \"incredible,\" especially considering its compact size.  Many reviewers highlight the rich bass and clear mids and highs, with some noting it's superior to other brands like JBL and Anker.  The speaker's loudness is also frequently cited as a strength, often exceeding expectations. Ease of pairing with Apple products is consistently mentioned as a plus.\n",
            "\n",
            "However, several recurring criticisms emerged:\n",
            "\n",
            "* **Battery Life:** The advertised 24-hour battery life is frequently disputed, with many users reporting significantly shorter playtime, especially at higher volumes.\n",
            "* **Volume/Power:** While many found it loud enough, some felt the volume didn't justify the price, especially compared to cheaper alternatives with similar sound levels.  The 100-watt claim (in one review) was clearly false.\n",
            "* **Controls:**  The controls on the black model are difficult to see, and some found pairing new devices somewhat cumbersome.  Turning the speaker off also proved problematic for some.\n",
            "* **Quality Control:** A few reviews mentioned receiving damaged or defective speakers, highlighting potential quality control issues.\n",
            "\n",
            "\n",
            "In summary, the Beats Pill X is generally considered a great-sounding, portable speaker, especially at sale prices around $99.  However, potential buyers should be aware that the battery life may fall short of expectations, and that some units may have quality control issues.  Consider the color choice carefully to ensure visibility of the controls.\n",
            "\n"
          ]
        }
      ]
    },
    {
      "cell_type": "markdown",
      "source": [
        "# Basic Product Analysis"
      ],
      "metadata": {
        "id": "OahMt-5REWhp"
      }
    },
    {
      "cell_type": "code",
      "source": [
        "# Display first few rows\n",
        "df.head()"
      ],
      "metadata": {
        "colab": {
          "base_uri": "https://localhost:8080/",
          "height": 712
        },
        "id": "RBZpMz-cDlKf",
        "outputId": "aa8872ee-9ec5-4a49-80aa-390af6e40929"
      },
      "execution_count": null,
      "outputs": [
        {
          "output_type": "execute_result",
          "data": {
            "text/plain": [
              "        review_id  product_id product_name         brand  \\\n",
              "0  r2lvx0omhfzx0l  b0d4sx9rc6   beats pill  beats by dre   \n",
              "1  r1vf3bhpt5c61n  b0d4sx9rc6   beats pill  beats by dre   \n",
              "2  r2yfcrsc298ts7  b0d4sx9rc6   beats pill  beats by dre   \n",
              "3  r1dkvihxe9rzus  b0d4sx9rc6   beats pill  beats by dre   \n",
              "4   rlruivaagz3en  b0d4sx9rc6   beats pill  beats by dre   \n",
              "\n",
              "                                               title      author  rating  \\\n",
              "0                    5.0 out of 5 stars sounds great  hollywoody       5   \n",
              "1                             5.0 out of 5 stars jbl     michael       5   \n",
              "2                      5.0 out of 5 stars i love it!  william g.       5   \n",
              "3  2.0 out of 5 stars must me rejects from a real...      lady b       2   \n",
              "4               5.0 out of 5 stars a gift for my dad    jacky k.       5   \n",
              "\n",
              "                                             content  \\\n",
              "0  i just sent back my jbl flip because it had di...   \n",
              "1  they are a great value. the sound is awesome. ...   \n",
              "2  the sound quality is amazing, it’s easy to pai...   \n",
              "3  this speaker must have come from failed qualit...   \n",
              "4  sound quality is good. it can get pretty loud ...   \n",
              "\n",
              "                                       timestamp  \\\n",
              "0  reviewed in the united states january 9, 2025   \n",
              "1  reviewed in the united states january 8, 2025   \n",
              "2  reviewed in the united states january 8, 2025   \n",
              "3  reviewed in the united states january 8, 2025   \n",
              "4  reviewed in the united states january 8, 2025   \n",
              "\n",
              "                     profile_id  is_verified  helpful_count  \\\n",
              "0  ahcsv6wlxxa2exlwomlmb2fzbkeq        False              0   \n",
              "1  ahuwzoal676robbd7srer6kyjbka        False              0   \n",
              "2  agy6hyebnuxqxea7gpozyzrry3fq        False              0   \n",
              "3  ah3zdvkgdobn2oi6ch5wlvmn3jma        False              0   \n",
              "4  afyjoku2nxnz5qcvtjcrgjbfuiva        False              0   \n",
              "\n",
              "  product_attributes      date  review length  polarity  subjectivity  \\\n",
              "0                 {}  1/9/2025             23  0.325000      0.343750   \n",
              "1                 {}  1/8/2025             11  0.675000      0.662500   \n",
              "2                 {}  1/8/2025             14  0.511667      0.646667   \n",
              "3                 {}  1/8/2025             66 -0.066667      0.286667   \n",
              "4                 {}  1/8/2025             26  0.421429      0.642857   \n",
              "\n",
              "  sentiment  \n",
              "0  Positive  \n",
              "1  Positive  \n",
              "2  Positive  \n",
              "3   Neutral  \n",
              "4  Positive  "
            ],
            "text/html": [
              "\n",
              "  <div id=\"df-d410b098-93f7-4a16-a74c-acc808a33c3b\" class=\"colab-df-container\">\n",
              "    <div>\n",
              "<style scoped>\n",
              "    .dataframe tbody tr th:only-of-type {\n",
              "        vertical-align: middle;\n",
              "    }\n",
              "\n",
              "    .dataframe tbody tr th {\n",
              "        vertical-align: top;\n",
              "    }\n",
              "\n",
              "    .dataframe thead th {\n",
              "        text-align: right;\n",
              "    }\n",
              "</style>\n",
              "<table border=\"1\" class=\"dataframe\">\n",
              "  <thead>\n",
              "    <tr style=\"text-align: right;\">\n",
              "      <th></th>\n",
              "      <th>review_id</th>\n",
              "      <th>product_id</th>\n",
              "      <th>product_name</th>\n",
              "      <th>brand</th>\n",
              "      <th>title</th>\n",
              "      <th>author</th>\n",
              "      <th>rating</th>\n",
              "      <th>content</th>\n",
              "      <th>timestamp</th>\n",
              "      <th>profile_id</th>\n",
              "      <th>is_verified</th>\n",
              "      <th>helpful_count</th>\n",
              "      <th>product_attributes</th>\n",
              "      <th>date</th>\n",
              "      <th>review length</th>\n",
              "      <th>polarity</th>\n",
              "      <th>subjectivity</th>\n",
              "      <th>sentiment</th>\n",
              "    </tr>\n",
              "  </thead>\n",
              "  <tbody>\n",
              "    <tr>\n",
              "      <th>0</th>\n",
              "      <td>r2lvx0omhfzx0l</td>\n",
              "      <td>b0d4sx9rc6</td>\n",
              "      <td>beats pill</td>\n",
              "      <td>beats by dre</td>\n",
              "      <td>5.0 out of 5 stars sounds great</td>\n",
              "      <td>hollywoody</td>\n",
              "      <td>5</td>\n",
              "      <td>i just sent back my jbl flip because it had di...</td>\n",
              "      <td>reviewed in the united states january 9, 2025</td>\n",
              "      <td>ahcsv6wlxxa2exlwomlmb2fzbkeq</td>\n",
              "      <td>False</td>\n",
              "      <td>0</td>\n",
              "      <td>{}</td>\n",
              "      <td>1/9/2025</td>\n",
              "      <td>23</td>\n",
              "      <td>0.325000</td>\n",
              "      <td>0.343750</td>\n",
              "      <td>Positive</td>\n",
              "    </tr>\n",
              "    <tr>\n",
              "      <th>1</th>\n",
              "      <td>r1vf3bhpt5c61n</td>\n",
              "      <td>b0d4sx9rc6</td>\n",
              "      <td>beats pill</td>\n",
              "      <td>beats by dre</td>\n",
              "      <td>5.0 out of 5 stars jbl</td>\n",
              "      <td>michael</td>\n",
              "      <td>5</td>\n",
              "      <td>they are a great value. the sound is awesome. ...</td>\n",
              "      <td>reviewed in the united states january 8, 2025</td>\n",
              "      <td>ahuwzoal676robbd7srer6kyjbka</td>\n",
              "      <td>False</td>\n",
              "      <td>0</td>\n",
              "      <td>{}</td>\n",
              "      <td>1/8/2025</td>\n",
              "      <td>11</td>\n",
              "      <td>0.675000</td>\n",
              "      <td>0.662500</td>\n",
              "      <td>Positive</td>\n",
              "    </tr>\n",
              "    <tr>\n",
              "      <th>2</th>\n",
              "      <td>r2yfcrsc298ts7</td>\n",
              "      <td>b0d4sx9rc6</td>\n",
              "      <td>beats pill</td>\n",
              "      <td>beats by dre</td>\n",
              "      <td>5.0 out of 5 stars i love it!</td>\n",
              "      <td>william g.</td>\n",
              "      <td>5</td>\n",
              "      <td>the sound quality is amazing, it’s easy to pai...</td>\n",
              "      <td>reviewed in the united states january 8, 2025</td>\n",
              "      <td>agy6hyebnuxqxea7gpozyzrry3fq</td>\n",
              "      <td>False</td>\n",
              "      <td>0</td>\n",
              "      <td>{}</td>\n",
              "      <td>1/8/2025</td>\n",
              "      <td>14</td>\n",
              "      <td>0.511667</td>\n",
              "      <td>0.646667</td>\n",
              "      <td>Positive</td>\n",
              "    </tr>\n",
              "    <tr>\n",
              "      <th>3</th>\n",
              "      <td>r1dkvihxe9rzus</td>\n",
              "      <td>b0d4sx9rc6</td>\n",
              "      <td>beats pill</td>\n",
              "      <td>beats by dre</td>\n",
              "      <td>2.0 out of 5 stars must me rejects from a real...</td>\n",
              "      <td>lady b</td>\n",
              "      <td>2</td>\n",
              "      <td>this speaker must have come from failed qualit...</td>\n",
              "      <td>reviewed in the united states january 8, 2025</td>\n",
              "      <td>ah3zdvkgdobn2oi6ch5wlvmn3jma</td>\n",
              "      <td>False</td>\n",
              "      <td>0</td>\n",
              "      <td>{}</td>\n",
              "      <td>1/8/2025</td>\n",
              "      <td>66</td>\n",
              "      <td>-0.066667</td>\n",
              "      <td>0.286667</td>\n",
              "      <td>Neutral</td>\n",
              "    </tr>\n",
              "    <tr>\n",
              "      <th>4</th>\n",
              "      <td>rlruivaagz3en</td>\n",
              "      <td>b0d4sx9rc6</td>\n",
              "      <td>beats pill</td>\n",
              "      <td>beats by dre</td>\n",
              "      <td>5.0 out of 5 stars a gift for my dad</td>\n",
              "      <td>jacky k.</td>\n",
              "      <td>5</td>\n",
              "      <td>sound quality is good. it can get pretty loud ...</td>\n",
              "      <td>reviewed in the united states january 8, 2025</td>\n",
              "      <td>afyjoku2nxnz5qcvtjcrgjbfuiva</td>\n",
              "      <td>False</td>\n",
              "      <td>0</td>\n",
              "      <td>{}</td>\n",
              "      <td>1/8/2025</td>\n",
              "      <td>26</td>\n",
              "      <td>0.421429</td>\n",
              "      <td>0.642857</td>\n",
              "      <td>Positive</td>\n",
              "    </tr>\n",
              "  </tbody>\n",
              "</table>\n",
              "</div>\n",
              "    <div class=\"colab-df-buttons\">\n",
              "\n",
              "  <div class=\"colab-df-container\">\n",
              "    <button class=\"colab-df-convert\" onclick=\"convertToInteractive('df-d410b098-93f7-4a16-a74c-acc808a33c3b')\"\n",
              "            title=\"Convert this dataframe to an interactive table.\"\n",
              "            style=\"display:none;\">\n",
              "\n",
              "  <svg xmlns=\"http://www.w3.org/2000/svg\" height=\"24px\" viewBox=\"0 -960 960 960\">\n",
              "    <path d=\"M120-120v-720h720v720H120Zm60-500h600v-160H180v160Zm220 220h160v-160H400v160Zm0 220h160v-160H400v160ZM180-400h160v-160H180v160Zm440 0h160v-160H620v160ZM180-180h160v-160H180v160Zm440 0h160v-160H620v160Z\"/>\n",
              "  </svg>\n",
              "    </button>\n",
              "\n",
              "  <style>\n",
              "    .colab-df-container {\n",
              "      display:flex;\n",
              "      gap: 12px;\n",
              "    }\n",
              "\n",
              "    .colab-df-convert {\n",
              "      background-color: #E8F0FE;\n",
              "      border: none;\n",
              "      border-radius: 50%;\n",
              "      cursor: pointer;\n",
              "      display: none;\n",
              "      fill: #1967D2;\n",
              "      height: 32px;\n",
              "      padding: 0 0 0 0;\n",
              "      width: 32px;\n",
              "    }\n",
              "\n",
              "    .colab-df-convert:hover {\n",
              "      background-color: #E2EBFA;\n",
              "      box-shadow: 0px 1px 2px rgba(60, 64, 67, 0.3), 0px 1px 3px 1px rgba(60, 64, 67, 0.15);\n",
              "      fill: #174EA6;\n",
              "    }\n",
              "\n",
              "    .colab-df-buttons div {\n",
              "      margin-bottom: 4px;\n",
              "    }\n",
              "\n",
              "    [theme=dark] .colab-df-convert {\n",
              "      background-color: #3B4455;\n",
              "      fill: #D2E3FC;\n",
              "    }\n",
              "\n",
              "    [theme=dark] .colab-df-convert:hover {\n",
              "      background-color: #434B5C;\n",
              "      box-shadow: 0px 1px 3px 1px rgba(0, 0, 0, 0.15);\n",
              "      filter: drop-shadow(0px 1px 2px rgba(0, 0, 0, 0.3));\n",
              "      fill: #FFFFFF;\n",
              "    }\n",
              "  </style>\n",
              "\n",
              "    <script>\n",
              "      const buttonEl =\n",
              "        document.querySelector('#df-d410b098-93f7-4a16-a74c-acc808a33c3b button.colab-df-convert');\n",
              "      buttonEl.style.display =\n",
              "        google.colab.kernel.accessAllowed ? 'block' : 'none';\n",
              "\n",
              "      async function convertToInteractive(key) {\n",
              "        const element = document.querySelector('#df-d410b098-93f7-4a16-a74c-acc808a33c3b');\n",
              "        const dataTable =\n",
              "          await google.colab.kernel.invokeFunction('convertToInteractive',\n",
              "                                                    [key], {});\n",
              "        if (!dataTable) return;\n",
              "\n",
              "        const docLinkHtml = 'Like what you see? Visit the ' +\n",
              "          '<a target=\"_blank\" href=https://colab.research.google.com/notebooks/data_table.ipynb>data table notebook</a>'\n",
              "          + ' to learn more about interactive tables.';\n",
              "        element.innerHTML = '';\n",
              "        dataTable['output_type'] = 'display_data';\n",
              "        await google.colab.output.renderOutput(dataTable, element);\n",
              "        const docLink = document.createElement('div');\n",
              "        docLink.innerHTML = docLinkHtml;\n",
              "        element.appendChild(docLink);\n",
              "      }\n",
              "    </script>\n",
              "  </div>\n",
              "\n",
              "\n",
              "<div id=\"df-66a4d52a-0629-4eb6-b416-9d575e70e6ae\">\n",
              "  <button class=\"colab-df-quickchart\" onclick=\"quickchart('df-66a4d52a-0629-4eb6-b416-9d575e70e6ae')\"\n",
              "            title=\"Suggest charts\"\n",
              "            style=\"display:none;\">\n",
              "\n",
              "<svg xmlns=\"http://www.w3.org/2000/svg\" height=\"24px\"viewBox=\"0 0 24 24\"\n",
              "     width=\"24px\">\n",
              "    <g>\n",
              "        <path d=\"M19 3H5c-1.1 0-2 .9-2 2v14c0 1.1.9 2 2 2h14c1.1 0 2-.9 2-2V5c0-1.1-.9-2-2-2zM9 17H7v-7h2v7zm4 0h-2V7h2v10zm4 0h-2v-4h2v4z\"/>\n",
              "    </g>\n",
              "</svg>\n",
              "  </button>\n",
              "\n",
              "<style>\n",
              "  .colab-df-quickchart {\n",
              "      --bg-color: #E8F0FE;\n",
              "      --fill-color: #1967D2;\n",
              "      --hover-bg-color: #E2EBFA;\n",
              "      --hover-fill-color: #174EA6;\n",
              "      --disabled-fill-color: #AAA;\n",
              "      --disabled-bg-color: #DDD;\n",
              "  }\n",
              "\n",
              "  [theme=dark] .colab-df-quickchart {\n",
              "      --bg-color: #3B4455;\n",
              "      --fill-color: #D2E3FC;\n",
              "      --hover-bg-color: #434B5C;\n",
              "      --hover-fill-color: #FFFFFF;\n",
              "      --disabled-bg-color: #3B4455;\n",
              "      --disabled-fill-color: #666;\n",
              "  }\n",
              "\n",
              "  .colab-df-quickchart {\n",
              "    background-color: var(--bg-color);\n",
              "    border: none;\n",
              "    border-radius: 50%;\n",
              "    cursor: pointer;\n",
              "    display: none;\n",
              "    fill: var(--fill-color);\n",
              "    height: 32px;\n",
              "    padding: 0;\n",
              "    width: 32px;\n",
              "  }\n",
              "\n",
              "  .colab-df-quickchart:hover {\n",
              "    background-color: var(--hover-bg-color);\n",
              "    box-shadow: 0 1px 2px rgba(60, 64, 67, 0.3), 0 1px 3px 1px rgba(60, 64, 67, 0.15);\n",
              "    fill: var(--button-hover-fill-color);\n",
              "  }\n",
              "\n",
              "  .colab-df-quickchart-complete:disabled,\n",
              "  .colab-df-quickchart-complete:disabled:hover {\n",
              "    background-color: var(--disabled-bg-color);\n",
              "    fill: var(--disabled-fill-color);\n",
              "    box-shadow: none;\n",
              "  }\n",
              "\n",
              "  .colab-df-spinner {\n",
              "    border: 2px solid var(--fill-color);\n",
              "    border-color: transparent;\n",
              "    border-bottom-color: var(--fill-color);\n",
              "    animation:\n",
              "      spin 1s steps(1) infinite;\n",
              "  }\n",
              "\n",
              "  @keyframes spin {\n",
              "    0% {\n",
              "      border-color: transparent;\n",
              "      border-bottom-color: var(--fill-color);\n",
              "      border-left-color: var(--fill-color);\n",
              "    }\n",
              "    20% {\n",
              "      border-color: transparent;\n",
              "      border-left-color: var(--fill-color);\n",
              "      border-top-color: var(--fill-color);\n",
              "    }\n",
              "    30% {\n",
              "      border-color: transparent;\n",
              "      border-left-color: var(--fill-color);\n",
              "      border-top-color: var(--fill-color);\n",
              "      border-right-color: var(--fill-color);\n",
              "    }\n",
              "    40% {\n",
              "      border-color: transparent;\n",
              "      border-right-color: var(--fill-color);\n",
              "      border-top-color: var(--fill-color);\n",
              "    }\n",
              "    60% {\n",
              "      border-color: transparent;\n",
              "      border-right-color: var(--fill-color);\n",
              "    }\n",
              "    80% {\n",
              "      border-color: transparent;\n",
              "      border-right-color: var(--fill-color);\n",
              "      border-bottom-color: var(--fill-color);\n",
              "    }\n",
              "    90% {\n",
              "      border-color: transparent;\n",
              "      border-bottom-color: var(--fill-color);\n",
              "    }\n",
              "  }\n",
              "</style>\n",
              "\n",
              "  <script>\n",
              "    async function quickchart(key) {\n",
              "      const quickchartButtonEl =\n",
              "        document.querySelector('#' + key + ' button');\n",
              "      quickchartButtonEl.disabled = true;  // To prevent multiple clicks.\n",
              "      quickchartButtonEl.classList.add('colab-df-spinner');\n",
              "      try {\n",
              "        const charts = await google.colab.kernel.invokeFunction(\n",
              "            'suggestCharts', [key], {});\n",
              "      } catch (error) {\n",
              "        console.error('Error during call to suggestCharts:', error);\n",
              "      }\n",
              "      quickchartButtonEl.classList.remove('colab-df-spinner');\n",
              "      quickchartButtonEl.classList.add('colab-df-quickchart-complete');\n",
              "    }\n",
              "    (() => {\n",
              "      let quickchartButtonEl =\n",
              "        document.querySelector('#df-66a4d52a-0629-4eb6-b416-9d575e70e6ae button');\n",
              "      quickchartButtonEl.style.display =\n",
              "        google.colab.kernel.accessAllowed ? 'block' : 'none';\n",
              "    })();\n",
              "  </script>\n",
              "</div>\n",
              "\n",
              "    </div>\n",
              "  </div>\n"
            ],
            "application/vnd.google.colaboratory.intrinsic+json": {
              "type": "dataframe",
              "variable_name": "df",
              "summary": "{\n  \"name\": \"df\",\n  \"rows\": 700,\n  \"fields\": [\n    {\n      \"column\": \"review_id\",\n      \"properties\": {\n        \"dtype\": \"string\",\n        \"num_unique_values\": 420,\n        \"samples\": [\n          \"r2lew74w174us4\",\n          \"r2d7oph4fyd02r\",\n          \"r1ocso52rhsiu3\"\n        ],\n        \"semantic_type\": \"\",\n        \"description\": \"\"\n      }\n    },\n    {\n      \"column\": \"product_id\",\n      \"properties\": {\n        \"dtype\": \"category\",\n        \"num_unique_values\": 12,\n        \"samples\": [\n          \"b07594hz6y\",\n          \"b01crpv4uk\",\n          \"b0d4sx9rc6\"\n        ],\n        \"semantic_type\": \"\",\n        \"description\": \"\"\n      }\n    },\n    {\n      \"column\": \"product_name\",\n      \"properties\": {\n        \"dtype\": \"category\",\n        \"num_unique_values\": 6,\n        \"samples\": [\n          \"beats pill\",\n          \"jbl flip 6\",\n          \"tribit xsound go\"\n        ],\n        \"semantic_type\": \"\",\n        \"description\": \"\"\n      }\n    },\n    {\n      \"column\": \"brand\",\n      \"properties\": {\n        \"dtype\": \"category\",\n        \"num_unique_values\": 6,\n        \"samples\": [\n          \"beats by dre\",\n          \"jbl\",\n          \"tribit\"\n        ],\n        \"semantic_type\": \"\",\n        \"description\": \"\"\n      }\n    },\n    {\n      \"column\": \"title\",\n      \"properties\": {\n        \"dtype\": \"string\",\n        \"num_unique_values\": 368,\n        \"samples\": [\n          \"5.0 out of 5 stars these work really well\",\n          \"5.0 out of 5 stars color me surprised\",\n          \"5.0 out of 5 stars the pill is the cure\"\n        ],\n        \"semantic_type\": \"\",\n        \"description\": \"\"\n      }\n    },\n    {\n      \"column\": \"author\",\n      \"properties\": {\n        \"dtype\": \"string\",\n        \"num_unique_values\": 390,\n        \"samples\": [\n          \"lisa vanalstyne\",\n          \"trey\",\n          \"stoned shopper\"\n        ],\n        \"semantic_type\": \"\",\n        \"description\": \"\"\n      }\n    },\n    {\n      \"column\": \"rating\",\n      \"properties\": {\n        \"dtype\": \"number\",\n        \"std\": 1,\n        \"min\": 1,\n        \"max\": 5,\n        \"num_unique_values\": 5,\n        \"samples\": [\n          2,\n          1,\n          3\n        ],\n        \"semantic_type\": \"\",\n        \"description\": \"\"\n      }\n    },\n    {\n      \"column\": \"content\",\n      \"properties\": {\n        \"dtype\": \"string\",\n        \"num_unique_values\": 417,\n        \"samples\": [\n          \"little speaker produces a lot of sound read more\",\n          \"i have an original tribit stormbox and have enjoyed the extra \\\"bass\\\" on that model for years. blows the old bluetooth speaker i have from a decade go out of the water (tinny and zero bass).i didn't expect this xsound go to be as powerful as the stormbox, but it was also less than half the price. imo this is a great speaker and delivers sound comparable to the stormbox, just won't get as loud. very happy to add this one to my speaker collection. read more\",\n          \"lotta noise from such a little package! although i am used to my devices telling me thru voice prompts when ready to pair, paired, etc. this one does not do that, but i can live with it! read more\"\n        ],\n        \"semantic_type\": \"\",\n        \"description\": \"\"\n      }\n    },\n    {\n      \"column\": \"timestamp\",\n      \"properties\": {\n        \"dtype\": \"category\",\n        \"num_unique_values\": 68,\n        \"samples\": [\n          \"reviewed in the united states october 30, 2024\",\n          \"reviewed in the united states december 22, 2024\",\n          \"reviewed in the united states january 5, 2025\"\n        ],\n        \"semantic_type\": \"\",\n        \"description\": \"\"\n      }\n    },\n    {\n      \"column\": \"profile_id\",\n      \"properties\": {\n        \"dtype\": \"string\",\n        \"num_unique_values\": 420,\n        \"samples\": [\n          \"ae4sbwrg7736ziic7z3kmqua47zq\",\n          \"ahecytssjsodqi4ltzusxtk7saha\",\n          \"ahxkytknmoi7b7ghb553sjsj6omq\"\n        ],\n        \"semantic_type\": \"\",\n        \"description\": \"\"\n      }\n    },\n    {\n      \"column\": \"is_verified\",\n      \"properties\": {\n        \"dtype\": \"boolean\",\n        \"num_unique_values\": 1,\n        \"samples\": [\n          false\n        ],\n        \"semantic_type\": \"\",\n        \"description\": \"\"\n      }\n    },\n    {\n      \"column\": \"helpful_count\",\n      \"properties\": {\n        \"dtype\": \"number\",\n        \"std\": 1,\n        \"min\": 0,\n        \"max\": 14,\n        \"num_unique_values\": 10,\n        \"samples\": [\n          5\n        ],\n        \"semantic_type\": \"\",\n        \"description\": \"\"\n      }\n    },\n    {\n      \"column\": \"product_attributes\",\n      \"properties\": {\n        \"dtype\": \"category\",\n        \"num_unique_values\": 1,\n        \"samples\": [\n          \"{}\"\n        ],\n        \"semantic_type\": \"\",\n        \"description\": \"\"\n      }\n    },\n    {\n      \"column\": \"date\",\n      \"properties\": {\n        \"dtype\": \"object\",\n        \"num_unique_values\": 68,\n        \"samples\": [\n          \"10/30/2024\"\n        ],\n        \"semantic_type\": \"\",\n        \"description\": \"\"\n      }\n    },\n    {\n      \"column\": \"review length\",\n      \"properties\": {\n        \"dtype\": \"number\",\n        \"std\": 36,\n        \"min\": 2,\n        \"max\": 289,\n        \"num_unique_values\": 105,\n        \"samples\": [\n          47\n        ],\n        \"semantic_type\": \"\",\n        \"description\": \"\"\n      }\n    },\n    {\n      \"column\": \"polarity\",\n      \"properties\": {\n        \"dtype\": \"number\",\n        \"std\": 0.18221012256236913,\n        \"min\": -0.25,\n        \"max\": 0.75,\n        \"num_unique_values\": 280,\n        \"samples\": [\n          0.1377777777777777\n        ],\n        \"semantic_type\": \"\",\n        \"description\": \"\"\n      }\n    },\n    {\n      \"column\": \"subjectivity\",\n      \"properties\": {\n        \"dtype\": \"number\",\n        \"std\": 0.102320576507195,\n        \"min\": 0.1981481481481481,\n        \"max\": 0.7933333333333332,\n        \"num_unique_values\": 245,\n        \"samples\": [\n          0.5664835164835165\n        ],\n        \"semantic_type\": \"\",\n        \"description\": \"\"\n      }\n    },\n    {\n      \"column\": \"sentiment\",\n      \"properties\": {\n        \"dtype\": \"category\",\n        \"num_unique_values\": 3,\n        \"samples\": [\n          \"Positive\"\n        ],\n        \"semantic_type\": \"\",\n        \"description\": \"\"\n      }\n    }\n  ]\n}"
            }
          },
          "metadata": {},
          "execution_count": 4
        }
      ]
    },
    {
      "cell_type": "code",
      "source": [
        "# Check unique products in your dataset\n",
        "unique_products = df['product_name'].unique()\n",
        "print(\"Products in dataset:\")\n",
        "for product in unique_products:\n",
        "    print(f\"- {product}\")"
      ],
      "metadata": {
        "colab": {
          "base_uri": "https://localhost:8080/"
        },
        "id": "HxHfALrCFjjp",
        "outputId": "03debff6-9e3d-49aa-c443-a8d736e5810e"
      },
      "execution_count": null,
      "outputs": [
        {
          "output_type": "stream",
          "name": "stdout",
          "text": [
            "Products in dataset:\n",
            "- beats pill\n",
            "- jbl flip 6\n",
            "- bose soundlink flex\n",
            "- anker soundcore 2\n",
            "- doss soundbox touch\n",
            "- tribit xsound go\n"
          ]
        }
      ]
    },
    {
      "cell_type": "code",
      "source": [
        "def analyze_basic_product(reviews, product_name):\n",
        "    prompt_message = f\"\"\"Analyze these reviews for {product_name}:\n",
        "    1. What are the top 3 most mentioned features?\n",
        "    2. What do customers love most about this product?\n",
        "    3. What are the most common complaints?\n",
        "\n",
        "    Please provide specific examples from the reviews.\"\"\"\n",
        "\n",
        "    return analyze_reviews(reviews, api_key, prompt_message)"
      ],
      "metadata": {
        "id": "mogbCZx6DTrg"
      },
      "execution_count": null,
      "outputs": []
    },
    {
      "cell_type": "code",
      "source": [
        "# Analyze beats product\n",
        "beats_product_reviews = df[df['product_name'] == 'beats pill']['content'].tolist()[:100]\n",
        "beats_basic_insights = analyze_basic_product(beats_product_reviews, 'beats pill')\n",
        "print(beats_basic_insights)"
      ],
      "metadata": {
        "colab": {
          "base_uri": "https://localhost:8080/",
          "height": 505
        },
        "id": "TaS1Pwf0J3A1",
        "outputId": "6b8d2816-1ea4-43d9-e8e2-34d5d89062f5"
      },
      "execution_count": null,
      "outputs": [
        {
          "output_type": "stream",
          "name": "stdout",
          "text": [
            "Based on the provided Beats Pill reviews, here's an analysis:\n",
            "\n",
            "**1. Top 3 Most Mentioned Features:**\n",
            "\n",
            "1. **Sound Quality:** This is overwhelmingly the most frequently mentioned feature.  Reviewers consistently praise the \"amazing,\" \"booming,\" \"great,\" and \"impressive\" sound quality, especially the bass response for its size.  Examples include:  \"the sound quality is amazing,\" \"the booming sound that comes out of this speaker is amazing,\"  \"the bass is rich and punchy,\" and \"this speaker sounds amazing, especially the bass.\"\n",
            "\n",
            "2. **Portability/Size:** Many reviewers highlight the speaker's compact size and ease of portability.  Phrases like \"easy to carry,\" \"perfect size,\" \"small but really powerful,\" and descriptions of using it on a bike or in a backpack all emphasize this aspect.\n",
            "\n",
            "3. **Ease of Pairing/Connectivity:**  Several reviewers mention the straightforward Bluetooth pairing process with their devices.  For example: \"it connects through Bluetooth very easy,\" \"pairing with the iPhone was literally the touch of one button,\" and \"easy hook up sounds great.\"\n",
            "\n",
            "\n",
            "**2. What Customers Love Most About This Product:**\n",
            "\n",
            "Customers overwhelmingly love the Beats Pill's **exceptional sound quality relative to its small size**.  Many were surprised by the rich bass and overall clarity, often comparing it favorably to larger, more expensive speakers.  The **portability** and **easy setup** are also major selling points, making it ideal for travel, small gatherings, or everyday use.  The value for money, especially at discounted prices, is another frequently cited positive.\n",
            "\n",
            "\n",
            "**3. Most Common Complaints:**\n",
            "\n",
            "1. **Battery Life:**  A recurring complaint is that the battery life falls short of the advertised 24 hours. Several reviewers report significantly shorter battery durations, especially at higher volumes. Example: \"the battery life does die like crazy,\" and \"battery also shortens at louder volumes, I've found it to last around 1 week with moderate use, but def not the 24 hours as promised.\"\n",
            "\n",
            "2. **Volume/Loudness:** While many praise the sound quality, some feel the volume isn't sufficient for the price, especially at higher volume levels.  Examples: \"the sound is not very loud as i was hoping for,\" and \"sound is solid. thought maybe more volume for the buck.\"  Note this is sometimes contradictory since many say it's loud enough for their needs.\n",
            "\n",
            "3. **Quality Control Issues:** A few reviews mention receiving damaged or defective units (bent, dirty), highlighting potential inconsistencies in product quality.  One reviewer experienced a speaker that wouldn't turn off. Example: \"the beat pill arrived with a noticeable bend and some dirt on it\" and \"this speaker must have come from failed quality control\".\n",
            "\n",
            "\n",
            "In summary, the Beats Pill receives high praise for its sound quality and portability but faces criticism for inconsistent battery life and occasional quality control problems.  The perceived value often depends on the purchase price.\n",
            "\n"
          ]
        }
      ]
    },
    {
      "cell_type": "code",
      "source": [
        "# Analyze jbl product\n",
        "jbl_product_reviews = df[df['product_name'] == 'jbl flip 6']['content'].tolist()[:100]\n",
        "jbl_basic_insights = analyze_basic_product(jbl_product_reviews, 'jbl flip 6')\n",
        "print(jbl_basic_insights)"
      ],
      "metadata": {
        "colab": {
          "base_uri": "https://localhost:8080/",
          "height": 471
        },
        "id": "vh4JV9qQJ7bw",
        "outputId": "ec5e0f23-b000-4dee-bf7f-0f8689e19add"
      },
      "execution_count": null,
      "outputs": [
        {
          "output_type": "stream",
          "name": "stdout",
          "text": [
            "Based on the provided reviews, here's an analysis of the JBL Flip 6:\n",
            "\n",
            "**1. Top 3 Most Mentioned Features:**\n",
            "\n",
            "1. **Sound Quality:** This is overwhelmingly the most frequently praised aspect.  Reviewers consistently describe the sound as \"great,\" \"amazing,\" \"crystal clear,\" \"powerful,\" with \"deep bass,\" and \"clear music.\"  Examples include:  \"crystal clear music and plenty loud,\" \"i love the sound of it, and it’s clear sound!,\" \"great sound quality,\" and \"this speaker sounds very good...especially considering the small size.\"\n",
            "\n",
            "2. **Portability/Compact Size:** The small size and ease of carrying are frequently highlighted as positive attributes.  Phrases like \"very portable,\" \"small and compact,\" \"perfect for traveling,\" and \"easy to carry around\" appear repeatedly.  One reviewer even mentions its fit in a golf cart cup holder.\n",
            "\n",
            "3. **Loudness/Volume:**  Many reviewers emphasize the surprisingly loud output for such a small speaker.  Examples include:  \"plenty loud for any teen room,\" \"amazingly loud for its size,\" and \"i love how loud this tiny speaker gets.\"\n",
            "\n",
            "\n",
            "**2. What Customers Love Most About This Product:**\n",
            "\n",
            "Customers overwhelmingly love the JBL Flip 6's exceptional sound quality for its size.  They appreciate its powerful bass and clear sound reproduction across various frequencies.  The portability and compact design are also major selling points, making it ideal for travel, outdoor use, and general convenience.  Many also implicitly value its durability and waterproof features (IPX7), although this is mentioned less frequently than sound and portability.\n",
            "\n",
            "**3. Most Common Complaints:**\n",
            "\n",
            "1. **Battery Life:** While many praise the battery life as \"long lasting,\" several reviews express disappointment, claiming the battery dies much sooner than advertised (e.g., \"after 3 hours it always dies even tho it said the battery life was 3-4 times longer\").\n",
            "\n",
            "2. **Lack of Battery Warning:** A significant number of reviewers mention the absence of a low battery warning, either through a beep or app notification.  They find this frustrating, as they have to constantly check the app to monitor the battery level.\n",
            "\n",
            "3. **Volume Control (and Startup Sound):** One review specifically points out that the volume is only adjustable from the connected device, not on the speaker itself.  This reviewer also highlights the unexpectedly loud startup and shutdown sounds.\n",
            "\n",
            "Other less frequent complaints include occasional shipping delays from certain sellers and, in one isolated case, a reported interference issue causing the speaker to cut out.\n",
            "\n"
          ]
        }
      ]
    },
    {
      "cell_type": "code",
      "source": [
        "# Analyze bose product\n",
        "bose_product_reviews = df[df['product_name'] == 'bose soundlink flex']['content'].tolist()[:100]\n",
        "bose_basic_insights = analyze_basic_product(bose_product_reviews, 'bose soundlink flex')\n",
        "print(bose_basic_insights)"
      ],
      "metadata": {
        "colab": {
          "base_uri": "https://localhost:8080/",
          "height": 523
        },
        "id": "THIUOlxOKafj",
        "outputId": "eae4cff5-537d-4aa0-dd7f-295d8e6916b8"
      },
      "execution_count": null,
      "outputs": [
        {
          "output_type": "stream",
          "name": "stdout",
          "text": [
            "Based on the provided reviews, here's an analysis of the Bose Soundlink Flex:\n",
            "\n",
            "**1. Top 3 Most Mentioned Features:**\n",
            "\n",
            "1. **Sound Quality:** This is overwhelmingly the most frequently praised aspect.  Reviewers consistently describe the sound as \"amazing,\" \"rich,\" \"crisp,\" \"clear,\" \"excellent,\" with many comparing it favorably to other brands and even higher-priced systems.  Examples include:  \"amazing sound for such a little guy,\" \"best sounding portable speaker I've ever encountered,\" \"bose simply has amazing, room filling sound,\" and \"the sound is rich, crisp, and clear, with deep bass.\"\n",
            "\n",
            "2. **Portability:**  The small size and lightweight design are frequently highlighted as major plus points.  Reviewers mention its suitability for carrying in purses, on hikes, to the beach, etc.  Examples: \"the size it’s small enough to where it can fit in a purse,\" \"perfect for outdoor adventures,\"  \"it’s lightweight and compact,\" and \"great size, very functional.\"\n",
            "\n",
            "3. **Battery Life:** While some experienced shorter battery life than expected, many reviewers praised the long battery life. The feature of the speaker telling you the remaining battery life is also mentioned positively. Examples include: \"battery lasts long though,\" \"the battery lasts as advertised,\" \"battery life is outstanding,\" and \"great product and continuously plays for up to 9 hours until next recharge.\"\n",
            "\n",
            "\n",
            "**2. What Customers Love Most:**\n",
            "\n",
            "Customers overwhelmingly love the exceptional sound quality for its size, exceeding expectations for a portable speaker.  They appreciate the balance of bass and clarity, and the ability to produce full, rich sound. The portability and ease of use are also highly valued, making it convenient for various situations – from home use to outdoor adventures.  The sleek design also receives positive comments.  The ease of Bluetooth pairing is frequently noted.\n",
            "\n",
            "**3. Most Common Complaints:**\n",
            "\n",
            "1. **Battery Life:** Although many praise the battery, some report significantly shorter battery life than advertised or expected (e.g., \"really disappointed that the device barely holds a charge for two hours\").\n",
            "\n",
            "2. **Lack of Included Accessories:** Several reviewers complain about the absence of a charging cable in the box.  (\"looked everywhere for a cable for charging apparently it didn’t come with one\").\n",
            "\n",
            "3. **Volume/Loudness in Noisy Environments:** Some users found the speaker not loud enough to overcome ambient noise (\"I am disappointed that these are not loud enough to overcome ambient noises\").\n",
            "\n",
            "4. **Bluetooth Connectivity Issues:**  One user described an annoying automatic reconnection issue where the speaker would unexpectedly connect and interrupt other audio sources.  Another mentioned issues with pairing with older generation speakers.\n",
            "\n",
            "\n",
            "In summary, the Bose Soundlink Flex receives significant praise for its sound quality and portability but suffers from some negative feedback regarding battery life inconsistencies, missing accessories, and volume limitations in certain environments.  The Bluetooth connectivity also seems to have caused some problems for a subset of users.\n",
            "\n"
          ]
        }
      ]
    },
    {
      "cell_type": "code",
      "source": [
        "# Analyze anker product\n",
        "anker_product_reviews = df[df['product_name'] == 'anker soundcore 2']['content'].tolist()[:100]\n",
        "anker_basic_insights = analyze_basic_product(anker_product_reviews, 'anker soundcore 2')\n",
        "print(anker_basic_insights)"
      ],
      "metadata": {
        "colab": {
          "base_uri": "https://localhost:8080/",
          "height": 661
        },
        "id": "yPnWEzXWKbHM",
        "outputId": "e1586f1c-d4b2-4923-ce05-4c7006e58777"
      },
      "execution_count": null,
      "outputs": [
        {
          "output_type": "stream",
          "name": "stdout",
          "text": [
            "Analysis of Anker Soundcore 2 Reviews:\n",
            "\n",
            "**1. Top 3 Most Mentioned Features:**\n",
            "\n",
            "1. **Sound Quality:**  This is overwhelmingly the most frequent positive comment.  Many reviewers praise the \"great sound,\" \"excellent sound quality,\" and how it \"sounds like my Bose II Bluetooth speakers\" for its size and price.  Others even bought multiple units to achieve stereo sound.  Conversely, some found it \"not loud enough\" or experienced \"very mono sound.\"\n",
            "\n",
            "2. **Portability/Durability:** The speaker's small size and durability are frequently highlighted. Users mention taking it snowboarding, to the shower, the garage, golf cart, and even a camper. Descriptors include \"portable,\" \"durable,\"  \"small footprint,\" and \"easy to transport.\"\n",
            "\n",
            "3. **Battery Life:**  Both positive and negative comments relate to battery life.  While many appreciate the \"long battery life\" and ability to last \"for several hours,\" some experienced shorter-than-expected battery performance, like using \"30% battery in 3 hours on medium volume.\"\n",
            "\n",
            "\n",
            "**2. What Customers Love Most About This Product:**\n",
            "\n",
            "Customers primarily love the Anker Soundcore 2's surprisingly good sound quality for its compact size and affordable price.  Many find it a superior alternative to more expensive brands, offering comparable audio performance at a fraction of the cost. The ease of use, durable build, and long battery life (in most cases) are also frequently cited as positive attributes.  Examples include:\n",
            "\n",
            "* \"Great sound for a good price!\"\n",
            "* \"Fantastic sound for such a small unit.\"\n",
            "* \"Sounds like my Bose II Bluetooth speakers.\"\n",
            "* \"Easy to use and durable.\"\n",
            "* \"Long battery life, strong Bluetooth connection, fantastic sound for the size and price.\"\n",
            "\n",
            "\n",
            "**3. Most Common Complaints:**\n",
            "\n",
            "The most prevalent negative feedback revolves around several key issues:\n",
            "\n",
            "* **Sound Quality Issues (despite generally positive reviews):**  While many praised the sound, some found the volume insufficient for larger spaces or experienced a mono sound, a noticeable audio delay (latency), particularly with aux input and videos.  One review states, \"this is so quiet, i had to switch over to my echo dot...\" Another reports a \"1-2 second audio delay.\"\n",
            "\n",
            "* **Battery Life Inconsistency:** Though generally positive, some users reported significantly shorter battery life than advertised.  One review mentions using \"30% battery in 3 hours on medium volume.\"\n",
            "\n",
            "* **Soundcore App Incompatibility:**  A recurring complaint is that the Anker Soundcore 2 is incompatible with the Soundcore app, a feature many users expected or desired.  One user stated, \"this specific model is not compatible with the soundcore app. wish i’d known before purchasing...\"\n",
            "\n",
            "* **Recall/Potential Fire Hazard:**  A significant number of reviews mention a product recall due to a potential fire hazard from the battery, creating significant concern among users.  One user stated,  \"this was working great for several months and then anker sent out a recall with the basic message of 'this battery my cause a fire.'\"  Another review says, \"do not buy this product. it has been recalled by the vendor as a fire hazard.\"\n",
            "\n",
            "In summary, the Anker Soundcore 2 receives generally positive reviews for its sound quality and portability, but several recurring issues, including battery life inconsistencies, app incompatibility, and a product recall, should be considered before purchasing.\n",
            "\n"
          ]
        }
      ]
    },
    {
      "cell_type": "code",
      "source": [
        "# Analyze doss product\n",
        "doss_product_reviews = df[df['product_name'] == 'doss soundbox touch']['content'].tolist()[:100]\n",
        "doss_basic_insights = analyze_basic_product(anker_product_reviews, 'doss soundbox touch')\n",
        "print(doss_basic_insights)"
      ],
      "metadata": {
        "colab": {
          "base_uri": "https://localhost:8080/",
          "height": 575
        },
        "id": "bxjL6joQKbDj",
        "outputId": "68a5210f-c967-4703-ae8a-0b152fd1a1ff"
      },
      "execution_count": null,
      "outputs": [
        {
          "output_type": "stream",
          "name": "stdout",
          "text": [
            "Based on the provided reviews, here's an analysis of the Doss Soundbox Touch (assuming the reviews refer to this specific model, as some mention \"Anker Soundcore 2,\" which may be a different product):\n",
            "\n",
            "**1. Top 3 Most Mentioned Features:**\n",
            "\n",
            "1. **Sound Quality:**  This is overwhelmingly the most frequently praised aspect.  Reviewers repeatedly describe the sound as \"great,\" \"excellent,\" \"fantastic,\" \"intense,\" \"surprising,\" and comparable to more expensive brands like Bose.  Examples:  \"great sound for a good price!\", \"excellent sound quality,\" \"fantastic sound for the size and price,\" \"sounds like my Bose II Bluetooth speakers.\"\n",
            "\n",
            "2. **Portability/Size:** The small and compact size is frequently highlighted as a positive.  Many mention using it in various locations like backpacks, bathrooms, garages, golf carts, and even showers. Examples: \"the sound is great and it is portable,\" \"so tiny!\", \"easily portable,\" \"slightly larger than a big candy bar.\"\n",
            "\n",
            "3. **Battery Life:**  While some users experienced shorter battery life than expected, many others lauded its long battery duration.  Examples: \"long battery life,\" \"full charge can last for several hours,\" \"the battery seems to last forever,\" \"goes hard for a long time.\"\n",
            "\n",
            "\n",
            "**2. What Customers Love Most About This Product:**\n",
            "\n",
            "Customers primarily love the surprisingly good sound quality given its small size and affordable price. The portability and ease of use are also major selling points. Many appreciate that it punches above its weight class in terms of audio performance compared to similarly priced competitors.  The long battery life (for many users) is another key positive. The overall value for money is a recurring theme in positive reviews.\n",
            "\n",
            "\n",
            "**3. Most Common Complaints:**\n",
            "\n",
            "1. **Volume/Power:** Some users found the speaker not loud enough, especially for outdoor use or larger spaces. One reviewer explicitly stated that 12W was insufficient and suggested a minimum of 20W. Example: \"not loud enough. maybe i didn't understand 12w power.\"\n",
            "\n",
            "2. **Battery Life (Inconsistency):** While many praised battery life, others experienced significantly shorter battery life than advertised or expected,  even at moderate volume levels.  Example: \"used 30% battery in 3 hours on medium volume. will not come close to 24 hours playtime.\"\n",
            "\n",
            "3. **Connectivity Issues/Compatibility:** Several reviews mentioned problems with Bluetooth connectivity, including difficulty pairing and spotty reception at distances.  One major complaint was the lack of compatibility with the Soundcore app. Examples: \"speaker doesn’t connect to sound core app,\" \"attempted repeatedly to pair with my phone… had to return,\"  \"this specific model is not compatible with the soundcore app.\"\n",
            "\n",
            "4. **Recall/Fire Hazard:** A significant number of reviews referred to a product recall due to a potential fire hazard associated with the battery. This is a serious concern that overshadows other positive aspects for some users. Example: \"this was working great for several months and then anker sent out a recall with the basic message of 'this battery my cause a fire.'\"\n",
            "\n",
            "5. **Audio Delay:** Some users reported noticeable audio delay, especially when using the AUX input. Example: \"there is a 1-2 second audio delay when a video is played.\"\n",
            "\n",
            "\n",
            "It's important to note that the reviews are mixed. While many users are highly satisfied, others experienced significant issues. The recall announcement dramatically impacts the overall perception of the product.\n",
            "\n"
          ]
        }
      ]
    },
    {
      "cell_type": "code",
      "source": [
        "# Analyze anker product\n",
        "tribit_product_reviews = df[df['product_name'] == 'tribit xsound go']['content'].tolist()[:100]\n",
        "tribit_basic_insights = analyze_basic_product(anker_product_reviews, 'tribit xsound go')\n",
        "print(tribit_basic_insights)"
      ],
      "metadata": {
        "colab": {
          "base_uri": "https://localhost:8080/",
          "height": 488
        },
        "id": "goJ4rtiUKadd",
        "outputId": "661eb4f6-90b7-479b-a591-a03ad66875d7"
      },
      "execution_count": null,
      "outputs": [
        {
          "output_type": "stream",
          "name": "stdout",
          "text": [
            "Based on the provided reviews, here's an analysis of the Tribit XSound Go (it seems some reviews refer to Anker Soundcore, possibly a similar product line, but I'll focus on the aspects applicable to both):\n",
            "\n",
            "**1. Top 3 Most Mentioned Features:**\n",
            "\n",
            "1. **Sound Quality:** This is overwhelmingly the most frequent positive comment.  Reviewers consistently praise the \"great sound,\" \"excellent sound quality,\" \"fantastic sound for the size and price,\" and even comparisons to more expensive brands like Bose.  Examples:  \"great sound for a good price!\", \"excellent sound quality, very durable,\" \"great, affordable speaker that sounds like my Bose II Bluetooth speakers.\"\n",
            "\n",
            "2. **Portability/Durability:** The small size and ruggedness are frequently highlighted. People use it in various locations – backpacks, showers, garages, golf carts, even while snowboarding. Examples: \"my daughter bought this for her boyfriend. he uses it in his backpack while he snowboards. the sound is great and it is portable,\" \"hefty speaker, very portable, durable outdoor speaker,\" \"this speaker is small but very powerful. ideal for taking it anywhere.\"\n",
            "\n",
            "3. **Battery Life:**  Many reviewers mention the long battery life as a positive aspect. Examples:  \"long battery life, strong Bluetooth connection,\" \"the power can lasts for hours,\" \"sounds good and battery life is great.\"\n",
            "\n",
            "\n",
            "**2. What Customers Love Most About This Product:**\n",
            "\n",
            "Customers primarily love the surprising audio quality relative to its size and price. The compact and durable design makes it incredibly versatile, suitable for various settings and activities. The long battery life is also a significant plus, allowing for extended use without needing frequent charging.  The overall value for money is a recurring theme.\n",
            "\n",
            "**3. Most Common Complaints:**\n",
            "\n",
            "1. **Volume/Power:** Some users found the speaker not loud enough, especially in outdoor settings. One reviewer directly compared it unfavorably to a JBL Flip 5 (20W) suggesting the Tribit XSound Go's 12W wasn't sufficient.  Example: \"not loud enough. maybe i didn't understand 12w power. think 20w is a minimum for options of sound. if outside, better go 40w.\"\n",
            "\n",
            "2. **Connectivity/Pairing Issues:** A few reviewers experienced difficulties pairing the speaker with their phones or reported spotty Bluetooth reception in certain areas.  Example: \"attempted repeatedly to pair with my phone. anker was fully charged. i restarted both my phone and the device. no issues pairing to other devices with the same phone. had to return.\"\n",
            "\n",
            "3. **Recall/Reliability:**  A significant number of reviews mention a product recall due to a potential fire hazard related to the battery.  This raises serious concerns about the long-term reliability of the device. Examples: \"this was working great for several months and then anker sent out a recall with the basic message of 'this battery my cause a fire.' so there is that.\", \"do not buy this product. it has been recalled by the vendor as a fire hazard.\"\n",
            "\n",
            "\n",
            "It's crucial to note that the reviews included a mix of experiences with potentially different versions of the Tribit XSound Go or similar Anker speakers.  The recall issue particularly highlights the importance of checking for updates and safety notices before and after purchasing.\n",
            "\n"
          ]
        }
      ]
    },
    {
      "cell_type": "markdown",
      "source": [
        "# Sentiment-Based Analysis"
      ],
      "metadata": {
        "id": "2fiTsILmE9a9"
      }
    },
    {
      "cell_type": "code",
      "source": [
        "# Check unique products in your dataset\n",
        "unique_products = df['product_name'].unique()\n",
        "print(\"Products in dataset:\")\n",
        "for product in unique_products:\n",
        "    print(f\"- {product}\")"
      ],
      "metadata": {
        "colab": {
          "base_uri": "https://localhost:8080/"
        },
        "id": "rgKzy2dHMZ-k",
        "outputId": "6e7811d9-0c3e-4c9b-f7e0-b49a238e8a85"
      },
      "execution_count": null,
      "outputs": [
        {
          "output_type": "stream",
          "name": "stdout",
          "text": [
            "Products in dataset:\n",
            "- beats pill\n",
            "- jbl flip 6\n",
            "- bose soundlink flex\n",
            "- anker soundcore 2\n",
            "- doss soundbox touch\n",
            "- tribit xsound go\n"
          ]
        }
      ]
    },
    {
      "cell_type": "code",
      "source": [
        "def analyze_sentiment_patterns(reviews, sentiment_category, product_name):\n",
        "    prompt_message = f\"\"\"Analyze these {sentiment_category.lower()} reviews for {product_name}:\n",
        "    1. What specific aspects create {sentiment_category.lower()} reactions?\n",
        "    2. Identify common phrases or descriptions used\n",
        "    3. Note any comparisons with competitor products\n",
        "    4. Find unexpected or unique feedback\n",
        "\n",
        "    Support your analysis with specific examples.\"\"\"\n",
        "\n",
        "    return analyze_reviews(reviews, api_key, prompt_message)"
      ],
      "metadata": {
        "id": "agJ-1DLXE_uA"
      },
      "execution_count": null,
      "outputs": []
    },
    {
      "cell_type": "markdown",
      "source": [
        "## Beats"
      ],
      "metadata": {
        "id": "5TL0q1Egqbvq"
      }
    },
    {
      "cell_type": "code",
      "source": [
        "# Analyze positive beats product reviews\n",
        "beats_positive_reviews = df[\n",
        "    (df['product_name'] == 'beats pill') &\n",
        "    (df['sentiment'] == 'Positive')\n",
        "]['content'].tolist()[:100]\n",
        "\n",
        "beats_positive_insights = analyze_sentiment_patterns(\n",
        "    beats_positive_reviews,\n",
        "    'Positive',\n",
        "    'beats pill'\n",
        ")\n",
        "\n",
        "print(beats_positive_insights)"
      ],
      "metadata": {
        "colab": {
          "base_uri": "https://localhost:8080/",
          "height": 765
        },
        "id": "sOtRbcmOL2YH",
        "outputId": "17512d8a-05d7-4b32-82f7-008adea70d2e"
      },
      "execution_count": null,
      "outputs": [
        {
          "output_type": "stream",
          "name": "stdout",
          "text": [
            "Analysis of Positive Beats Pill Reviews:\n",
            "\n",
            "**1. Specific Aspects Creating Positive Reactions:**\n",
            "\n",
            "* **Sound Quality:**  This is the most frequently praised aspect.  Reviewers consistently describe the sound as \"amazing,\" \"awesome,\" \"great,\" \"booming,\" \"clear,\" \"crisp,\"  \"rich,\" and \"punchy,\" especially considering the speaker's small size. The bass response is highlighted multiple times as surprisingly strong and impactful.  For example:  \"the booming sound that comes out of this speaker is amazing. when i have this playing in my living room the sound fills the house like a stereo system,\" and  \"the bass is rich and punchy, providing a depth of sound that you wouldn’t expect from a portable speaker this small.\"\n",
            "\n",
            "* **Portability and Size:** The compact size and ease of carrying are frequently mentioned as advantages.  Reviewers appreciate its ability to fit in backpacks and its lightweight nature.  Examples include: \"it has great sound quality, is so easy to carry and put in a backpack, i flew easily and was able to travel with it no problem,\" and  \"perfect size and great sound!\"\n",
            "\n",
            "* **Ease of Use/Pairing:** The simplicity of Bluetooth pairing is another recurring positive. Users find it quick and straightforward to connect to their devices.  Examples include: \"the sound quality is amazing, it’s easy to pair. i love it!\", and \"pairing with the iphone was literally the touch of one button.\"\n",
            "\n",
            "* **Value for Money:** Several reviewers emphasize the Beats Pill as offering excellent value, particularly when purchased on sale for around $99.  Phrases like \"great value,\" \"a steal,\" and \"well worth the $99\" appear.\n",
            "\n",
            "**2. Common Phrases and Descriptions:**\n",
            "\n",
            "* \"Amazing sound quality\" or variations thereof\n",
            "* \"Great sound\" or \"Sounds great\"\n",
            "* \"Easy to pair\" or \"Easy to connect\"\n",
            "* \"Loud and clear\"\n",
            "* \"Perfect size\"\n",
            "* \"Portable\"\n",
            "* \"Booming bass\" or \"Great bass\"\n",
            "\n",
            "\n",
            "**3. Comparisons with Competitor Products:**\n",
            "\n",
            "* **JBL Flip:** One reviewer explicitly states they returned a JBL Flip due to distortion issues, highlighting the Beats Pill's superior sound across all frequencies.\n",
            "* **Anker:** Another reviewer switched from an Anker speaker due to interference and inferior sound quality, citing the Beats Pill's superior performance and lack of interference.\n",
            "* **Bose Flex 2 and Marshall Emerton 2:** A reviewer compared the Beats Pill to these competitors, acknowledging the Bose's reputation for sound quality but stating they were not disappointed with the Beats Pill.\n",
            "* **Klipsch Nashville and Bose Soundlink:**  A user ultimately preferred a Klipsch Nashville and Bose Soundlink due to better sound for a wider variety of music and lighter weight, respectively, implying a tradeoff between sound and portability for the Beats Pill.\n",
            "\n",
            "\n",
            "**4. Unexpected or Unique Feedback:**\n",
            "\n",
            "* **Use with a TV:** One reviewer primarily used the speaker to connect to their TV via Bluetooth but found the connection unstable. This highlights a potential limitation not often discussed.\n",
            "* **Use as a work radio:** One reviewer uses it as their work radio, demonstrating its suitability for extended use.\n",
            "* **Tampered with product:** One review highlights the product arriving seemingly opened, impacting the gifting experience.\n",
            "* **Difficulty turning off:** One review points out that turning the speaker off was cumbersome.\n",
            "* **Control visibility:** A user found the controls hard to see on their black speaker, suggesting a design consideration.\n",
            "\n",
            "\n",
            "In summary, the positive reviews strongly suggest the Beats Pill excels in sound quality for its size, is easy to use and portable, and offers good value, particularly at lower price points. However, some limitations regarding battery life, maximum volume distortion, and control visibility are also mentioned.  The comparison to competitors showcases its competitive position within the market, while the unique feedback provides valuable insights into less common use cases and potential areas for improvement.\n",
            "\n"
          ]
        }
      ]
    },
    {
      "cell_type": "code",
      "source": [
        "# Analyze neutral or negative beats product reviews\n",
        "beats_neutral_negative_reviews = df[\n",
        "    (df['product_name'] == 'beats pill') &\n",
        "    (df['sentiment'] == 'Neutral') | (df['sentiment'] == 'Negative')\n",
        "]['content'].tolist()[:100]\n",
        "\n",
        "beats_neutral_negative_insights = analyze_sentiment_patterns(\n",
        "    beats_positive_reviews,\n",
        "    'Neutral or Negative',\n",
        "    'beats pill'\n",
        ")\n",
        "\n",
        "print(beats_neutral_negative_insights)"
      ],
      "metadata": {
        "colab": {
          "base_uri": "https://localhost:8080/",
          "height": 852
        },
        "id": "nzAimRfupFoN",
        "outputId": "34adb4f6-5022-4fdb-a802-09988151a59b"
      },
      "execution_count": null,
      "outputs": [
        {
          "output_type": "stream",
          "name": "stdout",
          "text": [
            "Analysis of Beats Pill Reviews:\n",
            "\n",
            "**1. Specific Aspects Creating Neutral or Negative Reactions:**\n",
            "\n",
            "* **Battery Life:**  A recurring complaint is that the battery life falls significantly short of the advertised 24 hours, especially at higher volumes.  One user reported only 6-7 hours of playtime.  Another noted a week of moderate use, far less than the claimed 24 hours.\n",
            "\n",
            "* **Volume and Distortion:** While many praise the sound quality, some find the maximum volume insufficient or experience distortion at higher volumes.  Several users suggest keeping the volume below 75% for optimal sound.\n",
            "\n",
            "* **Controls and Pairing:**  A few users found the controls somewhat cumbersome, particularly the process of pairing new devices.\n",
            "\n",
            "* **Physical Condition of the Product:** One review highlights receiving a bent and dirty speaker, requiring a replacement. Another mentions the speaker being heavier than expected, impacting portability for travel.\n",
            "\n",
            "* **Sound Quality Discrepancies:**  While most reviews rave about the sound, some express that they expected more volume for the price, comparing it unfavorably to cheaper alternatives with comparable volume. One reviewer specifically noted the inability to maintain a Bluetooth link with their TV.\n",
            "\n",
            "* **Advertised Features:** The 24-hour battery life claim is frequently challenged.\n",
            "\n",
            "\n",
            "**2. Common Phrases and Descriptions:**\n",
            "\n",
            "* \"Great sound quality\" / \"Amazing sound\" / \"Sounds great\" – these are extremely common positive phrases.\n",
            "* \"Loud and clear\" – used to describe the audio output.\n",
            "* \"Easy to pair\" –  frequently mentioned positive aspect of Bluetooth connectivity.\n",
            "* \"Lightweight\" and \"Easy to carry\" – highlight the portability.\n",
            "* \"Short battery life\" / \"Doesn't hold a charge\" – recurring negative comments regarding the battery.\n",
            "* \"Distortion at max volume\" – describes a common negative sonic experience.\n",
            "\n",
            "\n",
            "**3. Comparisons with Competitor Products:**\n",
            "\n",
            "* Several reviews compare the Beats Pill to other popular portable Bluetooth speakers:\n",
            "    * **JBL Flip:** One user switched from a JBL Flip due to distortion issues, finding the Beats Pill superior.\n",
            "    * **Anker:** A user switched from an Anker speaker due to interference and inferior sound quality.\n",
            "    * **Bose Flex 2 and Marshall Emerton 2:** A review directly compares the Beats Pill with these, concluding it's a strong alternative despite Bose potentially having better sound quality in some opinions.\n",
            "    * **Klipsch Nashville and Bose Soundlink:** One user returned the Beats Pill and bought a Klipsch Nashville, citing preference for music variety and a lighter weight, similar to the Bose Soundlink.  This highlights the Beats Pill's perceived heaviness as a drawback.\n",
            "\n",
            "\n",
            "**4. Unexpected or Unique Feedback:**\n",
            "\n",
            "*  One user utilizes the speaker as a \"work radio,\" illustrating its use beyond typical listening scenarios.\n",
            "* The mention of the speaker's aesthetic appeal and its non-fabric covering, differentiating it from other speakers, is unusual feedback.\n",
            "* The review discussing the difficulty in seeing the controls on the black model shows unexpected concern about the product design.\n",
            "*  One reviewer used two Beats Pills to create a stereo setup for an outdoor projector, demonstrating a clever and unconventional application.\n",
            "* A user reported receiving a pre-opened speaker as a gift, highlighting an issue with the product's packaging or distribution.\n",
            "\n",
            "\n",
            "In summary, while overwhelmingly positive regarding sound quality and portability, the Beats Pill's reviews reveal inconsistencies in battery life, volume capabilities, and control usability.  Comparisons with competitors reveal a mixed bag, showcasing its strengths and weaknesses relative to other products in the market. The unexpected feedback highlights the speaker's versatility and reveals some unique user experiences and concerns.\n",
            "\n"
          ]
        }
      ]
    },
    {
      "cell_type": "markdown",
      "source": [
        "## JBL"
      ],
      "metadata": {
        "id": "lrwA8oNpqeJP"
      }
    },
    {
      "cell_type": "code",
      "source": [
        "# Analyze positive jbl product reviews\n",
        "jbl_positive_reviews = df[\n",
        "    (df['product_name'] == 'jbl flip 6') &\n",
        "    (df['sentiment'] == 'Positive')\n",
        "]['content'].tolist()[:100]\n",
        "\n",
        "jbl_positive_insights = analyze_sentiment_patterns(\n",
        "    jbl_positive_reviews,\n",
        "    'Positive',\n",
        "    'jbl flip 6'\n",
        ")\n",
        "\n",
        "print(jbl_positive_insights)"
      ],
      "metadata": {
        "colab": {
          "base_uri": "https://localhost:8080/",
          "height": 835
        },
        "id": "rpMRH436L3F3",
        "outputId": "da7b67fd-f756-4f68-9d60-cbf656eb4cdf"
      },
      "execution_count": null,
      "outputs": [
        {
          "output_type": "stream",
          "name": "stdout",
          "text": [
            "Analysis of Positive JBL Flip 6 Reviews:\n",
            "\n",
            "**1. Specific Aspects Creating Positive Reactions:**\n",
            "\n",
            "The overwhelmingly positive reactions center around the following aspects:\n",
            "\n",
            "* **Sound Quality:**  This is the most frequently praised feature.  Reviewers consistently highlight the \"great sound,\" \"clear sound,\" \"powerful sound,\" \"amazing sound quality,\" and \"deep bass\" despite the speaker's small size.  Many mention being able to hear individual instruments clearly.  Examples include:  \"i love the sound of it, and it’s clear sound!❣️❣️,\" \"great sound for this compact speaker,\" \"this speaker sounds very good to me, especially considering the small size,\" and \"the quality is just amazing, like you can hear all the different instruments very clearly\".\n",
            "\n",
            "* **Portability and Compact Size:** The JBL Flip 6's small size and ease of transport are repeatedly lauded.  Reviewers appreciate its suitability for travel, camping, the beach, and even fitting into a golf cart cup holder. Examples: \"great speaker, good volume and its very portable,\" \"it's perfect for traveling (camping, being on the beach, etc),\" and \"love sound and size fits in cup holder for golf\".\n",
            "\n",
            "* **Loudness:**  Many users were surprised by how loud the speaker gets for its size.  Phrases like \"amazingly loud for its size,\" \"very loud for such a small speaker,\" and \"i love how loud this tiny speaker gets\" emphasize this aspect.\n",
            "\n",
            "* **Waterproof Design (IPX7):** The waterproof nature of the speaker is a significant selling point, particularly for outdoor use. Examples include: \"the ipx7 waterproof feature is a game-changer,\" \"this version is also waterproof,\" and \"waterproof is a great plus for outdoor use.\"\n",
            "\n",
            "* **Battery Life:** While some users experienced shorter battery life than advertised, many found the battery to last \"a very long time\" or \"lasts a long time on a charge.\"\n",
            "\n",
            "* **Ease of Use:**  The simplicity of pairing and using the speaker is mentioned positively in several reviews: \"nice and simple to use works good and sounds clear,\" \"easy to pair, easy to position and stow.\"\n",
            "\n",
            "**2. Common Phrases and Descriptions:**\n",
            "\n",
            "* \"Great sound\" or variations thereof (\"amazing sound,\" \"powerful sound,\" \"clear sound\")\n",
            "* \"Very portable\" or \"compact size\"\n",
            "* \"Easy to use\" or \"easy to pair\"\n",
            "* \"Loud\" or \"amazingly loud for its size\"\n",
            "* \"Great battery life\" (though this is not universally true)\n",
            "* \"Perfect for traveling\" or similar\n",
            "\n",
            "\n",
            "**3. Comparisons with Competitor Products:**\n",
            "\n",
            "One review directly compares the JBL Flip 6 to Bose's compact speakers:  \"it is comparable to the compact bose speakers (which i have) in sound but cheaper.\" Another reviewer states that the JBL Flip 6 is \"20x better than the beats pill 2024.\"\n",
            "\n",
            "\n",
            "**4. Unexpected or Unique Feedback:**\n",
            "\n",
            "* **Unconventional Use Case:** One reviewer used the speaker to make audio audible for their grandparents, highlighting both the loudness and the camouflage option as enabling this.\n",
            "\n",
            "* **PartyBoost Feature Appreciation:**  One review specifically mentioned using the PartyBoost feature to connect multiple JBL speakers for a party, showcasing a feature not always highlighted.\n",
            "\n",
            "* **Golf Cart Integration:** One reviewer appreciated the speaker's size as it fit in their golf cart's cup holder, demonstrating a niche use case.\n",
            "\n",
            "* **Negative Experience:** While mostly positive, one review provides a negative experience with interference issues during a vacation, highlighting a potential product defect. This stands in sharp contrast to the overwhelmingly positive feedback.  This should be noted but is not reflective of the general user experience from the provided data.\n",
            "\n",
            "\n",
            "In conclusion, the overwhelmingly positive reviews of the JBL Flip 6 highlight its excellent sound quality, portability, and convenience. While some minor issues regarding battery life and the lack of a low battery warning were mentioned, these did not overshadow the overall positive perception of the product. The speaker's value for money, especially when compared to competitors like Bose, also contributes to its positive reception.\n",
            "\n"
          ]
        }
      ]
    },
    {
      "cell_type": "code",
      "source": [
        "# Analyze neutral or negative jbl product reviews\n",
        "jbl_neutral_negative_reviews = df[\n",
        "    (df['product_name'] == 'jbl flip 6') &\n",
        "    (df['sentiment'] == 'Neutral') | (df['sentiment'] == 'Negative')\n",
        "]['content'].tolist()[:100]\n",
        "\n",
        "jbl_neutral_negative_insights = analyze_sentiment_patterns(\n",
        "    jbl_neutral_negative_reviews,\n",
        "    'Neutral or Negative',\n",
        "    'jbl flip 6'\n",
        ")\n",
        "\n",
        "print(jbl_neutral_negative_insights)"
      ],
      "metadata": {
        "colab": {
          "base_uri": "https://localhost:8080/",
          "height": 679
        },
        "id": "0UfWmbzbqF39",
        "outputId": "127aeca0-ac49-4d3b-e687-071ba8023ff8"
      },
      "execution_count": null,
      "outputs": [
        {
          "output_type": "stream",
          "name": "stdout",
          "text": [
            "Analysis of Neutral and Negative JBL Flip 6 Reviews:\n",
            "\n",
            "**1. Specific Aspects Creating Negative Reactions:**\n",
            "\n",
            "* **Power Issues:**  Multiple reviews highlight problems with the speaker turning off unexpectedly, refusing to turn off completely, or failing to hold a charge adequately.  One review explicitly mentions the speaker not staying on even when plugged in, and another describes it turning back on spontaneously after appearing to be off. This is a major functional flaw.  Example:  \"it used to turn off relatively easy-now it will not turn off at all and even when it \"appears\" to it turns back on within a few seconds.\" and \"speaker does not hold charge past 10% – even after troubleshooting...the speaker refuses to charge past 10%\".\n",
            "* **Sound Quality Issues at Low Volume:** One review notes significant \"floor noise,\" \"surface noise,\" \"distortion,\" \"crackling,\" and/or \"static\" at lower volume levels. This significantly impacts the user experience. Example: \"there is a noticeable amount of “floor noise,” “surface noise,” “distortion,” “crackling,” and/or “static” when the volume level is any lower than let’s say 40%.\"\n",
            "* **Inconvenient Volume Control:**  The inability to adjust volume directly on the speaker itself is a recurring complaint. Users find this limitation inconvenient. Example: \"the volume is not adjustable on the speaker itself, only the device controlling it.\"\n",
            "* **Loud Startup/Shutdown:** The very loud announcement during power on/off is a significant annoyance for many, startling listeners unexpectedly. Example: \"when you turn it on or off it tells you at 120+ db so be prepared to scare everyone when you turn it on or off.\"\n",
            "* **Skipping/Poor Bluetooth Connectivity:** One reviewer reports consistent skipping, regardless of proximity to the source device. Example: \"this speaker skips all the time regardless of how close the device is to the sound source.\"\n",
            "* **Poor Design for Upright Placement:** The speaker's design hinders its ability to stand upright, according to one review.  Example: \"the speakers at each end dont really allow for standing it upright.\"\n",
            "* **Delivery Issues:** While not related to the product itself, significant delays in delivery caused frustration for at least one reviewer. Example: \"delivery time. was originally only a week but actually took almost 5 weeks after.\"\n",
            "\n",
            "\n",
            "**2. Common Phrases and Descriptions:**\n",
            "\n",
            "* \"Crystal clear music\" (used in positive reviews, highlighting a contrast with the negative experiences)\n",
            "* \"Plenty loud\" (similarly, a positive aspect juxtaposed with negative functionality)\n",
            "* \"Skips all the time\"\n",
            "* \"Doesn't hold charge\"\n",
            "* \"Turns off unexpectedly\"\n",
            "* \"Loud startup/shutdown\"\n",
            "* \"Static/fuzz/noise\"\n",
            "* \"Disappointing\"\n",
            "\n",
            "\n",
            "**3. Comparisons with Competitor Products:**\n",
            "\n",
            "One reviewer explicitly recommends alternative products: \"Don't waste your money and get a UE Wonderboom or Boom speaker.\" This directly compares the JBL Flip 6 unfavorably to Ultimate Ears' offerings.\n",
            "\n",
            "\n",
            "**4. Unexpected or Unique Feedback:**\n",
            "\n",
            "* The review detailing the speaker's durability while attached to a gravel bike and surviving crashes is unexpected and positive, contrasting sharply with the other reviews. This highlights the speaker's robustness in an unusual use case.\n",
            "\n",
            "\n",
            "In summary, while some users praise the JBL Flip 6's sound quality and loudness, a significant number report frustrating issues with power management, Bluetooth connectivity, and inconvenient design choices.  The negative reviews heavily outweigh the positive, and the recurring themes strongly suggest quality control and design flaws that affect the user experience negatively. The comparison to UE speakers underscores the perception that competitive products offer a better overall package.\n",
            "\n"
          ]
        }
      ]
    },
    {
      "cell_type": "markdown",
      "source": [
        "## Bose"
      ],
      "metadata": {
        "id": "vVntH_0kqf0O"
      }
    },
    {
      "cell_type": "code",
      "source": [
        "# Analyze positive bose product reviews\n",
        "bose_positive_reviews = df[\n",
        "    (df['product_name'] == 'bose soundlink flex') &\n",
        "    (df['sentiment'] == 'Positive')\n",
        "]['content'].tolist()[:100]\n",
        "\n",
        "bose_positive_insights = analyze_sentiment_patterns(\n",
        "    bose_positive_reviews,\n",
        "    'Positive',\n",
        "    'bose soundlink flex'\n",
        ")\n",
        "\n",
        "print(bose_positive_insights)"
      ],
      "metadata": {
        "colab": {
          "base_uri": "https://localhost:8080/",
          "height": 765
        },
        "id": "tUxqSz2NL3DI",
        "outputId": "1c165217-5ebb-47fc-9124-34e2ce18739a"
      },
      "execution_count": null,
      "outputs": [
        {
          "output_type": "stream",
          "name": "stdout",
          "text": [
            "Analysis of Positive Bose SoundLink Flex Reviews:\n",
            "\n",
            "**1. Specific Aspects Creating Positive Reactions:**\n",
            "\n",
            "* **Sound Quality:** This is the most frequently praised aspect.  Reviewers consistently describe the sound as \"rich,\" \"crisp,\" \"clear,\" \"amazing,\" \"room-filling,\" and having \"good bass\" that doesn't overpower other frequencies.  The absence of distortion is also highlighted.  Examples:  \"the sound is rich, crisp, and clear, with deep bass,\" \"amazingly thumping bass and yet crystal clear,\" \"bose simply has amazing, room filling sound,\" \"excellent sound quality.\"\n",
            "\n",
            "* **Portability and Durability:** The speaker's small size, lightweight nature, and rugged design are frequently mentioned as significant advantages.  Reviewers appreciate its ease of carrying for outdoor activities. Examples: \"the size it’s small enough to where it can fit in a purse,\" \"it’s lightweight and compact, making it easy to carry on hikes,\" \"perfect for taking to the beach, the hot tub,\" \"durable and can handle the dirt.\"\n",
            "\n",
            "* **Ease of Use and Connectivity:** The straightforward Bluetooth pairing process and user-friendly controls receive positive feedback.  The feature allowing song skipping without needing a phone is also appreciated. Examples: \"super easy to pair to my phone,\" \"the bluetooth pairing process is seamless and fast,\" \"you can skip to next song on the device.\"\n",
            "\n",
            "* **Battery Life:** While some mentioned wishing for even longer battery life, most found it satisfactory and praised the fast-charging capability.  Examples:  \"the battery lasts as advertised,\"  \"battery life is outstanding,\" \"charges quickly,\" \"great product and continuously plays for up to 9 hours.\"\n",
            "\n",
            "\n",
            "**2. Common Phrases and Descriptions:**\n",
            "\n",
            "* \"Amazing sound quality\" or variations thereof\n",
            "* \"Great sound\" or \"Excellent sound\"\n",
            "* \"Easy to use\" or \"Easy to connect\"\n",
            "* \"Portable\" or \"Compact\"\n",
            "* \"Durable\" or \"Rugged\"\n",
            "* \"Long battery life\"\n",
            "* \"Rich, crisp, clear sound\"\n",
            "* \"Deep bass\" (but not overpowering)\n",
            "\n",
            "\n",
            "**3. Comparisons with Competitor Products:**\n",
            "\n",
            "* Several reviews directly compare the Bose SoundLink Flex to JBL speakers, specifically the JBL Charge 5. One reviewer chose the Bose because they felt the JBL lacked the same rich and clear sound, though acknowledging the JBL might offer more volume. Example: \"i was torn between the jbl charge 5 and the bose, but after hearing both in a local store, i thought the jbl speaker didn't have as a rich & clear sound.\"\n",
            "* Another reviewer favorably compares the Bose to similarly priced Edifier speakers, noting the Bose’s significantly superior sound quality. Example: \"Sound is wayyyy better than my similarly priced edifier speakers. Like way, way better.\"\n",
            "* One review explicitly mentions throwing away a Sonos speaker due to connectivity issues, contrasting it favorably with the Bose's instant connectivity.  Example: \"Always connects instantly (unlike the garbage sonos that i threw away) great tone!\"\n",
            "\n",
            "**4. Unexpected or Unique Feedback:**\n",
            "\n",
            "*  A user utilized the speaker at a wedding ceremony without a microphone, successfully playing music for the ceremony.  This highlights the speaker's unexpectedly powerful sound capabilities in an unconventional setting. Example: \"i used this speaker at a wedding ceremony that had no music...awesome sound!!!!\"\n",
            "* Several reviews mention the speaker's aesthetic appeal.  Reviewers appreciate that it doesn't look like \"trash,\" unlike some other speakers. Example: \"super cute too i love keeping it out. most speakers look like trash so i appreciate the aesthetic.\"\n",
            "*  One reviewer's comparison to their Bose QuietComfort Ultra headphones ($450) is unique. They found the speaker's sound quality to be comparable, deeming it a great value.  Example: \"i have the bose quietcomfort ultra headphones, and this speaker sounds like the headphones...this speaker is a really good deal for the quality you’re getting.\"\n",
            "* A recurring negative (though minority) comment was the lack of a charging cable in the box, which is considered unexpected by some buyers.\n",
            "* The inability to pair the second-generation SoundLink Flex with the first-generation model, despite not being explicitly stated in the product description, was another unexpected issue.\n",
            "\n",
            "\n",
            "In summary, the positive reviews overwhelmingly praise the Bose SoundLink Flex for its exceptional sound quality, convenient portability, user-friendly features, and decent battery life.  Comparisons with competitors generally favor the Bose, emphasizing its superior audio quality.  The unexpected and unique feedback provides additional insights into the speaker's versatility and appealing design.\n",
            "\n"
          ]
        }
      ]
    },
    {
      "cell_type": "code",
      "source": [
        "# Analyze neutral or negative bose product reviews\n",
        "bose_neutral_negative_reviews = df[\n",
        "    (df['product_name'] == 'bose soundlink flex') &\n",
        "    (df['sentiment'] == 'Neutral') | (df['sentiment'] == 'Negative')\n",
        "]['content'].tolist()[:100]\n",
        "\n",
        "bose_neutral_negative_insights = analyze_sentiment_patterns(\n",
        "    bose_neutral_negative_reviews,\n",
        "    'Neutral or Negative',\n",
        "    'bose soundlink flex'\n",
        ")\n",
        "\n",
        "print(bose_neutral_negative_insights)"
      ],
      "metadata": {
        "colab": {
          "base_uri": "https://localhost:8080/",
          "height": 817
        },
        "id": "4-aRlAO2qimi",
        "outputId": "7f95ed11-c691-4c80-9256-622e4aaf5c98"
      },
      "execution_count": null,
      "outputs": [
        {
          "output_type": "stream",
          "name": "stdout",
          "text": [
            "Analysis of Negative Bose SoundLink Flex Reviews:\n",
            "\n",
            "**1. Specific Aspects Creating Negative Reactions:**\n",
            "\n",
            "* **Poor Battery Life:**  Multiple reviews cite significantly shorter battery life than expected, with some reporting only 2-3 hours of use on a full charge.  This is a major point of dissatisfaction.  Examples:  \"really disappointed that the device barely holds a charge for two hours,\"  \"sound is very low, and even though battery says fully charged it only lasts 3 hours max. waste of money,\" \"i had high hopes for these speakers but i'm sadly disappointed in its shelf life. i can't even charged the speakers anymore after just under 2 years of owning them.\"\n",
            "\n",
            "* **Insufficient Volume/Inability to Overcome Ambient Noise:** Several users found the speaker's volume inadequate, particularly in noisy environments. Example: \"i am disappointed that these are not loud enough to overcome ambient noises.\"\n",
            "\n",
            "* **Unbalanced Sound Profile:** The sound quality is criticized for excessive bass and a lack of treble balance, resulting in an unpleasant listening experience for some. Example: \"lots of bass. not balanced with treble output.\"\n",
            "\n",
            "* **Connectivity Issues:**  A recurring problem is the speaker's automatic reconnection and persistent attempts to connect, even when unwanted. This interrupts other audio sources. Example: \"the bluetooth. it connects fine however it always wants to connect. i will be listening to my earpods and all of a sudden the sound is gone. well it’s playing on the bose.\"  Another review mentions general connectivity issues and difficulty.\n",
            "\n",
            "* **Poor Build Quality/Durability:** One review directly compares the SoundLink Flex unfavorably to a much cheaper speaker, stating the cheaper option was better built and sounded better. This suggests concerns about the speaker's build quality and longevity for the price point. Example: \"when my son got a $20 bluetooth speaker for christmas, it sounded better, louder and was built sturdier than this soundlink speaker.\"\n",
            "\n",
            "* **Lack of User-Friendly Instructions:** One reviewer, while generally positive, points out the difficulty in accessing basic instructions and troubleshooting information. Example: \"use instructions are hard to get to… must download and install the bose app for simple basic info; detailed use options are on a hard-to-find pdf on the bose web site.\"\n",
            "\n",
            "\n",
            "* **Power Button Malfunction:** One review describes a specific failure where the speaker refuses to turn off completely. Example: \"it used to turn off relatively easy-now it will not turn off at all and even when it \"appears\" to it turns back on within a few seconds.\"\n",
            "\n",
            "* **Lack of Stereo/Party Mode Compatibility:**  One user experienced incompatibility issues with older models of the same speaker, limiting the features they could use.\n",
            "\n",
            "\n",
            "**2. Common Phrases and Descriptions:**\n",
            "\n",
            "* \"Disappointed\" and variations thereof (\"really disappointed,\" \"sadly disappointed\") are frequently used.\n",
            "* Phrases expressing low volume or inability to compete with ambient noise.\n",
            "* Descriptions of poor sound quality, often focusing on unbalanced bass and lack of treble.\n",
            "* References to short battery life.\n",
            "* Use of strong negative language (\"sucks,\" \"waste of money,\" \"expensive garbage\").\n",
            "\n",
            "\n",
            "**3. Comparisons with Competitor Products:**\n",
            "\n",
            "One review directly compares the Bose SoundLink Flex to a $20 Bluetooth speaker, finding the cheaper alternative superior in sound quality, volume, and build quality. This highlights a significant perceived value issue.\n",
            "\n",
            "\n",
            "**4. Unexpected or Unique Feedback:**\n",
            "\n",
            "* The automatic reconnection issue is a unique and frustrating problem reported by at least one user.  This is not something typically highlighted in product reviews, demonstrating an unexpected flaw.\n",
            "* The failure of the power button to turn off the device is also quite unusual and indicates a potential hardware defect.\n",
            "* The incompatibility between different generations of the same speaker model is another unexpected limitation.\n",
            "\n",
            "\n",
            "In summary, the negative reviews consistently point to inconsistencies between the Bose brand's reputation for high quality and the actual performance of the SoundLink Flex in terms of battery life, sound quality, volume, connectivity reliability, and, in some cases, build quality.  The direct comparison with a significantly cheaper, yet seemingly superior product, is especially damning.\n",
            "\n"
          ]
        }
      ]
    },
    {
      "cell_type": "markdown",
      "source": [
        "## Anker"
      ],
      "metadata": {
        "id": "MOE0Xyo-qjBZ"
      }
    },
    {
      "cell_type": "code",
      "source": [
        "# Analyze positive anker product reviews\n",
        "anker_positive_reviews = df[\n",
        "    (df['product_name'] == 'anker soundcore 2') &\n",
        "    (df['sentiment'] == 'Positive')\n",
        "]['content'].tolist()[:100]\n",
        "\n",
        "anker_positive_insights = analyze_sentiment_patterns(\n",
        "    anker_positive_reviews,\n",
        "    'Positive',\n",
        "    'anker soundcore 2'\n",
        ")\n",
        "\n",
        "print(anker_positive_insights)"
      ],
      "metadata": {
        "colab": {
          "base_uri": "https://localhost:8080/",
          "height": 835
        },
        "id": "1bwLUhvBL3Ab",
        "outputId": "eb96574f-c945-41bd-e843-1d5ccff8b92f"
      },
      "execution_count": null,
      "outputs": [
        {
          "output_type": "stream",
          "name": "stdout",
          "text": [
            "Analysis of Anker Soundcore 2 Positive Reviews:\n",
            "\n",
            "**1. Specific Aspects Creating Positive Reactions:**\n",
            "\n",
            "* **Sound Quality:** This is overwhelmingly the most praised aspect.  Reviewers consistently describe the sound as \"great,\" \"excellent,\" \"fantastic,\" \"amazing,\" \"robust,\" \"intense,\" \"clear,\" and \"surprisingly good\" for the speaker's size and price.  Many compare the audio quality favorably to more expensive brands like Bose.  Examples:  \"great sound for a good price!\", \"sounds like my bose ii bluetooth speakers.\", \"the sound quality and levels of volume and bass are intense for the price.\"\n",
            "\n",
            "* **Portability and Size:** The small, compact size and portability are frequently highlighted as significant advantages. Reviewers appreciate being able to easily carry it in backpacks, use it in various locations (showers, golf carts, workshops), and even take it snowboarding. Examples: \"the sound is great and it is portable. fun!\", \"so tiny!\", \"slightly larger then a big candy bar. easy to pair to my phone and what great sound! fills the room.\"\n",
            "\n",
            "* **Battery Life:** Long battery life is another recurring theme.  Users mention it lasting \"several hours,\" \"for hours,\" and even \"seems to last forever.\"  This contributes to the overall convenience and value. Example: \"long battery life, strong bluetooth connection, fantastic sound for the size and price.\"\n",
            "\n",
            "* **Ease of Use and Setup:**  The straightforward setup and user-friendly interface are frequently praised. Bluetooth pairing is described as \"easy\" and \"quick.\" Example: \"easy to setup and really surprising sound quality for such a small footprint.\"\n",
            "\n",
            "* **Durability:**  Several reviewers note the speaker's robustness and ability to withstand various conditions (drops, water spills).  This contributes to its perceived value and longevity. Example: \"very durable,\" \"we went ahead and ordered the soundcore 2 and hope it is just as good as the first! it went through many drops, bumps, dirt and water spills and kept up through it all with no issue!\"\n",
            "\n",
            "\n",
            "**2. Common Phrases or Descriptions:**\n",
            "\n",
            "* \"Great sound\"\n",
            "* \"Excellent sound quality\"\n",
            "* \"Fantastic sound\"\n",
            "* \"Amazing sound\"\n",
            "* \"Easy to use\"\n",
            "* \"Easy to connect\"\n",
            "* \"Long battery life\"\n",
            "* \"Durable\"\n",
            "* \"Portable\"\n",
            "* \"Good value/bang for your buck\"\n",
            "* \"Small/compact\"\n",
            "\n",
            "\n",
            "**3. Comparisons with Competitor Products:**\n",
            "\n",
            "* **JBL Flip 5:** One review directly compares the Anker Soundcore 2 to the JBL Flip 5, stating that the Soundcore 2 is \"way more worth it\" despite having lower wattage (12W vs 20W).  This suggests a perceived better value proposition for the Soundcore 2.\n",
            "* **Bose:** Several reviews favorably compare the sound quality of the Anker Soundcore 2 to Bose speakers, highlighting the surprising audio quality given the price difference.\n",
            "* **JBL Go:** Another comparison is made against the smaller JBL Go, suggesting the Soundcore 2 offers superior value.\n",
            "\n",
            "\n",
            "**4. Unexpected or Unique Feedback:**\n",
            "\n",
            "* **Use Cases:**  The variety of use cases mentioned is interesting, ranging from snowboarding to use in bathrooms, workshops, golf carts, and even as a supplemental speaker for TVs and laptops. This shows the speaker's versatility.\n",
            "* **Recall:** Several reviews mention a product recall due to potential fire hazard. This is a significant negative aspect and highlights a major risk.\n",
            "* **Audio Delay:** One review points out a 1-2 second audio delay when playing videos. This is a technical flaw not often mentioned in other positive reviews.\n",
            "* **Mono Sound:**  A review mentions \"very mono sound,\" indicating a problem with the audio that other reviewers didn't experience.\n",
            "\n",
            "In summary, the positive reviews overwhelmingly praise the Anker Soundcore 2's surprisingly good sound quality, portability, battery life, and ease of use, often comparing it favorably to more expensive competitors.  However, the reviews also reveal a significant recall issue and some inconsistencies in user experience (e.g., audio delay, mono sound), suggesting potential quality control problems or variations within the product line.\n",
            "\n"
          ]
        }
      ]
    },
    {
      "cell_type": "code",
      "source": [
        "# Analyze neutral or negative anker product reviews\n",
        "anker_neutral_negative_reviews = df[\n",
        "    (df['product_name'] == 'anker soundcore 2') &\n",
        "    (df['sentiment'] == 'Neutral') | (df['sentiment'] == 'Negative')\n",
        "]['content'].tolist()[:100]\n",
        "\n",
        "anker_neutral_negative_insights = analyze_sentiment_patterns(\n",
        "    anker_neutral_negative_reviews,\n",
        "    'Neutral or Negative',\n",
        "    'anker soundcore 2'\n",
        ")\n",
        "\n",
        "print(anker_neutral_negative_insights)"
      ],
      "metadata": {
        "colab": {
          "base_uri": "https://localhost:8080/",
          "height": 817
        },
        "id": "opPxTd2Fqv3O",
        "outputId": "b29ddf7c-a748-4c57-80f7-11cdfcb3e967"
      },
      "execution_count": null,
      "outputs": [
        {
          "output_type": "stream",
          "name": "stdout",
          "text": [
            "Analysis of Anker Soundcore 2 Negative and Neutral Reviews:\n",
            "\n",
            "**1. Specific Aspects Creating Negative Reactions:**\n",
            "\n",
            "* **Unexpected malfunctions and premature failure:** Several reviewers reported the speaker suddenly ceasing to function after a period of use, even without apparent misuse.  One user described their two-year-old speaker inexplicably stopping, despite being fully charged. Another experienced a persistent issue where the speaker would immediately turn back on after being switched off.  These experiences highlight concerns about product reliability and longevity.\n",
            "\n",
            "* **Subpar volume and battery life (compared to previous model):**  Reviewers who owned the previous Soundcore model noted that the Soundcore 2 was less loud and had shorter battery life. This is particularly frustrating for those who upgraded expecting improvements or who purchased it at full price.\n",
            "\n",
            "* **Annoying auto-shutoff and connection issues:** The automatic shutoff feature was frequently cited as annoying.  Additionally, slow connection times (up to 10 seconds) and brief muting after unpausing were noted as frustrating user experience flaws.\n",
            "\n",
            "* **Pairing problems:** At least one review documented repeated failure to pair the speaker with a phone despite troubleshooting steps.  This indicates potential Bluetooth connectivity issues.\n",
            "\n",
            "* **Unacceptable latency for certain uses:**  A user intending to use the speaker with an electronic drum kit experienced significant and unbearable audio delay, rendering it unusable for that purpose.  This reveals a limitation of the speaker's capabilities for applications sensitive to latency.\n",
            "\n",
            "* **Low volume/ inadequate loudness:** The speaker's volume was criticized as insufficient for anything other than small, quiet rooms.  The comparison to an Echo Dot highlights the perceived inadequacy.\n",
            "\n",
            "\n",
            "**2. Common Phrases and Descriptions:**\n",
            "\n",
            "* \"Stopped working\"\n",
            "* \"Suddenly stopped\"\n",
            "* \"Doesn't get as loud\"\n",
            "* \"Battery doesn't last as long\"\n",
            "* \"Annoying auto shut off\"\n",
            "* \"Pairing issues\"\n",
            "* \"Latency\"\n",
            "* \"Quiet\"\n",
            "* \"Doesn't turn off\"\n",
            "* \"Disappointing\"\n",
            "\n",
            "\n",
            "**3. Comparisons with Competitor Products:**\n",
            "\n",
            "* The reviews frequently compare the Soundcore 2 to the previous Soundcore model, indicating that the newer model is considered inferior in several aspects (volume, battery life).  \n",
            "*  One reviewer favorably compared the Anker Soundcore 2's sound quality and price to a more expensive unnamed competitor, suggesting that the Anker is a good value alternative.\n",
            "* A comparison is made with an Amazon Echo Dot which is considered superior in volume for certain uses.\n",
            "\n",
            "**4. Unexpected or Unique Feedback:**\n",
            "\n",
            "* The latency issue when used with an electronic drum kit is unique and highlights an unexpected limitation.  This isn't a typical use case but important for musicians or those using the speaker for similar applications.\n",
            "* The reviewer who described the speaker turning itself back on immediately after being powered off presented an unusual and particularly frustrating problem.\n",
            "\n",
            "\n",
            "In summary, while some users praised the Anker Soundcore 2 for its sound quality and value (particularly at a discounted price), a significant number expressed frustration with reliability issues, reduced performance compared to its predecessor, and unexpected limitations.  These negative experiences focus primarily on functionality, durability, and user experience issues rather than overall sound quality.\n",
            "\n"
          ]
        }
      ]
    },
    {
      "cell_type": "markdown",
      "source": [
        "## Doss"
      ],
      "metadata": {
        "id": "5kxXJ3nwqwHv"
      }
    },
    {
      "cell_type": "code",
      "source": [
        "# Analyze positive doss product reviews\n",
        "doss_positive_reviews = df[\n",
        "    (df['product_name'] == 'doss soundbox touch') &\n",
        "    (df['sentiment'] == 'Positive')\n",
        "]['content'].tolist()[:100]\n",
        "\n",
        "doss_positive_insights = analyze_sentiment_patterns(\n",
        "    doss_positive_reviews,\n",
        "    'Positive',\n",
        "    'doss soundbox touch'\n",
        ")\n",
        "\n",
        "print(doss_positive_insights)"
      ],
      "metadata": {
        "colab": {
          "base_uri": "https://localhost:8080/",
          "height": 748
        },
        "id": "RZotlc3qL2-F",
        "outputId": "6c26d041-b54c-4015-d8d6-ab1c2a85d62f"
      },
      "execution_count": null,
      "outputs": [
        {
          "output_type": "stream",
          "name": "stdout",
          "text": [
            "Analysis of Positive Doss Soundbox Touch Reviews:\n",
            "\n",
            "**1. Specific Aspects Creating Positive Reactions:**\n",
            "\n",
            "* **Durability and Longevity:**  Many reviewers highlight the speaker's remarkable resilience.  Examples include surviving a house fire (with some caveats), withstanding drops and paint spills during home renovations, enduring years of use in a car, and even surviving a submersion in water.  This unexpectedly high durability is a major selling point.\n",
            "\n",
            "* **Sound Quality (relative to price):** While not compared favorably to high-end brands like Bose or JBL directly in every review, many reviewers emphasize the surprisingly good sound quality for the relatively low price.  Phrases like \"good for the price,\" \"sounds like a JBL or Bose,\" and \"darn good\" frequently appear.\n",
            "\n",
            "* **Ease of Use and Setup:** The simplicity of Bluetooth pairing and overall operation is consistently praised.  Reviewers appreciate the straightforward functions and quick connection.\n",
            "\n",
            "* **Battery Life:**  The long battery life is repeatedly mentioned as a significant positive. Terms like \"great battery life,\" \"lasts a whole day,\" and \"holds a charge forever\" demonstrate the user satisfaction.\n",
            "\n",
            "* **Compact Size and Portability:**  The manageable size and portability are features allowing use in various settings such as yards, vehicles, workplaces, and travel.\n",
            "\n",
            "\n",
            "**2. Common Phrases and Descriptions:**\n",
            "\n",
            "* \"Great sound\" or variations thereof (good sound, amazing sound, nice sound).\n",
            "* \"Easy to use/set up/pair\"\n",
            "* \"Great/long battery life\"\n",
            "* \"Durable/robust\"\n",
            "* \"Compact/small\"\n",
            "* \"Good value for the money/inexpensive\"\n",
            "\n",
            "\n",
            "**3. Comparisons with Competitor Products:**\n",
            "\n",
            "Several reviews directly or indirectly compare the Doss Soundbox Touch to JBL and Bose speakers.  While acknowledging that it doesn't match the audio quality of these premium brands, many reviewers emphasize that the sound quality is surprisingly good *considering the much lower price point*.  One review even claims it sounds similar to JBL or Bose.  This comparison strategy underscores the speaker's value proposition.  Another review specifically compared its durability to JBL Flip 6 speakers, highlighting that the Doss was far more resilient.\n",
            "\n",
            "**4. Unexpected or Unique Feedback:**\n",
            "\n",
            "* **Unexpected Durability:** The speaker's ability to survive extreme conditions (fire, submersion in water) is far beyond typical expectations for a portable Bluetooth speaker in this price range.\n",
            "\n",
            "* **Use Cases:** Reviewers highlight diverse and creative uses, such as providing sound for ducks and geese on a pond, serving as a microphone for a granddaughter, and being used as a consistent audio source during home renovations.\n",
            "\n",
            "* **Customer Service:**  One reviewer specifically praises the excellent customer support they received, indicating prompt and helpful responses to inquiries about disabling auto shut-off and enabling song shuffle.  This is noteworthy as positive customer service is not always a focal point in reviews.\n",
            "\n",
            "* **Negative about touch controls:** One review highlights a problem with touch controls on the volume dial, and while they did like other qualities of the product, they mentioned the volume controls being too sensitive and a source of frustration.\n",
            "\n",
            "In summary, the positive reviews overwhelmingly praise the Doss Soundbox Touch for its surprisingly durable build quality, long battery life, ease of use, and good sound quality relative to its price.  The unexpected resilience and versatile usage scenarios add significant value to the product perception.  The few negative reviews mainly focus on specific, easily fixable features, not fundamental flaws.\n",
            "\n"
          ]
        }
      ]
    },
    {
      "cell_type": "code",
      "source": [
        "# Analyze neutral or negative doss product reviews\n",
        "doss_neutral_negative_reviews = df[\n",
        "    (df['product_name'] == 'doss soundbox touch') &\n",
        "    (df['sentiment'] == 'Neutral') | (df['sentiment'] == 'Negative')\n",
        "]['content'].tolist()[:100]\n",
        "\n",
        "doss_neutral_negative_insights = analyze_sentiment_patterns(\n",
        "    doss_neutral_negative_reviews,\n",
        "    'Neutral or Negative',\n",
        "    'doss soundbox touch'\n",
        ")\n",
        "\n",
        "print(doss_neutral_negative_insights)"
      ],
      "metadata": {
        "colab": {
          "base_uri": "https://localhost:8080/",
          "height": 713
        },
        "id": "Tc_X8ai_rLT3",
        "outputId": "a40a040f-b1a4-497b-ee79-7892273c56a1"
      },
      "execution_count": null,
      "outputs": [
        {
          "output_type": "stream",
          "name": "stdout",
          "text": [
            "Analysis of Negative/Neutral Doss Soundbox Touch Reviews:\n",
            "\n",
            "**1. Specific Aspects Creating Negative Reactions:**\n",
            "\n",
            "* **Poor Sound Quality:** This is the most prevalent complaint.  Reviewers describe the sound as \"thin,\" \"tinny,\" \"like it's in a cardboard box,\" lacking in dynamic range, and \"brassy\" at certain volumes. The lack of clear, crisp audio is a major point of dissatisfaction.  Examples:  \"sound is not good!\", \"audio quality is not great, similar to small radios,\" \"the sound is thin and tinny.\"\n",
            "\n",
            "* **Bluetooth Connectivity Issues:** Intermittent or complete loss of Bluetooth connection is a significant problem.  The connection drops even when the phone is close, leading to frustration. Examples:  \"intermittently - constantly loses the bluetooth connection,\" \"if i move my cellphone...it starts to give static sound,\" \"after about 2 months it stopped connecting to bluetooth.\"\n",
            "\n",
            "* **Power Button/Auto-Shutoff Issues:**  The placement and functionality of the power button are heavily criticized.  Reviewers describe difficulty turning the speaker off (requiring multiple presses), and an automatic shutoff feature that is deemed inconvenient and annoying. Examples: \"it takes 3-4 times to shut the unit down,\" \"unit shuts down when inactive for a few minutes,\" \"it will not turn off at all and even when it \"appears\" to it turns back on within a few seconds\".\n",
            "\n",
            "* **Low Battery Life (Implied):** While not explicitly stated as often as other problems, several reviews mentioning usage at tailgates or cookouts imply that the battery life is relatively short (\"lasts a couple to few hours\").\n",
            "\n",
            "\n",
            "**2. Common Phrases/Descriptions:**\n",
            "\n",
            "* \"Sound quality is not good\" or variations thereof.\n",
            "* \"Bluetooth connection issues\" or similar phrasing.\n",
            "* \"Tinny,\" \"thin,\" \"brassy\" to describe the sound.\n",
            "* \"Annoying,\" \"maddening,\" \"frustrating\" to describe the experience.\n",
            "* \"Doesn't turn off easily\" or variations regarding power button problems.\n",
            "* \"Small but loud\" (often qualified with caveats about sound quality).\n",
            "\n",
            "\n",
            "**3. Comparisons with Competitor Products:**\n",
            "\n",
            "There's only one indirect comparison:  \"save your money and buy the better one.\" This lacks specifics, but it clearly suggests the reviewer believes superior alternatives exist.\n",
            "\n",
            "\n",
            "**4. Unexpected or Unique Feedback:**\n",
            "\n",
            "* One reviewer resorted to physical violence, smashing the speaker on the floor due to frustration with the power button. This is an extreme reaction, highlighting the intensity of user dissatisfaction.  Example: \"i literally took the unit and smashed it on the floor !\"\n",
            "\n",
            "* The description of the sound as \"like it is in a cardboard box\" is a vivid and memorable way of describing the perceived poor audio quality.\n",
            "\n",
            "\n",
            "**Summary:**\n",
            "\n",
            "The negative reviews consistently point to three major flaws: poor sound quality, unreliable Bluetooth connectivity, and a frustrating power button/auto-shutoff mechanism.  These issues collectively diminish the user experience, leading to significant dissatisfaction and, in at least one case, a violent response.  While some users find the speaker adequate for limited use or appreciate its loudness for its size, the overwhelming consensus is that the Doss Soundbox Touch falls short of expectations regarding audio quality and usability.\n",
            "\n"
          ]
        }
      ]
    },
    {
      "cell_type": "markdown",
      "source": [
        "## Tribit"
      ],
      "metadata": {
        "id": "kvGIv-xSrLgt"
      }
    },
    {
      "cell_type": "code",
      "source": [
        "# Analyze positive tribit product reviews\n",
        "tribit_positive_reviews = df[\n",
        "    (df['product_name'] == 'tribit xsound go') &\n",
        "    (df['sentiment'] == 'Positive')\n",
        "]['content'].tolist()[:100]\n",
        "\n",
        "tribit_positive_insights = analyze_sentiment_patterns(\n",
        "    tribit_positive_reviews,\n",
        "    'Positive',\n",
        "    'tribit xsound go'\n",
        ")\n",
        "\n",
        "print(tribit_positive_insights)"
      ],
      "metadata": {
        "colab": {
          "base_uri": "https://localhost:8080/",
          "height": 696
        },
        "id": "K3vLK3ebL2oe",
        "outputId": "b92895d2-0f58-4d25-8907-e0d8ea86e99a"
      },
      "execution_count": null,
      "outputs": [
        {
          "output_type": "stream",
          "name": "stdout",
          "text": [
            "Analysis of Positive Tribit XSound Go Reviews:\n",
            "\n",
            "**1. Specific Aspects Creating Positive Reactions:**\n",
            "\n",
            "* **Sound Quality:**  The most frequently praised aspect is the sound quality, often described as \"awesome,\" \"excellent,\" \"great,\" \"rich and full,\" and surprisingly good for a small speaker.  Many reviewers highlight the bass response, considering it \"pretty good\" or \"great\" given the speaker's size.  Several mention using it for music in various settings (cars, shops, homes) and finding it sufficient.  Examples:  \"awesome sound,\" \"highly impressed with the sound quality,\" \"great sound & easy to operate,\" \"surprising how awesome this sounds,\" \"excellent sound quality.\"\n",
            "\n",
            "* **Ease of Use/Pairing:** The Bluetooth pairing process is repeatedly lauded as \"easy,\" \"extremely easy,\" or simple. Even users who aren't tech-savvy found it straightforward. Examples: \"it was so easy to pair,\" \"bluetooth was easy to pair,\" \"very easy setup.\"\n",
            "\n",
            "* **Value for Money:** Many reviews emphasize the speaker's affordability and the excellent value it provides for its price point. Phrases like \"affordable,\" \"great value for the price,\" and \"better than expected\" frequently appear. Examples: \"for the price, very acceptable sound,\" \"for the price, it’s worth a try,\" \"great value for the price!\"\n",
            "\n",
            "* **Portability & Compact Size:** The small size and portability are significant advantages for many users, allowing them to easily move the speaker around the house, to the car, or to outdoor settings. Examples: \"great small speaker,\" \"easy to carry around,\" \"compact, sturdy\".\n",
            "\n",
            "* **Battery Life:**  Several reviews mention the long battery life, with descriptions such as \"decent charge\" and \"lasts for an eternity.\" Example: \"long play time,\" \"the battery lasts for an eternity\".\n",
            "\n",
            "**2. Common Phrases or Descriptions:**\n",
            "\n",
            "* \"Great sound\" or variations thereof (great sound quality, awesome sound, excellent sound)\n",
            "* \"Easy to pair\" or \"easy to use\"\n",
            "* \"Great value for the price\" or \"better than expected\"\n",
            "* \"Small speaker\" (often paired with positive sound quality descriptors)\n",
            "* \"Good bass\"\n",
            "\n",
            "\n",
            "**3. Comparisons with Competitor Products:**\n",
            "\n",
            "One review directly compares the XSound Go to the Tribit Stormbox, noting that while the Stormbox has more bass, the XSound Go offers comparable sound at a significantly lower price. Another review mentions testing three different speakers in the $70 range and selecting the Tribit XSound Go as the best-sounding, specifically praising its bass.  This implicitly compares it favorably to other budget-friendly options.\n",
            "\n",
            "**4. Unexpected or Unique Feedback:**\n",
            "\n",
            "* **Use Cases:**  Reviewers use the speaker in unexpected places: a classic car, a classroom, a lake house, and a shop. This demonstrates its versatility.\n",
            "* **Durability:** One user reports using the speaker in wet and dusty conditions without issue, highlighting unexpected durability.\n",
            "* **Charging Issues:** A negative aspect appears (charging problems), yet it serves as unexpected feedback. The speaker's charging mechanism proves inconsistent and problematic for some.\n",
            "* **Older User Success:** An 82-year-old woman easily used the speaker, highlighting its user-friendliness.\n",
            "* **Loudness at Low Volume:** One user notes the speaker is too loud even at its lowest volume, which is an unusual characteristic.\n",
            "\n",
            "\n",
            "In summary, the overwhelmingly positive reviews for the Tribit XSound Go center on its surprisingly good sound quality for its size and price, ease of use, and portability. While some minor issues with charging and volume control at low settings exist, these are outweighed by the numerous positive comments regarding sound, ease of use, and value.  The diverse use cases described in the reviews further demonstrate its versatility and appeal to a wide range of users.\n",
            "\n"
          ]
        }
      ]
    },
    {
      "cell_type": "code",
      "source": [
        "# Analyze neutral or negative tribit product reviews\n",
        "tribit_neutral_negative_reviews = df[\n",
        "    (df['product_name'] == 'tribit xsound go') &\n",
        "    (df['sentiment'] == 'Neutral') | (df['sentiment'] == 'Negative')\n",
        "]['content'].tolist()[:100]\n",
        "\n",
        "tribit_neutral_negative_insights = analyze_sentiment_patterns(\n",
        "    tribit_neutral_negative_reviews,\n",
        "    'Neutral or Negative',\n",
        "    'tribit xsound go'\n",
        ")\n",
        "\n",
        "print(tribit_neutral_negative_insights)"
      ],
      "metadata": {
        "colab": {
          "base_uri": "https://localhost:8080/",
          "height": 696
        },
        "id": "IUFjhHIErjgn",
        "outputId": "65da71d3-ab63-434f-f578-571f605fac10"
      },
      "execution_count": null,
      "outputs": [
        {
          "output_type": "stream",
          "name": "stdout",
          "text": [
            "Analysis of Neutral and Negative Tribit XSound Go Reviews:\n",
            "\n",
            "**1. Specific Aspects Creating Neutral or Negative Reactions:**\n",
            "\n",
            "* **Reliability and Durability:**  The most prominent negative theme is the speaker's unreliability. Multiple reviews mention the speaker failing after a short period (2 months in one case),  with one user even receiving a faulty replacement.  Battery failure after minimal use is another recurring concern.  (\"it used to turn off relatively easy-now it will not turn off at all...\",\"...yesterday it quit working just over 2 months of use...\",\"...after having it for 1 year and 4 months, the battery fails to charge...\",\"...the replacement has failed - when connected to power the status light blinks red and the unit will not charge up. do not buy - these will not last.\")\n",
            "\n",
            "* **Sound Quality (Bass and Volume):** While some praise the sound, others find the bass weak (\"the bass is rather weak\") or the overall volume insufficient for their needs, especially compared to other brands or even their previous 12W speaker (\"...it actually makes less sound and doesn't fill the room with sound like the anker soundcore 12w\"). The expectation of 16W performance not being met is a specific complaint.\n",
            "\n",
            "* **Bluetooth Connectivity:** One review highlights problems with Bluetooth connectivity, initially requiring a replacement which itself then failed.  Another mentions range issues, suggesting weak signal strength beyond a close proximity. (\"we had a tribit xsound go that would not connect to bluetooth...\",\"...if it's another room 30 feet away or downstairs, it does not work.\")\n",
            "\n",
            "* **Minor Design Flaws:**  The charging port cover's difficulty to open is mentioned as a minor but frustrating design quirk. (\"i had a hard time getting the cover open for the charging port...\")\n",
            "\n",
            "\n",
            "**2. Common Phrases or Descriptions Used:**\n",
            "\n",
            "* \"Quit working,\" \"failed,\" \"battery failure,\" \"doesn't charge,\" \"unreliable\" – describe the speaker's malfunctioning.\n",
            "* \"Weak bass,\" \"not loud enough,\" \"doesn't fill the room\" – express dissatisfaction with the audio quality.\n",
            "* \"Small size,\" \"portable,\" \"convenient for travel\" – highlight the positive aspects of the speaker's portability.\n",
            "* \"Easy Bluetooth connection,\" \"easy to charge\" – describe positive user experiences.\n",
            "\n",
            "\n",
            "**3. Comparisons with Competitor Products:**\n",
            "\n",
            "* The Anker Soundcore 12W is directly compared, with the reviewer finding the Tribit XSound Go inferior in terms of sound and volume despite being rated at a higher wattage.\n",
            "* The JBL Flip 6 is mentioned as an alternative the reviewer considered buying but ultimately chose the Tribit XSound Go due to order cancellation issues with JBL.  This comparison highlights the contingency of the Tribit purchase, not a direct quality comparison.\n",
            "\n",
            "\n",
            "**4. Unexpected or Unique Feedback:**\n",
            "\n",
            "* The difficulty opening the water-resistant charging port cover with soft fingernails is an unexpected complaint, demonstrating a minor design issue.\n",
            "* One user's wife commandeering the speaker for work trips, while positive for the speaker's sound quality, is a unique and humorous anecdote.  It suggests the excellent sound quality was appreciated, at least by one person.\n",
            "* The lack of voice prompts during Bluetooth pairing is considered minor and acceptable, demonstrating diverse user tolerance levels.\n",
            "\n",
            "\n",
            "**Overall:**\n",
            "\n",
            "While many users appreciate the Tribit XSound Go's portability, ease of use, and sound quality in close proximity, a significant number report concerning reliability and durability issues.  The inconsistency of experiences highlights a potential quality control problem with the product.  The positive reviews often focus on portability and convenience, while negative reviews center on functionality and longevity.  The comparisons with competitor products indirectly suggest the Tribit might not be the optimal choice for users requiring high volume and strong bass in larger spaces.\n",
            "\n"
          ]
        }
      ]
    },
    {
      "cell_type": "markdown",
      "source": [
        "# Comparative Analysis"
      ],
      "metadata": {
        "id": "6LO6UWLLFR-V"
      }
    },
    {
      "cell_type": "code",
      "source": [
        "# Check unique products in your dataset\n",
        "unique_products = df['product_name'].unique()\n",
        "print(\"Products in dataset:\")\n",
        "for product in unique_products:\n",
        "    print(f\"- {product}\")"
      ],
      "metadata": {
        "colab": {
          "base_uri": "https://localhost:8080/"
        },
        "id": "OlA6wWRJOx2K",
        "outputId": "015b49a0-84bc-4974-963a-3f99906d0b0b"
      },
      "execution_count": null,
      "outputs": [
        {
          "output_type": "stream",
          "name": "stdout",
          "text": [
            "Products in dataset:\n",
            "- beats pill\n",
            "- jbl flip 6\n",
            "- bose soundlink flex\n",
            "- anker soundcore 2\n",
            "- doss soundbox touch\n",
            "- tribit xsound go\n"
          ]
        }
      ]
    },
    {
      "cell_type": "code",
      "source": [
        "def analyze_comparative_reviews(reviews_dict):\n",
        "    # Combine all product names for the prompt\n",
        "    products_list = \", \".join(reviews_dict.keys())\n",
        "\n",
        "    prompt_message = f\"\"\"Compare customer feedback across these products: {products_list}\n",
        "\n",
        "    For each product, analyze:\n",
        "    1. Standout features and unique selling points\n",
        "    2. Common complaints or limitations\n",
        "    3. Price-to-value perception\n",
        "    4. Target user preferences\n",
        "\n",
        "    Then compare:\n",
        "    1. Key differences in customer satisfaction\n",
        "    2. Feature preferences across products\n",
        "    3. Quality and reliability mentions\n",
        "\n",
        "    Format as a structured comparison with specific examples.\"\"\"\n",
        "\n",
        "    # Combine reviews with product labels\n",
        "    combined_reviews = []\n",
        "    for product, reviews in reviews_dict.items():\n",
        "        labeled_reviews = [f\"[{product}] {review}\" for review in reviews]\n",
        "        combined_reviews.extend(labeled_reviews[:50])  # Take first 50 reviews per product\n",
        "\n",
        "    return analyze_reviews(combined_reviews, api_key, prompt_message)"
      ],
      "metadata": {
        "id": "TdkQDrexFTnI"
      },
      "execution_count": null,
      "outputs": []
    },
    {
      "cell_type": "code",
      "source": [
        "# Compare beats and jbl\n",
        "products_to_compare1 = ['beats pill', 'jbl flip 6']\n",
        "reviews_dict1 = {}\n",
        "for product in products_to_compare1:\n",
        "    reviews = df[df['product_name'] == product]['content'].tolist()[:50]\n",
        "    reviews_dict1[product] = reviews\n",
        "\n",
        "comparison1_insights = analyze_comparative_reviews(reviews_dict1)\n",
        "print(comparison1_insights)"
      ],
      "metadata": {
        "colab": {
          "base_uri": "https://localhost:8080/",
          "height": 1000
        },
        "id": "xMVOfetZOEH1",
        "outputId": "9efb9d9f-ed6f-445c-9e98-255b4db28ac0"
      },
      "execution_count": null,
      "outputs": [
        {
          "output_type": "stream",
          "name": "stdout",
          "text": [
            "## Beats Pill vs. JBL Flip 6: A Customer Feedback Comparison\n",
            "\n",
            "This comparison analyzes customer feedback for the Beats Pill and JBL Flip 6 portable Bluetooth speakers, drawing on the provided reviews.\n",
            "\n",
            "**Beats Pill**\n",
            "\n",
            "1. **Standout Features & Unique Selling Points:**\n",
            "    * **Sound Quality (for its size):** Many reviewers praise the surprisingly rich and clear sound, particularly the bass, for a speaker of its compact size.  Several compare it favorably to more expensive brands like Bose.\n",
            "    * **Compact and Portable Design:** Its small size and portability are repeatedly highlighted as positive aspects, making it ideal for travel and various locations.\n",
            "    * **Apple Ecosystem Integration:** Some reviewers mention seamless connectivity with Apple products.\n",
            "\n",
            "2. **Common Complaints & Limitations:**\n",
            "    * **Battery Life:**  A recurring complaint centers around the battery life, often falling short of the advertised 24 hours, especially at higher volumes.\n",
            "    * **Volume/Power:** While generally considered loud for its size, some users felt the volume wasn't sufficient, particularly considering the price.\n",
            "    * **Quality Control Issues:** A few reviews mentioned receiving damaged or defective units, highlighting potential quality control problems.\n",
            "    * **Controls:**  Some users found the controls inconvenient or difficult to use, particularly pairing new devices.\n",
            "\n",
            "\n",
            "3. **Price-to-Value Perception:**\n",
            "    *  Many users found the Beats Pill to be good value, especially when purchased on sale for around $99.  However, those experiencing battery issues or insufficient volume felt it was overpriced.\n",
            "\n",
            "4. **Target User Preferences:**\n",
            "    * Individuals prioritizing sound quality (especially bass) in a compact, portable design, particularly Apple users, seem to be the target audience.\n",
            "\n",
            "\n",
            "**JBL Flip 6**\n",
            "\n",
            "1. **Standout Features & Unique Selling Points:**\n",
            "    * **Sound Quality and Loudness:**  Reviewers consistently praise the clear, loud, and powerful sound, often mentioning impressive bass for its size.  Many find the sound superior to the Beats Pill.\n",
            "    * **Portability:** Its compact size makes it easy to carry.\n",
            "    * **Water Resistance (IPX7):**  The waterproof feature is highlighted as a key advantage for outdoor use.\n",
            "    * **PartyBoost:** The ability to pair with other JBL speakers is a notable feature for larger gatherings.\n",
            "\n",
            "2. **Common Complaints & Limitations:**\n",
            "    * **Battery Life:** Similar to the Beats Pill, some users reported shorter battery life than advertised.\n",
            "    * **Lack of On-Speaker Controls:** The inability to adjust volume directly on the speaker itself is a recurring criticism.\n",
            "    * **Shipping/Delivery Issues:** Some reviews mention long shipping times or issues with specific sellers.\n",
            "    * **No Low Battery Warning:**  The absence of a low battery warning is cited as inconvenient.\n",
            "\n",
            "\n",
            "3. **Price-to-Value Perception:**\n",
            "    *  Most users consider the JBL Flip 6 to offer good value for its sound quality and features, although some felt it was overpriced given some of its limitations.\n",
            "\n",
            "4. **Target User Preferences:**\n",
            "    * The target audience appears to be users who prioritize loud, clear sound with good portability and water resistance, valuing functionality and outdoor use.\n",
            "\n",
            "\n",
            "**Comparison:**\n",
            "\n",
            "1. **Key Differences in Customer Satisfaction:**\n",
            "    * Overall, customer satisfaction appears slightly higher for the JBL Flip 6. While both products receive praise for sound quality, the Flip 6 consistently scores higher on loudness and the overall listening experience. The Beats Pill suffers more from inconsistent battery life reports and quality control issues.\n",
            "\n",
            "2. **Feature Preferences Across Products:**\n",
            "    *  Customers prioritize sound quality in both, but the JBL Flip 6's louder output and bass seem more appreciated. The Beats Pill's compact design is a strong selling point, but its battery life consistently underperforms in reviews.  The Flip 6's waterproofing is a major plus for many users.\n",
            "\n",
            "3. **Quality and Reliability Mentions:**\n",
            "    * The JBL Flip 6 receives generally positive comments on build quality and durability, while the Beats Pill has a notable number of reviews mentioning defects or quality control issues.  Both products have inconsistent battery life reports, but the complaints are more prevalent for the Beats Pill.\n",
            "\n",
            "\n",
            "**Conclusion:**\n",
            "\n",
            "Both the Beats Pill and JBL Flip 6 offer good sound quality in a portable package. However, the JBL Flip 6 seems to edge out the Beats Pill in overall customer satisfaction due to its superior loudness, more consistent performance, and valued waterproofing feature. The Beats Pill's main selling points are its compact size and (sometimes) competitive pricing, but its battery life and quality control issues need improvement.  The best choice ultimately depends on individual priorities: compact size vs. louder sound and water resistance.\n",
            "\n"
          ]
        }
      ]
    },
    {
      "cell_type": "code",
      "source": [
        "# Compare beats and boe\n",
        "products_to_compare2 = ['beats pill', 'bose soundlink flex']\n",
        "reviews_dict2 = {}\n",
        "for product in products_to_compare2:\n",
        "    reviews = df[df['product_name'] == product]['content'].tolist()[:50]\n",
        "    reviews_dict2[product] = reviews\n",
        "\n",
        "comparison2_insights = analyze_comparative_reviews(reviews_dict2)\n",
        "print(comparison2_insights)"
      ],
      "metadata": {
        "colab": {
          "base_uri": "https://localhost:8080/",
          "height": 1000
        },
        "id": "hyUauYqfOD-S",
        "outputId": "bce76c61-982c-4ea8-c68f-04b3c1f3b2f9"
      },
      "execution_count": null,
      "outputs": [
        {
          "output_type": "stream",
          "name": "stdout",
          "text": [
            "## Beats Pill vs. Bose SoundLink Flex: A Customer Feedback Comparison\n",
            "\n",
            "This comparison analyzes customer feedback for the Beats Pill and Bose SoundLink Flex portable Bluetooth speakers.  Note that the provided Beats Pill reviews appear to refer to a newer model, while the Bose SoundLink Flex reviews seem to be predominantly about the second generation.\n",
            "\n",
            "**Beats Pill**\n",
            "\n",
            "**1. Standout Features and Unique Selling Points:**\n",
            "\n",
            "* **Powerful Sound for its Size:** Many reviewers praised the surprisingly loud and clear sound, especially the bass, considering its compact form factor.  Several directly compared it favorably to larger, more expensive systems.\n",
            "* **Compact and Portable Design:** Its small size and portability were repeatedly highlighted as a key advantage, making it ideal for travel and various uses.\n",
            "\n",
            "**2. Common Complaints or Limitations:**\n",
            "\n",
            "* **Battery Life:**  A recurring criticism was the battery life falling short of the advertised 24 hours, especially at higher volumes. Actual battery life varied considerably, with some reporting only 6-7 hours.\n",
            "* **Quality Control Issues:** Some users reported receiving defective units with bent bodies, dirt, or battery/volume issues.\n",
            "* **Control Issues:**  The controls were sometimes described as fiddly or difficult to use, particularly pairing new devices or turning the speaker off completely.\n",
            "* **Volume:** Some users felt the volume was not sufficient for the price, even if the sound quality was good at moderate volumes.\n",
            "\n",
            "\n",
            "**3. Price-to-Value Perception:**\n",
            "\n",
            "Reviews were mixed.  Many considered it a good value, especially when purchased on sale for around $99, praising the sound quality. Others felt it was overpriced given its battery life and potential quality control issues.\n",
            "\n",
            "**4. Target User Preferences:**\n",
            "\n",
            "The Beats Pill seems to appeal to users who prioritize powerful, balanced sound in a small, portable package, even if it means compromising on battery life and potentially dealing with some minor usability issues.  The $99 sale price point seems to strongly influence many positive reviews.\n",
            "\n",
            "\n",
            "**Bose SoundLink Flex**\n",
            "\n",
            "**1. Standout Features and Unique Selling Points:**\n",
            "\n",
            "* **Excellent Sound Quality:**  Reviewers consistently lauded the exceptional sound quality, with many noting rich, clear audio, strong bass, and lack of distortion even at higher volumes.  Several comparisons were made to higher-end audio equipment.\n",
            "* **Robust and Durable Design:** The rugged, waterproof, and dustproof design was a major selling point, making it suitable for outdoor use.\n",
            "* **Long Battery Life:**  While some reported shorter-than-expected battery life, many users noted impressive battery performance.\n",
            "* **Easy Connectivity:**  The effortless Bluetooth pairing was frequently praised.\n",
            "\n",
            "**2. Common Complaints or Limitations:**\n",
            "\n",
            "* **Lack of Included Charging Cable:** A surprising number of reviews mentioned the absence of a charging cable in the box.\n",
            "* **Volume:** A few reviews indicated the volume was insufficient in noisy environments.\n",
            "* **Sound Balance (Bass Heavy):** Some found the bass to be a bit overpowering, leading to an imbalance in the overall sound.\n",
            "* **Price:** While generally considered high-quality, a few mentioned price as a barrier to entry.\n",
            "* **Bose App Compatibility:**  Some users experienced issues or limited functionality with Bose’s app.\n",
            "\n",
            "**3. Price-to-Value Perception:**\n",
            "\n",
            "Most reviewers felt the Bose SoundLink Flex offered excellent value for its price, especially considering its superior sound quality, durability, and battery life compared to competitors.\n",
            "\n",
            "\n",
            "**4. Target User Preferences:**\n",
            "\n",
            "The Bose SoundLink Flex attracts users prioritizing premium sound quality, durability, and convenience for outdoor and active lifestyles.\n",
            "\n",
            "\n",
            "**Comparison**\n",
            "\n",
            "\n",
            "**1. Key Differences in Customer Satisfaction:**\n",
            "\n",
            "Overall customer satisfaction appears higher for the Bose SoundLink Flex. While both products received many positive reviews regarding sound quality, the Bose SoundLink Flex had fewer consistent negative reviews about quality control and battery life.\n",
            "\n",
            "**2. Feature Preferences Across Products:**\n",
            "\n",
            "* **Sound:** Both speakers generally receive positive feedback for their sound, but Bose is more consistently praised for its superior overall quality and lack of distortion, while Beats is often commended for its bass response.\n",
            "* **Portability:**  Both are portable, with Beats Pill being smaller and lighter.\n",
            "* **Durability:** The Bose SoundLink Flex's rugged design is a significant differentiator.\n",
            "\n",
            "**3. Quality and Reliability Mentions:**\n",
            "\n",
            "The Bose SoundLink Flex receives more consistent praise for its quality and reliability.  The Beats Pill, while having many satisfied users, suffers from a notable number of reviews citing defects and quality control issues.  The frequency of these complaints suggests a potential problem with product consistency for Beats.\n",
            "\n",
            "\n",
            "**Conclusion:**\n",
            "\n",
            "Both the Beats Pill and Bose SoundLink Flex offer compelling features for different users.  The Beats Pill provides a surprisingly powerful sound in a very compact and affordable package (especially on sale), while the Bose SoundLink Flex excels in sound quality, durability, and longer battery life, justifying its higher price point for many.  However, Bose's consistently higher rating for quality control and fewer reported defects give it a significant edge in reliability.\n",
            "\n"
          ]
        }
      ]
    },
    {
      "cell_type": "code",
      "source": [
        "# Compare beats and anker\n",
        "products_to_compare3 = ['beats pill', 'anker soundcore 2']\n",
        "reviews_dict3 = {}\n",
        "for product in products_to_compare3:\n",
        "    reviews = df[df['product_name'] == product]['content'].tolist()[:50]\n",
        "    reviews_dict3[product] = reviews\n",
        "\n",
        "comparison3_insights = analyze_comparative_reviews(reviews_dict3)\n",
        "print(comparison3_insights)"
      ],
      "metadata": {
        "colab": {
          "base_uri": "https://localhost:8080/",
          "height": 1000
        },
        "id": "7zaHyC-jODz-",
        "outputId": "9cec031c-f989-4629-aa03-de93f1d249a3"
      },
      "execution_count": null,
      "outputs": [
        {
          "output_type": "stream",
          "name": "stdout",
          "text": [
            "## Beats Pill vs. Anker Soundcore 2: A Customer Feedback Comparison\n",
            "\n",
            "This comparison analyzes customer feedback for the Beats Pill and Anker Soundcore 2 portable Bluetooth speakers.  Feedback is based on the provided text snippets.\n",
            "\n",
            "**Beats Pill**\n",
            "\n",
            "1. **Standout Features & Unique Selling Points:**\n",
            "    * **Superior Sound Quality (Highs & Lows):**  Many users praise the surprisingly rich and clear sound, especially the bass, for its small size.  Comparisons to larger, more expensive systems are made.  One user even noted improved sound quality compared to their older Beats Pill and JBL speakers.\n",
            "    * **Compact & Portable Design:** Its small size and portability are frequently highlighted as advantages, making it ideal for travel and easy transport.\n",
            "\n",
            "2. **Common Complaints & Limitations:**\n",
            "    * **Battery Life:**  The advertised 24-hour battery life is frequently contradicted, with users reporting significantly shorter playtime, especially at higher volumes.\n",
            "    * **Volume/Power:** Some users find the volume insufficient for the price, despite others praising its loudness.\n",
            "    * **Quality Control Issues:** Reports of damaged or defective units upon arrival suggest inconsistencies in manufacturing quality.\n",
            "    * **Controls:**  Some users find the controls awkward or difficult to use, particularly the power button.\n",
            "\n",
            "\n",
            "3. **Price-to-Value Perception:**\n",
            "    *  Generally positive when purchased on sale (around $99), considered a \"steal\" by some.  At full price ($150), the value proposition is less clear, with some questioning the price for the volume output.\n",
            "\n",
            "4. **Target User Preferences:**\n",
            "    * Users who prioritize sound quality and portability over other features, particularly at a discounted price.  The brand recognition of Beats may also appeal to certain demographics.\n",
            "\n",
            "\n",
            "**Anker Soundcore 2**\n",
            "\n",
            "1. **Standout Features & Unique Selling Points:**\n",
            "    * **Affordability:** Often praised for its value for money, especially at discounted prices.\n",
            "    * **Long Battery Life:** While some reports of shorter battery life exist, many users highlight its impressive endurance.\n",
            "    * **Portability & Durability:** Its compact size and perceived robustness make it suitable for various environments, including outdoor use.\n",
            "\n",
            "\n",
            "2. **Common Complaints & Limitations:**\n",
            "    * **Volume/Power:** Some users feel it lacks sufficient volume for larger spaces or outdoor use.\n",
            "    * **App Incompatibility:** This specific model's lack of compatibility with the Anker Soundcore app is a significant drawback for some.\n",
            "    * **Audio Delay:**  A noticeable audio delay is reported when used with certain devices or for specific purposes (e.g., with electronic drum kits).\n",
            "    * **Recall:**  The mention of a recall due to potential fire hazard is a major negative.\n",
            "    * **Auto-shutoff:** The auto-shutoff feature is considered annoying by some.\n",
            "\n",
            "\n",
            "3. **Price-to-Value Perception:**\n",
            "    * Highly positive when purchased at a discounted price.  At full price, opinions are more divided.\n",
            "\n",
            "4. **Target User Preferences:**\n",
            "    * Budget-conscious consumers seeking a portable, durable speaker with decent sound quality and long battery life.  Its suitability for various uses (e.g., snowboarding, showering, workshops) appeals to a broad audience.\n",
            "\n",
            "\n",
            "**Comparison:**\n",
            "\n",
            "1. **Key Differences in Customer Satisfaction:**\n",
            "    * The Beats Pill receives higher praise for its sound quality, but suffers from inconsistent quality control and battery life issues.  The Anker Soundcore 2 garners more positive feedback regarding value for money and battery life, but suffers from lower volume in some situations and the significant negative of a recall.  Overall satisfaction seems higher for the Beats Pill when purchased on sale, while the Anker's price advantage makes it more appealing in that regard.\n",
            "\n",
            "2. **Feature Preferences Across Products:**\n",
            "    * Sound quality is the primary factor driving Beats Pill purchases, while affordability and battery life are more significant for the Anker Soundcore 2.\n",
            "\n",
            "3. **Quality and Reliability Mentions:**\n",
            "    * The Beats Pill has reports of manufacturing defects and inconsistent battery life, affecting its reliability. The Anker Soundcore 2's recall severely impacts its reliability rating, despite generally positive feedback about its durability.  Both brands have inconsistencies in their quality control.\n",
            "\n",
            "\n",
            "**Conclusion:**\n",
            "\n",
            "Both speakers have their strengths and weaknesses.  The Beats Pill excels in sound quality (especially at a discounted price) but suffers from inconsistent build quality and battery life.  The Anker Soundcore 2 offers better value for money and longer battery life but falls short in terms of maximum volume and has the serious issue of a product recall.  The choice ultimately depends on individual priorities and budget.\n",
            "\n"
          ]
        }
      ]
    },
    {
      "cell_type": "code",
      "source": [
        "# Compare beats and doss\n",
        "products_to_compare4 = ['beats pill', 'doss soundbox touch']\n",
        "reviews_dict4 = {}\n",
        "for product in products_to_compare4:\n",
        "    reviews = df[df['product_name'] == product]['content'].tolist()[:50]\n",
        "    reviews_dict4[product] = reviews\n",
        "\n",
        "comparison4_insights = analyze_comparative_reviews(reviews_dict4)\n",
        "print(comparison4_insights)"
      ],
      "metadata": {
        "colab": {
          "base_uri": "https://localhost:8080/",
          "height": 1000
        },
        "id": "okKdeotEODm3",
        "outputId": "d0906ae7-946c-44b3-b41a-7e47c9bd1fbb"
      },
      "execution_count": null,
      "outputs": [
        {
          "output_type": "stream",
          "name": "stdout",
          "text": [
            "## Beats Pill vs. Doss Soundbox Touch: A Customer Feedback Comparison\n",
            "\n",
            "This comparison analyzes customer feedback for the Beats Pill and Doss Soundbox Touch portable Bluetooth speakers.\n",
            "\n",
            "**I. Beats Pill**\n",
            "\n",
            "**1. Standout Features and Unique Selling Points:**\n",
            "\n",
            "* **Sound Quality:**  Many reviewers praise the Beats Pill's surprisingly rich and full sound, especially the bass, for its small size.  Several comparisons to larger, more expensive systems highlight its impressive audio output.  The sound is described as \"amazing,\" \"booming,\" and \"clear.\"\n",
            "* **Compact and Portable Design:** Its small size and portability are frequently mentioned as positive aspects, making it ideal for travel and carrying in a bag.\n",
            "* **Brand Recognition:** The Beats brand itself carries a certain appeal for some consumers, associating the product with quality and style.\n",
            "\n",
            "\n",
            "**2. Common Complaints or Limitations:**\n",
            "\n",
            "* **Battery Life:** The advertised 24-hour battery life is frequently disputed, with many users reporting significantly shorter battery life, especially at higher volumes.\n",
            "* **Volume and Distortion:** While praised for its sound, some users find the maximum volume insufficient or note distortion at higher volumes.\n",
            "* **Controls:** Some find the controls cumbersome or difficult to use, particularly pairing new devices and the on/off switch.\n",
            "* **Build Quality Issues:** A few reports mention receiving damaged or defective units, suggesting potential quality control problems.\n",
            "\n",
            "\n",
            "**3. Price-to-Value Perception:**\n",
            "\n",
            "The price-to-value perception is mixed.  Many who purchased it on sale at around $99 consider it a \"steal\" given the sound quality. However, others at the full retail price feel the value is less compelling, especially considering the battery life issues.\n",
            "\n",
            "\n",
            "**4. Target User Preferences:**\n",
            "\n",
            "The Beats Pill appeals to users who value good sound quality in a compact, portable package, and appreciate the Beats brand.  It's suitable for personal use, small gatherings, and those who prioritize portability over extreme volume or extended battery life.\n",
            "\n",
            "\n",
            "**II. Doss Soundbox Touch**\n",
            "\n",
            "**1. Standout Features and Unique Selling Points:**\n",
            "\n",
            "* **Affordability:** The Doss Soundbox Touch is significantly cheaper than the Beats Pill, making it a budget-friendly option.\n",
            "* **Durability and Longevity:** Many reviews highlight the speaker's surprising robustness and long lifespan, with some users reporting years of reliable use, even with rough handling.\n",
            "* **Waterproof/Water-Resistant:** Several reviewers emphasize its ability to withstand water exposure beyond simple splashes, exceeding expectations.\n",
            "\n",
            "\n",
            "**2. Common Complaints or Limitations:**\n",
            "\n",
            "* **Sound Quality:** This is the most frequent complaint.  While some describe the sound as \"good\" or \"decent,\" many find it lacking in clarity, depth, and dynamic range, comparing it unfavorably to other speakers or even small radios.  The sound is often described as \"tinny\" or \"like it's in a cardboard box.\"\n",
            "* **Bluetooth Connectivity:**  Intermittent Bluetooth disconnections and static are recurring issues.\n",
            "* **Controls:**  The touch controls are criticized for being overly sensitive or difficult to use accurately.\n",
            "* **Auto-Shutdown:** The automatic shutdown feature, while energy-saving, is frequently cited as annoying because of the multiple button presses required to restart.\n",
            "\n",
            "\n",
            "**3. Price-to-Value Perception:**\n",
            "\n",
            "Given its low price, many users find the Doss Soundbox Touch to offer good value, especially considering its durability. However, the sound quality limitations are a significant factor affecting the overall perceived value.\n",
            "\n",
            "\n",
            "**4. Target User Preferences:**\n",
            "\n",
            "The Doss Soundbox Touch targets budget-conscious consumers who prioritize affordability, durability, and basic functionality over high-fidelity audio.  It's suitable for casual listening, those who need a rugged speaker, and users less sensitive to subtle audio nuances.\n",
            "\n",
            "\n",
            "**III. Comparison**\n",
            "\n",
            "**1. Key Differences in Customer Satisfaction:**\n",
            "\n",
            "Customer satisfaction is significantly higher for the Beats Pill regarding sound quality, although battery life is a major drawback. The Doss Soundbox Touch has higher satisfaction regarding durability and affordability but lower satisfaction regarding sound quality and Bluetooth reliability.\n",
            "\n",
            "**2. Feature Preferences Across Products:**\n",
            "\n",
            "Users prefer the Beats Pill for its superior sound (despite volume/distortion issues), while the Doss Soundbox Touch is preferred for its durability, affordability, and surprisingly good water resistance.\n",
            "\n",
            "**3. Quality and Reliability Mentions:**\n",
            "\n",
            "The Beats Pill has some reports of build quality issues and battery life problems, impacting reliability.  The Doss Soundbox Touch, while having sound quality concerns, boasts surprisingly high ratings for longevity and durability despite rough handling.  Many users have owned the same unit for years.\n",
            "\n",
            "\n",
            "**Conclusion:**\n",
            "\n",
            "The choice between the Beats Pill and Doss Soundbox Touch depends heavily on individual priorities.  If sound quality is paramount and budget is less of a concern, the Beats Pill offers a better listening experience, despite its drawbacks. However, if affordability, durability, and ruggedness are top priorities, and sound quality is a secondary concern, the Doss Soundbox Touch is a viable and surprisingly resilient option.\n",
            "\n"
          ]
        }
      ]
    },
    {
      "cell_type": "code",
      "source": [
        "# Compare beats and tribit\n",
        "products_to_compare5 = ['beats pill', 'tribit xsound go']\n",
        "reviews_dict5 = {}\n",
        "for product in products_to_compare5:\n",
        "    reviews = df[df['product_name'] == product]['content'].tolist()[:50]\n",
        "    reviews_dict5[product] = reviews\n",
        "\n",
        "comparison5_insights = analyze_comparative_reviews(reviews_dict5)\n",
        "print(comparison5_insights)"
      ],
      "metadata": {
        "colab": {
          "base_uri": "https://localhost:8080/",
          "height": 1000
        },
        "id": "Y9ouFfAUODb_",
        "outputId": "64b744e7-d438-4c16-ad0b-bc7f9fb19099"
      },
      "execution_count": null,
      "outputs": [
        {
          "output_type": "stream",
          "name": "stdout",
          "text": [
            "## Beats Pill vs. Tribit XSound Go: A Customer Feedback Comparison\n",
            "\n",
            "This comparison analyzes customer feedback for the Beats Pill and Tribit XSound Go portable Bluetooth speakers.\n",
            "\n",
            "**Beats Pill**\n",
            "\n",
            "1. **Standout Features & Unique Selling Points:**\n",
            "    * **Sound Quality:**  Many users praise the surprisingly powerful and clear sound, especially the bass, for its small size.  Multiple reviewers compared it favorably to more expensive brands like Bose and JBL, highlighting its richness across frequencies.  Some describe the sound as \"booming\" and filling a room.\n",
            "    * **Brand Recognition & Apple Ecosystem Integration:**  The Beats brand carries prestige, and some users specifically mention seamless integration with Apple products.\n",
            "    * **Compact and Portable Design:** Its small size and portability are consistently mentioned as positive aspects.\n",
            "\n",
            "2. **Common Complaints & Limitations:**\n",
            "    * **Battery Life:**  A recurring complaint is the battery life falling short of the advertised 24 hours, with many reporting significantly less playtime, especially at higher volumes.\n",
            "    * **Volume:** While many found it loud enough, some felt the volume wasn't sufficient for the price, particularly compared to cheaper alternatives with similar volume output.\n",
            "    * **Quality Control Issues:** Several reviews mention receiving damaged or defective units, highlighting inconsistencies in quality control.\n",
            "    * **Controls:** The controls' placement and usability are criticized by some users.\n",
            "\n",
            "\n",
            "3. **Price-to-Value Perception:**\n",
            "    * Opinions are divided.  Many consider it a good value, especially when purchased on sale for under $100, considering its sound quality. Others feel the price doesn't justify the shorter battery life or potential quality control issues.\n",
            "\n",
            "\n",
            "4. **Target User Preferences:**\n",
            "    * Users who prioritize sound quality over other features (like extremely long battery life) and appreciate the Beats brand are the target audience.  The compact size appeals to those needing portability.\n",
            "\n",
            "\n",
            "**Tribit XSound Go**\n",
            "\n",
            "1. **Standout Features & Unique Selling Points:**\n",
            "    * **Value for Money:**  Many reviewers emphasize the excellent price-to-performance ratio.\n",
            "    * **Portability & Compact Size:**  Similar to the Beats Pill, its small size is a strong selling point.\n",
            "    * **Battery Life:** While not explicitly stated as superior in all reviews, the battery life seems more consistently praised compared to the Beats Pill.\n",
            "    * **Easy Pairing & Use:** Many users highlighted the simplicity of setup and Bluetooth connectivity.\n",
            "\n",
            "2. **Common Complaints & Limitations:**\n",
            "    * **Volume & Bass:** Some users find the volume and bass insufficient, especially compared to other models or their previous Tribit speakers.  This suggests variability in user expectations.\n",
            "    * **Reliability & Longevity:** Several reviews report units failing prematurely, raising concerns about long-term durability.\n",
            "    * **Charging Issues:**  Some users faced difficulties charging the speaker, either with specific chargers or at all, indicating potential design flaws or quality control inconsistencies.\n",
            "    * **Lack of Clarity in Instructions:** Some users struggled to understand or follow the instructions for certain features (e.g., serial mode).\n",
            "\n",
            "3. **Price-to-Value Perception:**\n",
            "    * Overwhelmingly positive.  Users repeatedly highlight the exceptional value for the price, considering the sound quality and portability.\n",
            "\n",
            "\n",
            "4. **Target User Preferences:**\n",
            "    * Budget-conscious consumers seeking a portable speaker with decent sound quality are the primary target. Those who value ease of use and a compact size also appreciate this speaker.\n",
            "\n",
            "\n",
            "**Comparison:**\n",
            "\n",
            "1. **Key Differences in Customer Satisfaction:**\n",
            "    * The Beats Pill receives more polarized reviews, with strong praise for sound quality balanced by significant complaints about battery life and inconsistent quality control.\n",
            "    * The Tribit XSound Go enjoys generally higher customer satisfaction due to its consistently positive price-to-value perception. However, reliability concerns similar to those of Beats Pill are present.\n",
            "\n",
            "2. **Feature Preferences Across Products:**\n",
            "    * **Sound Quality:** Beats Pill is favored for sound quality, particularly bass response, by many, although this is subjective.\n",
            "    * **Value:** Tribit XSound Go is largely preferred for its value.\n",
            "    * **Battery life:** While both have inconsistencies, Tribit shows more positive feedback regarding battery life comparatively.\n",
            "\n",
            "3. **Quality and Reliability Mentions:**\n",
            "    * Both products have reviews mentioning quality control issues and premature failures, indicating potential weaknesses in manufacturing or design for both brands.  Neither is demonstrably superior in this aspect.\n",
            "\n",
            "\n",
            "**Conclusion:**\n",
            "\n",
            "Both the Beats Pill and Tribit XSound Go offer compelling features at their respective price points.  The Beats Pill wins on perceived sound quality (though subjective), while the Tribit XSound Go offers better overall value and seemingly more consistent battery life (though again, reviews are mixed on both).  However, both brands need to address concerns about reliability and consistency in manufacturing.  The ultimate choice depends on individual priorities and budget.\n",
            "\n"
          ]
        }
      ]
    },
    {
      "cell_type": "markdown",
      "source": [
        "# Feature Specific Analysis"
      ],
      "metadata": {
        "id": "pmc4QtkuIp51"
      }
    },
    {
      "cell_type": "code",
      "source": [
        "# Check unique products in your dataset\n",
        "unique_products = df['product_name'].unique()\n",
        "print(\"Products in dataset:\")\n",
        "for product in unique_products:\n",
        "    print(f\"- {product}\")"
      ],
      "metadata": {
        "colab": {
          "base_uri": "https://localhost:8080/"
        },
        "id": "h-6vH_BzPmb_",
        "outputId": "bdf0fd2c-37a6-4678-8286-4771f91f79e8"
      },
      "execution_count": null,
      "outputs": [
        {
          "output_type": "stream",
          "name": "stdout",
          "text": [
            "Products in dataset:\n",
            "- beats pill\n",
            "- jbl flip 6\n",
            "- bose soundlink flex\n",
            "- anker soundcore 2\n",
            "- doss soundbox touch\n",
            "- tribit xsound go\n"
          ]
        }
      ]
    },
    {
      "cell_type": "code",
      "source": [
        "# Load your dataset\n",
        "df = pd.read_csv('/content/amazon_reviews_data_clean_with_sentiment.csv')\n",
        "\n",
        "def analyze_feature(reviews, feature_name):\n",
        "    prompt_message = f\"\"\"Analyze mentions of {feature_name} in these reviews:\n",
        "    1. How do customers describe the {feature_name}?\n",
        "    2. What specific aspects are praised or criticized?\n",
        "    3. How does {feature_name} compare across products?\n",
        "    4. What improvements do customers suggest?\n",
        "\n",
        "    Include specific quotes and examples.\"\"\"\n",
        "\n",
        "    return analyze_reviews(reviews, api_key, prompt_message)\n",
        "\n",
        "# Analyze battery life mentions across all products\n",
        "battery_reviews = df[\n",
        "    df['content'].str.contains('battery|charge|power', case=False, na=False)\n",
        "]['content'].tolist()[:100]\n",
        "\n",
        "battery_insights = analyze_feature(battery_reviews, \"battery life\")\n",
        "\n",
        "print(battery_insights)"
      ],
      "metadata": {
        "colab": {
          "base_uri": "https://localhost:8080/",
          "height": 679
        },
        "id": "pCxwrEajIrKe",
        "outputId": "95e7c98d-b2ab-4462-f9a0-e91e70010575"
      },
      "execution_count": null,
      "outputs": [
        {
          "output_type": "stream",
          "name": "stdout",
          "text": [
            "## Analysis of Battery Life Mentions in Speaker Reviews\n",
            "\n",
            "This analysis examines customer reviews focusing on the battery life of various Bluetooth speakers.\n",
            "\n",
            "**1. How do customers describe the battery life?**\n",
            "\n",
            "Customer descriptions of battery life range from overwhelmingly positive (\"lasts a long time,\" \"lasts forever,\" \"excellent,\" \"outstanding\") to extremely negative (\"barely holds a charge for two hours,\" \"does not hold a charge past 10%,\" \"dies after 3 hours\"). Many reviews mention advertised battery life (often 24 hours) and compare the actual performance to this claim, frequently finding a significant discrepancy.  Some customers provide specific usage examples and durations, like \"I use it from 6 to 7 hours a day. I charge it about once every three days,\" while others offer vague assessments like \"lasts a very long time on a full charge (I haven't calculated exactly).\"\n",
            "\n",
            "\n",
            "**2. What specific aspects are praised or criticized?**\n",
            "\n",
            "**Praised aspects:**\n",
            "\n",
            "* **Long playtime:**  Many reviews praise speakers for their unexpectedly long battery life, exceeding expectations for several hours or even days of use with moderate volume.  For example: \"the battery life of the beats pills is excellent getting us through a whole evening of outdoor watching.\"  \"the battery seems to last forever.\" \"Long battery life, strong bluetooth connection, fantastic sound for the size and price.\"\n",
            "* **Fast charging:** Some customers appreciate the quick charging capabilities of certain speakers.  \"it does charge rather quickly.\"\n",
            "\n",
            "**Criticized aspects:**\n",
            "\n",
            "* **Short playtime:** The most common criticism is that the battery life falls far short of advertised claims.  Many reviewers express disappointment when their speaker only lasts a few hours instead of the promised 24 hours. \"the playtime is nowhere near 24 hrs as advertised. it does charge rather quickly, but only plays about 6-7 hours on a full charge.\"  \"it goes from 100% to 60% in about an hour…\" \"really disappointed that the device barely holds a charge for two hours.\"\n",
            "* **Battery malfunction:** Some reviews report complete battery failure or inability to hold a charge, suggesting defects in individual units: \"speaker does not hold charge past 10%.\" \"doesn’t hold a charge. I plug it in to be charged after it dying on me then 5 mins later the light is green… wtf?\" \"i had high hopes for these speakers but i'm sadly disappointed in its shelf life. i can't even charged the speakers anymore after just under 2 years of owning them.\"\n",
            "* **Lack of low battery warning:**  One reviewer specifically mentions the absence of a low battery warning as a negative point. \"the only downside is that it doesn't have a low battery warning feature.\"\n",
            "\n",
            "\n",
            "**3. How does battery life compare across products?**\n",
            "\n",
            "Direct comparisons across brands and models are limited in the provided reviews. However, some reviews implicitly compare battery life. For instance, one reviewer states that their Tribit speaker outperformed another speaker in terms of battery life. Another reviewer favorably compares a new Beats Pill to their 7-year-old model, highlighting the latter's still-functional battery as a point of contrast. The JBL Flip 6 is frequently praised for its 12-hour playtime, while other, unnamed speakers receive criticism for falling short of similar claims.  Bose products are mentioned several times with positive comments about battery life.\n",
            "\n",
            "\n",
            "**4. What improvements do customers suggest?**\n",
            "\n",
            "* **Longer battery life:** This is the most frequent improvement suggested, particularly when the actual battery life falls short of advertised durations.\n",
            "* **Low battery warning:**  A low battery warning feature is explicitly requested by at least one reviewer.\n",
            "* **Improved battery reliability:** Several reviews highlighting battery malfunctions implicitly suggest the need for better quality control and more reliable batteries.\n",
            "\n",
            "\n",
            "In summary, battery life is a crucial factor influencing customer satisfaction.  While some speakers receive high praise for their long battery life, many reviews highlight significant discrepancies between advertised and actual performance, along with instances of battery malfunction.  This suggests a need for manufacturers to improve both battery technology and quality control.\n",
            "\n"
          ]
        }
      ]
    },
    {
      "cell_type": "code",
      "source": [
        "# Analyze price mentions across all products\n",
        "price_reviews = df[\n",
        "    df['content'].str.contains('price|cost', case=False, na=False)\n",
        "]['content'].tolist()[:100]\n",
        "\n",
        "price_insights = analyze_feature(price_reviews, \"price\")\n",
        "\n",
        "print(price_insights)"
      ],
      "metadata": {
        "colab": {
          "base_uri": "https://localhost:8080/",
          "height": 661
        },
        "id": "YzveE35AQ-xo",
        "outputId": "90f0b686-cb25-4bd8-e8af-7311dede7214"
      },
      "execution_count": null,
      "outputs": [
        {
          "output_type": "stream",
          "name": "stdout",
          "text": [
            "## Analysis of Price Mentions in Bluetooth Speaker Reviews\n",
            "\n",
            "These reviews frequently mention price, often in relation to perceived value and sound quality.\n",
            "\n",
            "**1. How do customers describe the price?**\n",
            "\n",
            "Customers use a variety of terms to describe the price, reflecting a range of experiences:\n",
            "\n",
            "* **Positive:** \"incredible price,\" \"great price,\" \"a steal,\" \"cheaper price,\" \"a deal I couldn't refuse,\" \"good price,\" \"affordable price,\" \"good value for the price,\" \"very acceptable sound for the price,\" \"amazing quality for the price,\" \"great value for the price,\" \"simple price,\" \"cheap!\"\n",
            "* **Negative:** \"overpriced,\" \"not loud enough for the price,\" \"would never pay full price.\"\n",
            "* **Neutral:** \"decent price,\" \"price was decent.\"\n",
            "\n",
            "\n",
            "**2. What specific aspects are praised or criticized?**\n",
            "\n",
            "Price is most often linked to:\n",
            "\n",
            "* **Sound quality:**  Many positive comments highlight the excellent sound quality *for the price*.  For example, \"amazing sound at a great price,\" \"fantastic sound for the size and price,\" and \"sound is wayyyy better than my similarly priced Edifier speakers.\" Conversely, some negative reviews mention that the sound quality wasn't sufficient to justify the price:  \"not that loud enough for the price,\" \"the sound is thin and tinny...nothing to be impressed about at all.\"\n",
            "* **Value:**  Reviewers frequently emphasize getting \"bang for your buck\" or achieving great value, especially when comparing the speaker to more expensive alternatives: \"this speaker is half the price and equal sound quality.\" \"they sound better than units twice as big, and four times the cost.\"\n",
            "* **Deals and Sales:** Black Friday sales are mentioned several times, showing that customers are highly sensitive to discounts: \"got it on Black Friday for a great price.\" \"purchased this red flip 6 on Black Friday at a great price!\"\n",
            "\n",
            "\n",
            "**3. How does price compare across products?**\n",
            "\n",
            "Direct price comparisons are made with other brands (JBL, Bose, Edifier) and even within the same brand across different models.  Several reviewers found their purchase to be superior in sound quality to similarly priced competitors.  One customer explicitly states their speaker’s sound is \"way, way better\" than a similarly priced Edifier speaker. Another compares favorably to more expensive JBL speakers.  Conversely, one review states there are \"other good solutions for lower price point\".\n",
            "\n",
            "\n",
            "**4. What improvements do customers suggest?**\n",
            "\n",
            "While most suggestions relate to product features (e.g., improved Bluetooth connectivity), a few indirectly relate to price:\n",
            "\n",
            "* **Transparency:**  One reviewer suggests that Bose should make instructions easier to access, implying that better information could improve the perceived value at the given price point.\n",
            "* **Price-Performance Ratio:** While not explicitly stated as an improvement suggestion, several negative reviews imply a need for better sound quality for the price or a lower price point for the given sound quality.\n",
            "\n",
            "In summary, price is a major factor influencing customer satisfaction with these bluetooth speakers.  Many find great value at lower price points and actively seek out deals. However, for some, the price point doesn't match the perceived sound quality or overall performance.  The reviews underscore the importance of considering price in relation to sound quality and features when purchasing a Bluetooth speaker.\n",
            "\n"
          ]
        }
      ]
    },
    {
      "cell_type": "code",
      "source": [
        "# Analyze sound quality mentions across all products\n",
        "sound_quality_reviews = df[\n",
        "    df['content'].str.contains('sound|quality|sound quality', case=False, na=False)\n",
        "]['content'].tolist()[:100]\n",
        "\n",
        "sound_quality_insights = analyze_feature(sound_quality_reviews, \"sound quality\")\n",
        "\n",
        "print(sound_quality_insights)"
      ],
      "metadata": {
        "colab": {
          "base_uri": "https://localhost:8080/",
          "height": 627
        },
        "id": "Tu1h6SYARWI-",
        "outputId": "6440373b-66ba-4f90-c5a4-a62bbe0859d4"
      },
      "execution_count": null,
      "outputs": [
        {
          "output_type": "stream",
          "name": "stdout",
          "text": [
            "Here's an analysis of the customer reviews regarding sound quality:\n",
            "\n",
            "**1. How do customers describe the sound quality?**\n",
            "\n",
            "Customers overwhelmingly use positive language to describe the sound quality.  Words and phrases like \"amazing,\" \"awesome,\" \"great,\" \"incredible,\" \"magnificent,\" \"impressive,\" \"excellent,\" \"booming,\" \"rich and punchy,\" \"clear and crisp,\" and \"sounds great\" appear frequently.  Many emphasize the sound's clarity and fullness, particularly the bass response, given the relatively small size of the speakers.  Several reviews explicitly compare the sound quality favorably to other brands (Bose, Anker, JBL Flip) or to larger speaker systems.\n",
            "\n",
            "**2. What specific aspects are praised or criticized?**\n",
            "\n",
            "* **Praise:**\n",
            "    * **Bass:** The bass response is frequently praised, with many reviewers surprised by the depth and punchiness for such small speakers.  Examples include: \"the booming sound...fills the house,\" \"the bass is rich and punchy,\" \"this speaker sounds amazing, especially the bass,\" \"as well as lots of bass!\" and \"bass response is very good for a small speaker.\"\n",
            "    * **Clarity:**  The clarity of mids and highs is also frequently mentioned positively.  Reviewers note the ability to hear individual instruments clearly, and that the sound isn't muddy or distorted (except at maximum volume in some cases).  For example: \"the mids and highs are clear and crisp,\" \"words are crisp and clear,\" and \"like you can hear all the different instruments very clearly.\"\n",
            "    * **Volume:** While some desired more volume for the price, many were satisfied with the volume output, even describing it as \"loud enough\" or capable of filling a room.  A few mentioned using two speakers to create a stereo effect to further increase the sound.\n",
            "    * **Overall Sound Profile:** Many describe the overall sound as \"well-balanced\" or \"full stereo.\"  One review specifically mentioned listening to classical music without cringing, a testament to the balanced sound.\n",
            "\n",
            "* **Criticism:**\n",
            "    * **Distortion at Max Volume:**  A few reviews noted slight distortion when the volume was turned all the way up. One user suggested keeping the volume at 75% for optimal sound.\n",
            "    * **Battery Life:**  Several reviews complained that the battery life didn't meet the advertised 24 hours.  Some users reported significantly shorter battery life, especially at higher volumes.\n",
            "    * **Volume (Insufficient for some):** A few reviewers felt the volume wasn't sufficient for their needs, despite others praising its loudness. One review explicitly stated \"thought maybe more volume for the buck.\"\n",
            "    * **Sound Quality Compared to Others:** Some users stated that while the sound is good, it is not as good as a Bose product. One user explicitly compared the Beats Pill favorably to a Bose product, noting they were disappointed in the Bose sound quality.\n",
            "\n",
            "\n",
            "**3. How does sound quality compare across products?**\n",
            "\n",
            "Direct comparisons are made to Bose, Anker, JBL Flip, and Marshall products.  In these comparisons, the Beats Pill frequently receives positive reviews, often surpassing other brands in terms of sound quality, especially considering its size.  One user specifically mentions preferring the Beats Pill to a Bose device they previously owned. However, one user notes that the JBL Flip 6 is better than the Beats Pill 2024.   It's important to note that these are subjective comparisons based on individual preferences.\n",
            "\n",
            "**4. What improvements do customers suggest?**\n",
            "\n",
            "* **Longer Battery Life:** This is the most frequent suggestion for improvement.\n",
            "* **Equalizer in App:**  A few users suggested an equalizer in the app to allow for customization of bass and treble.\n",
            "* **Low Battery Warning:**  One user noted the lack of a low battery warning as a downside.\n",
            "\n",
            "\n",
            "In summary, the reviews overwhelmingly praise the Beats Pill's sound quality, particularly the bass and clarity for its size. However, some users expressed concerns about battery life and distortion at maximum volume.  Comparisons to other brands are mixed, with some users finding the Beats Pill superior.\n",
            "\n"
          ]
        }
      ]
    },
    {
      "cell_type": "code",
      "source": [
        "# Analyze feature improvements across all products\n",
        "feature_improvements_reviews = df[\n",
        "    df['content'].str.contains('feature|features|additional|additional features|improvements|additional improvements', case=False, na=False)\n",
        "]['content'].tolist()[:100]\n",
        "\n",
        "feature_improvment_insights = analyze_feature(feature_improvements_reviews, \"additional features and improvements\")\n",
        "\n",
        "print(feature_improvment_insights)"
      ],
      "metadata": {
        "colab": {
          "base_uri": "https://localhost:8080/",
          "height": 748
        },
        "id": "-sIkqOaqApGG",
        "outputId": "cbc196c7-7e24-4712-d6d6-407c9216e20c"
      },
      "execution_count": null,
      "outputs": [
        {
          "output_type": "stream",
          "name": "stdout",
          "text": [
            "Here's an analysis of the provided reviews, focusing on additional features and improvements:\n",
            "\n",
            "**1. How do customers describe the additional features and improvements?**\n",
            "\n",
            "Customers use enthusiastic and positive language to describe the additional features.  Terms like \"game-changer\" (JBL Flip 6 waterproof feature), \"standout feature\" (JBL Flip 6 12-hour playtime), \"bonus\" (Bose Soundlink Flex fast charging),  \"amazing\" (JBL Flip 6 overall), and \"top-notch\" (Bose Soundlink Flex sound quality) are frequently used.  They highlight the features' impact on their user experience, focusing on convenience, durability, and enhanced performance.\n",
            "\n",
            "**2. What specific aspects are praised or criticized?**\n",
            "\n",
            "* **Praised:**\n",
            "    * **JBL Flip 6:** IPX7 waterproof rating, 12-hour battery life, JBL PartyBoost feature,  powerful sound with deep bass, compact size, and sleek design.  The overall sound quality is repeatedly praised.\n",
            "    * **Bose Soundlink Flex:** Rich, crisp, and clear sound,  lightweight and compact design, seamless Bluetooth pairing with long range, long battery life, fast charging, waterproof and dustproof design.\n",
            "\n",
            "* **Criticized:**\n",
            "    * **JBL Flip 6:** Lack of low battery warning, slow charging time, inability to play while charging.  These criticisms are relatively minor compared to the positive aspects.\n",
            "\n",
            "\n",
            "**3. How do additional features and improvements compare across products?**\n",
            "\n",
            "Both speakers offer impressive features, but cater to slightly different priorities:\n",
            "\n",
            "* **JBL Flip 6:** Focuses on party features (PartyBoost) and a longer battery life (12 hours). Its waterproofing is also a significant selling point.\n",
            "\n",
            "* **Bose Soundlink Flex:** Emphasizes robust design (waterproof and dustproof), superior sound quality across the frequency range, and fast charging.  While battery life is good, it's not explicitly highlighted as a leading feature.\n",
            "\n",
            "\n",
            "**4. What improvements do customers suggest?**\n",
            "\n",
            "The only specific improvement suggested is for the JBL Flip 6:  adding a low battery warning (either a beep or in-app notification) and improving the charging speed and ability to play while charging.  No improvements are suggested for the Bose Soundlink Flex.\n",
            "\n",
            "\n",
            "**Specific Quotes and Examples:**\n",
            "\n",
            "* **JBL Flip 6 (positive):**  \"The ipx7 waterproof feature is a game-changer,\" \"the 12 hours of playtime is another standout feature,\" \"JBL partyboost lets me pair it with other jbl speakers for an even bigger sound experience.\"\n",
            "\n",
            "* **JBL Flip 6 (negative):** \"the only downside is that it doesn't have a low battery warning feature,\" \"it takes a little while to charge up too,\" \"i haven't been able to keep it playing while it's plugged in.\"\n",
            "\n",
            "* **Bose Soundlink Flex (positive):** \"the sound is rich, crisp, and clear,\" \"the fast-charging feature is a bonus!\", \"the waterproof and dustproof features make it worry-free for outdoor use.\"\n",
            "\n",
            "\n",
            "In summary, both speakers receive overwhelmingly positive reviews, highlighting their various advanced features.  The JBL Flip 6 excels in battery life and party functionality, while the Bose Soundlink Flex focuses on superior sound and robust design for outdoor use.  The minor criticisms of the JBL Flip 6 are easily addressable through future software or hardware updates.\n",
            "\n"
          ]
        }
      ]
    },
    {
      "cell_type": "markdown",
      "source": [
        "# Strategic Recommendations"
      ],
      "metadata": {
        "id": "9R92XSuu4CdV"
      }
    },
    {
      "cell_type": "code",
      "source": [
        "def analyze_strategic_recommendations(reviews, product_name):\n",
        "    prompt_message = f\"\"\"Recommend strategic recommendations for {product_name}:\n",
        "    Three Actionable Suggestions (Example format):\n",
        "    1. Recommendation: 'Improve battery life performance'\n",
        "    2. Current State: 'Average 4-hour battery life based on reviews'\n",
        "    3. Target State: 'Match competitor X's 8-hour battery life'\n",
        "    4. Business Impact: 'Address the top customer complaint'\n",
        "    \"\"\"\n",
        "\n",
        "    return analyze_reviews(reviews, api_key, prompt_message)"
      ],
      "metadata": {
        "id": "L7-t02Aa4ELu"
      },
      "execution_count": null,
      "outputs": []
    },
    {
      "cell_type": "code",
      "source": [
        "# Select all reviews to analyze\n",
        "all_reviews = df['content'].tolist()"
      ],
      "metadata": {
        "id": "56tEg1iF5Kmf"
      },
      "execution_count": null,
      "outputs": []
    },
    {
      "cell_type": "code",
      "source": [
        "len(all_reviews)"
      ],
      "metadata": {
        "colab": {
          "base_uri": "https://localhost:8080/"
        },
        "id": "1nhe8adW5XxN",
        "outputId": "904a1735-ebb5-4b6c-b8af-c915dba5e921"
      },
      "execution_count": null,
      "outputs": [
        {
          "output_type": "execute_result",
          "data": {
            "text/plain": [
              "700"
            ]
          },
          "metadata": {},
          "execution_count": 43
        }
      ]
    },
    {
      "cell_type": "code",
      "source": [
        "beats_recommendations = analyze_strategic_recommendations(all_reviews, 'Beats Pill')\n",
        "\n",
        "print(beats_recommendations)"
      ],
      "metadata": {
        "colab": {
          "base_uri": "https://localhost:8080/",
          "height": 523
        },
        "id": "oKV2g3oa5ZfH",
        "outputId": "43d1a18f-21aa-4fbb-ce4f-4959112269e2"
      },
      "execution_count": null,
      "outputs": [
        {
          "output_type": "stream",
          "name": "stdout",
          "text": [
            "Here are three actionable strategic recommendations for Beats Pill, based on the provided customer reviews:\n",
            "\n",
            "**1. Recommendation:** Improve Battery Life and Address Inconsistent Charging\n",
            "\n",
            "**2. Current State:** Customer reviews report widely varying battery life, ranging from a few hours to a week of moderate use.  Many report the advertised 24-hour battery life is not achieved, and some experience inconsistent charging behavior (e.g., rapid charging to 90% and then stalling).  This is a major source of negative feedback.\n",
            "\n",
            "**3. Target State:** Achieve a consistent 8-hour battery life at moderate volume levels across all units. Implement robust charging diagnostics and error handling to prevent charging inconsistencies.  Publicly address the discrepancy between advertised and actual battery life.\n",
            "\n",
            "**4. Business Impact:**  Addressing this top customer complaint will significantly improve customer satisfaction and reduce negative reviews.  Improved battery life increases the perceived value of the product, leading to potentially higher sales and reduced returns.\n",
            "\n",
            "\n",
            "**2. Recommendation:** Enhance the User Interface/Experience (UI/UX)\n",
            "\n",
            "**3. Current State:** Customers report difficulties with pairing new devices, finding and using the controls (particularly on the black model), and turning the speaker off.  Some find the controls \"annoying.\"\n",
            "\n",
            "**4. Target State:** Redesign the physical controls for better tactile feedback and visibility, especially on darker color models.  Develop a user-friendly mobile app that simplifies pairing, offers equalizer settings (as requested by customers), and provides clear, concise instructions.  Consider implementing a more intuitive power-off procedure.\n",
            "\n",
            "**5. Business Impact:** Improved UI/UX will enhance the overall user experience, leading to increased customer satisfaction and positive word-of-mouth referrals.  A well-designed app can also provide opportunities for additional engagement and potentially monetization through in-app purchases or subscriptions.\n",
            "\n",
            "\n",
            "**3. Recommendation:** Improve Quality Control and Packaging\n",
            "\n",
            "**4. Current State:** Some customers received damaged or dirty units (bent, dirt on surface), indicating issues with quality control during manufacturing or packaging. This leads to negative reviews and returns.\n",
            "\n",
            "**5. Target State:** Implement stricter quality control measures at the manufacturing stage to minimize the occurrence of damaged or defective units. Improve packaging to better protect the speakers during shipping and prevent damage. Include clear instructions on how to address minor issues like dirt or smudges.\n",
            "\n",
            "**6. Business Impact:**  Reduced returns and improved product reputation will lead to cost savings and increased brand trust.   Higher quality control will also reflect positively on the brand image and customer perception of Beats Pill's value.\n",
            "\n"
          ]
        }
      ]
    }
  ]
}