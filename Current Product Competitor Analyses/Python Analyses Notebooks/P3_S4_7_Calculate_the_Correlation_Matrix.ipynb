{
  "nbformat": 4,
  "nbformat_minor": 0,
  "metadata": {
    "colab": {
      "provenance": []
    },
    "kernelspec": {
      "name": "python3",
      "display_name": "Python 3"
    },
    "language_info": {
      "name": "python"
    }
  },
  "cells": [
    {
      "cell_type": "markdown",
      "source": [
        "# Import Libraries and Data"
      ],
      "metadata": {
        "id": "KuAel5pEQGEC"
      }
    },
    {
      "cell_type": "code",
      "execution_count": null,
      "metadata": {
        "id": "pJN6FLyQPfdr"
      },
      "outputs": [],
      "source": [
        "import pandas as pd\n",
        "import seaborn as sns\n",
        "import matplotlib.pyplot as plt\n",
        "\n",
        "# Load the dataset\n",
        "df = pd.read_csv('/content/amazon_reviews_data_clean.csv')"
      ]
    },
    {
      "cell_type": "code",
      "source": [
        "# Display first few rows\n",
        "\n",
        "df.head()"
      ],
      "metadata": {
        "colab": {
          "base_uri": "https://localhost:8080/",
          "height": 712
        },
        "id": "EEPvy1FEQZcm",
        "outputId": "db271fa7-c83f-4a5b-9a2f-7074a35c3361"
      },
      "execution_count": null,
      "outputs": [
        {
          "output_type": "execute_result",
          "data": {
            "text/plain": [
              "        review_id  product_id product_name         brand  \\\n",
              "0  r2lvx0omhfzx0l  b0d4sx9rc6   beats pill  beats by dre   \n",
              "1  r1vf3bhpt5c61n  b0d4sx9rc6   beats pill  beats by dre   \n",
              "2  r2yfcrsc298ts7  b0d4sx9rc6   beats pill  beats by dre   \n",
              "3  r1dkvihxe9rzus  b0d4sx9rc6   beats pill  beats by dre   \n",
              "4   rlruivaagz3en  b0d4sx9rc6   beats pill  beats by dre   \n",
              "\n",
              "                                               title      author  rating  \\\n",
              "0                    5.0 out of 5 stars sounds great  hollywoody       5   \n",
              "1                             5.0 out of 5 stars jbl     michael       5   \n",
              "2                      5.0 out of 5 stars i love it!  william g.       5   \n",
              "3  2.0 out of 5 stars must me rejects from a real...      lady b       2   \n",
              "4               5.0 out of 5 stars a gift for my dad    jacky k.       5   \n",
              "\n",
              "                                             content  \\\n",
              "0  i just sent back my jbl flip because it had di...   \n",
              "1  they are a great value. the sound is awesome. ...   \n",
              "2  the sound quality is amazing, it’s easy to pai...   \n",
              "3  this speaker must have come from failed qualit...   \n",
              "4  sound quality is good. it can get pretty loud ...   \n",
              "\n",
              "                                       timestamp  \\\n",
              "0  reviewed in the united states january 9, 2025   \n",
              "1  reviewed in the united states january 8, 2025   \n",
              "2  reviewed in the united states january 8, 2025   \n",
              "3  reviewed in the united states january 8, 2025   \n",
              "4  reviewed in the united states january 8, 2025   \n",
              "\n",
              "                     profile_id  is_verified  helpful_count  \\\n",
              "0  ahcsv6wlxxa2exlwomlmb2fzbkeq        False              0   \n",
              "1  ahuwzoal676robbd7srer6kyjbka        False              0   \n",
              "2  agy6hyebnuxqxea7gpozyzrry3fq        False              0   \n",
              "3  ah3zdvkgdobn2oi6ch5wlvmn3jma        False              0   \n",
              "4  afyjoku2nxnz5qcvtjcrgjbfuiva        False              0   \n",
              "\n",
              "  product_attributes      date  review length  \n",
              "0                 {}  1/9/2025             23  \n",
              "1                 {}  1/8/2025             11  \n",
              "2                 {}  1/8/2025             14  \n",
              "3                 {}  1/8/2025             66  \n",
              "4                 {}  1/8/2025             26  "
            ],
            "text/html": [
              "\n",
              "  <div id=\"df-19769948-3a46-47e8-8e14-c92578007dec\" class=\"colab-df-container\">\n",
              "    <div>\n",
              "<style scoped>\n",
              "    .dataframe tbody tr th:only-of-type {\n",
              "        vertical-align: middle;\n",
              "    }\n",
              "\n",
              "    .dataframe tbody tr th {\n",
              "        vertical-align: top;\n",
              "    }\n",
              "\n",
              "    .dataframe thead th {\n",
              "        text-align: right;\n",
              "    }\n",
              "</style>\n",
              "<table border=\"1\" class=\"dataframe\">\n",
              "  <thead>\n",
              "    <tr style=\"text-align: right;\">\n",
              "      <th></th>\n",
              "      <th>review_id</th>\n",
              "      <th>product_id</th>\n",
              "      <th>product_name</th>\n",
              "      <th>brand</th>\n",
              "      <th>title</th>\n",
              "      <th>author</th>\n",
              "      <th>rating</th>\n",
              "      <th>content</th>\n",
              "      <th>timestamp</th>\n",
              "      <th>profile_id</th>\n",
              "      <th>is_verified</th>\n",
              "      <th>helpful_count</th>\n",
              "      <th>product_attributes</th>\n",
              "      <th>date</th>\n",
              "      <th>review length</th>\n",
              "    </tr>\n",
              "  </thead>\n",
              "  <tbody>\n",
              "    <tr>\n",
              "      <th>0</th>\n",
              "      <td>r2lvx0omhfzx0l</td>\n",
              "      <td>b0d4sx9rc6</td>\n",
              "      <td>beats pill</td>\n",
              "      <td>beats by dre</td>\n",
              "      <td>5.0 out of 5 stars sounds great</td>\n",
              "      <td>hollywoody</td>\n",
              "      <td>5</td>\n",
              "      <td>i just sent back my jbl flip because it had di...</td>\n",
              "      <td>reviewed in the united states january 9, 2025</td>\n",
              "      <td>ahcsv6wlxxa2exlwomlmb2fzbkeq</td>\n",
              "      <td>False</td>\n",
              "      <td>0</td>\n",
              "      <td>{}</td>\n",
              "      <td>1/9/2025</td>\n",
              "      <td>23</td>\n",
              "    </tr>\n",
              "    <tr>\n",
              "      <th>1</th>\n",
              "      <td>r1vf3bhpt5c61n</td>\n",
              "      <td>b0d4sx9rc6</td>\n",
              "      <td>beats pill</td>\n",
              "      <td>beats by dre</td>\n",
              "      <td>5.0 out of 5 stars jbl</td>\n",
              "      <td>michael</td>\n",
              "      <td>5</td>\n",
              "      <td>they are a great value. the sound is awesome. ...</td>\n",
              "      <td>reviewed in the united states january 8, 2025</td>\n",
              "      <td>ahuwzoal676robbd7srer6kyjbka</td>\n",
              "      <td>False</td>\n",
              "      <td>0</td>\n",
              "      <td>{}</td>\n",
              "      <td>1/8/2025</td>\n",
              "      <td>11</td>\n",
              "    </tr>\n",
              "    <tr>\n",
              "      <th>2</th>\n",
              "      <td>r2yfcrsc298ts7</td>\n",
              "      <td>b0d4sx9rc6</td>\n",
              "      <td>beats pill</td>\n",
              "      <td>beats by dre</td>\n",
              "      <td>5.0 out of 5 stars i love it!</td>\n",
              "      <td>william g.</td>\n",
              "      <td>5</td>\n",
              "      <td>the sound quality is amazing, it’s easy to pai...</td>\n",
              "      <td>reviewed in the united states january 8, 2025</td>\n",
              "      <td>agy6hyebnuxqxea7gpozyzrry3fq</td>\n",
              "      <td>False</td>\n",
              "      <td>0</td>\n",
              "      <td>{}</td>\n",
              "      <td>1/8/2025</td>\n",
              "      <td>14</td>\n",
              "    </tr>\n",
              "    <tr>\n",
              "      <th>3</th>\n",
              "      <td>r1dkvihxe9rzus</td>\n",
              "      <td>b0d4sx9rc6</td>\n",
              "      <td>beats pill</td>\n",
              "      <td>beats by dre</td>\n",
              "      <td>2.0 out of 5 stars must me rejects from a real...</td>\n",
              "      <td>lady b</td>\n",
              "      <td>2</td>\n",
              "      <td>this speaker must have come from failed qualit...</td>\n",
              "      <td>reviewed in the united states january 8, 2025</td>\n",
              "      <td>ah3zdvkgdobn2oi6ch5wlvmn3jma</td>\n",
              "      <td>False</td>\n",
              "      <td>0</td>\n",
              "      <td>{}</td>\n",
              "      <td>1/8/2025</td>\n",
              "      <td>66</td>\n",
              "    </tr>\n",
              "    <tr>\n",
              "      <th>4</th>\n",
              "      <td>rlruivaagz3en</td>\n",
              "      <td>b0d4sx9rc6</td>\n",
              "      <td>beats pill</td>\n",
              "      <td>beats by dre</td>\n",
              "      <td>5.0 out of 5 stars a gift for my dad</td>\n",
              "      <td>jacky k.</td>\n",
              "      <td>5</td>\n",
              "      <td>sound quality is good. it can get pretty loud ...</td>\n",
              "      <td>reviewed in the united states january 8, 2025</td>\n",
              "      <td>afyjoku2nxnz5qcvtjcrgjbfuiva</td>\n",
              "      <td>False</td>\n",
              "      <td>0</td>\n",
              "      <td>{}</td>\n",
              "      <td>1/8/2025</td>\n",
              "      <td>26</td>\n",
              "    </tr>\n",
              "  </tbody>\n",
              "</table>\n",
              "</div>\n",
              "    <div class=\"colab-df-buttons\">\n",
              "\n",
              "  <div class=\"colab-df-container\">\n",
              "    <button class=\"colab-df-convert\" onclick=\"convertToInteractive('df-19769948-3a46-47e8-8e14-c92578007dec')\"\n",
              "            title=\"Convert this dataframe to an interactive table.\"\n",
              "            style=\"display:none;\">\n",
              "\n",
              "  <svg xmlns=\"http://www.w3.org/2000/svg\" height=\"24px\" viewBox=\"0 -960 960 960\">\n",
              "    <path d=\"M120-120v-720h720v720H120Zm60-500h600v-160H180v160Zm220 220h160v-160H400v160Zm0 220h160v-160H400v160ZM180-400h160v-160H180v160Zm440 0h160v-160H620v160ZM180-180h160v-160H180v160Zm440 0h160v-160H620v160Z\"/>\n",
              "  </svg>\n",
              "    </button>\n",
              "\n",
              "  <style>\n",
              "    .colab-df-container {\n",
              "      display:flex;\n",
              "      gap: 12px;\n",
              "    }\n",
              "\n",
              "    .colab-df-convert {\n",
              "      background-color: #E8F0FE;\n",
              "      border: none;\n",
              "      border-radius: 50%;\n",
              "      cursor: pointer;\n",
              "      display: none;\n",
              "      fill: #1967D2;\n",
              "      height: 32px;\n",
              "      padding: 0 0 0 0;\n",
              "      width: 32px;\n",
              "    }\n",
              "\n",
              "    .colab-df-convert:hover {\n",
              "      background-color: #E2EBFA;\n",
              "      box-shadow: 0px 1px 2px rgba(60, 64, 67, 0.3), 0px 1px 3px 1px rgba(60, 64, 67, 0.15);\n",
              "      fill: #174EA6;\n",
              "    }\n",
              "\n",
              "    .colab-df-buttons div {\n",
              "      margin-bottom: 4px;\n",
              "    }\n",
              "\n",
              "    [theme=dark] .colab-df-convert {\n",
              "      background-color: #3B4455;\n",
              "      fill: #D2E3FC;\n",
              "    }\n",
              "\n",
              "    [theme=dark] .colab-df-convert:hover {\n",
              "      background-color: #434B5C;\n",
              "      box-shadow: 0px 1px 3px 1px rgba(0, 0, 0, 0.15);\n",
              "      filter: drop-shadow(0px 1px 2px rgba(0, 0, 0, 0.3));\n",
              "      fill: #FFFFFF;\n",
              "    }\n",
              "  </style>\n",
              "\n",
              "    <script>\n",
              "      const buttonEl =\n",
              "        document.querySelector('#df-19769948-3a46-47e8-8e14-c92578007dec button.colab-df-convert');\n",
              "      buttonEl.style.display =\n",
              "        google.colab.kernel.accessAllowed ? 'block' : 'none';\n",
              "\n",
              "      async function convertToInteractive(key) {\n",
              "        const element = document.querySelector('#df-19769948-3a46-47e8-8e14-c92578007dec');\n",
              "        const dataTable =\n",
              "          await google.colab.kernel.invokeFunction('convertToInteractive',\n",
              "                                                    [key], {});\n",
              "        if (!dataTable) return;\n",
              "\n",
              "        const docLinkHtml = 'Like what you see? Visit the ' +\n",
              "          '<a target=\"_blank\" href=https://colab.research.google.com/notebooks/data_table.ipynb>data table notebook</a>'\n",
              "          + ' to learn more about interactive tables.';\n",
              "        element.innerHTML = '';\n",
              "        dataTable['output_type'] = 'display_data';\n",
              "        await google.colab.output.renderOutput(dataTable, element);\n",
              "        const docLink = document.createElement('div');\n",
              "        docLink.innerHTML = docLinkHtml;\n",
              "        element.appendChild(docLink);\n",
              "      }\n",
              "    </script>\n",
              "  </div>\n",
              "\n",
              "\n",
              "<div id=\"df-fc9c69aa-b855-4dd5-9fe8-8f43820e1355\">\n",
              "  <button class=\"colab-df-quickchart\" onclick=\"quickchart('df-fc9c69aa-b855-4dd5-9fe8-8f43820e1355')\"\n",
              "            title=\"Suggest charts\"\n",
              "            style=\"display:none;\">\n",
              "\n",
              "<svg xmlns=\"http://www.w3.org/2000/svg\" height=\"24px\"viewBox=\"0 0 24 24\"\n",
              "     width=\"24px\">\n",
              "    <g>\n",
              "        <path d=\"M19 3H5c-1.1 0-2 .9-2 2v14c0 1.1.9 2 2 2h14c1.1 0 2-.9 2-2V5c0-1.1-.9-2-2-2zM9 17H7v-7h2v7zm4 0h-2V7h2v10zm4 0h-2v-4h2v4z\"/>\n",
              "    </g>\n",
              "</svg>\n",
              "  </button>\n",
              "\n",
              "<style>\n",
              "  .colab-df-quickchart {\n",
              "      --bg-color: #E8F0FE;\n",
              "      --fill-color: #1967D2;\n",
              "      --hover-bg-color: #E2EBFA;\n",
              "      --hover-fill-color: #174EA6;\n",
              "      --disabled-fill-color: #AAA;\n",
              "      --disabled-bg-color: #DDD;\n",
              "  }\n",
              "\n",
              "  [theme=dark] .colab-df-quickchart {\n",
              "      --bg-color: #3B4455;\n",
              "      --fill-color: #D2E3FC;\n",
              "      --hover-bg-color: #434B5C;\n",
              "      --hover-fill-color: #FFFFFF;\n",
              "      --disabled-bg-color: #3B4455;\n",
              "      --disabled-fill-color: #666;\n",
              "  }\n",
              "\n",
              "  .colab-df-quickchart {\n",
              "    background-color: var(--bg-color);\n",
              "    border: none;\n",
              "    border-radius: 50%;\n",
              "    cursor: pointer;\n",
              "    display: none;\n",
              "    fill: var(--fill-color);\n",
              "    height: 32px;\n",
              "    padding: 0;\n",
              "    width: 32px;\n",
              "  }\n",
              "\n",
              "  .colab-df-quickchart:hover {\n",
              "    background-color: var(--hover-bg-color);\n",
              "    box-shadow: 0 1px 2px rgba(60, 64, 67, 0.3), 0 1px 3px 1px rgba(60, 64, 67, 0.15);\n",
              "    fill: var(--button-hover-fill-color);\n",
              "  }\n",
              "\n",
              "  .colab-df-quickchart-complete:disabled,\n",
              "  .colab-df-quickchart-complete:disabled:hover {\n",
              "    background-color: var(--disabled-bg-color);\n",
              "    fill: var(--disabled-fill-color);\n",
              "    box-shadow: none;\n",
              "  }\n",
              "\n",
              "  .colab-df-spinner {\n",
              "    border: 2px solid var(--fill-color);\n",
              "    border-color: transparent;\n",
              "    border-bottom-color: var(--fill-color);\n",
              "    animation:\n",
              "      spin 1s steps(1) infinite;\n",
              "  }\n",
              "\n",
              "  @keyframes spin {\n",
              "    0% {\n",
              "      border-color: transparent;\n",
              "      border-bottom-color: var(--fill-color);\n",
              "      border-left-color: var(--fill-color);\n",
              "    }\n",
              "    20% {\n",
              "      border-color: transparent;\n",
              "      border-left-color: var(--fill-color);\n",
              "      border-top-color: var(--fill-color);\n",
              "    }\n",
              "    30% {\n",
              "      border-color: transparent;\n",
              "      border-left-color: var(--fill-color);\n",
              "      border-top-color: var(--fill-color);\n",
              "      border-right-color: var(--fill-color);\n",
              "    }\n",
              "    40% {\n",
              "      border-color: transparent;\n",
              "      border-right-color: var(--fill-color);\n",
              "      border-top-color: var(--fill-color);\n",
              "    }\n",
              "    60% {\n",
              "      border-color: transparent;\n",
              "      border-right-color: var(--fill-color);\n",
              "    }\n",
              "    80% {\n",
              "      border-color: transparent;\n",
              "      border-right-color: var(--fill-color);\n",
              "      border-bottom-color: var(--fill-color);\n",
              "    }\n",
              "    90% {\n",
              "      border-color: transparent;\n",
              "      border-bottom-color: var(--fill-color);\n",
              "    }\n",
              "  }\n",
              "</style>\n",
              "\n",
              "  <script>\n",
              "    async function quickchart(key) {\n",
              "      const quickchartButtonEl =\n",
              "        document.querySelector('#' + key + ' button');\n",
              "      quickchartButtonEl.disabled = true;  // To prevent multiple clicks.\n",
              "      quickchartButtonEl.classList.add('colab-df-spinner');\n",
              "      try {\n",
              "        const charts = await google.colab.kernel.invokeFunction(\n",
              "            'suggestCharts', [key], {});\n",
              "      } catch (error) {\n",
              "        console.error('Error during call to suggestCharts:', error);\n",
              "      }\n",
              "      quickchartButtonEl.classList.remove('colab-df-spinner');\n",
              "      quickchartButtonEl.classList.add('colab-df-quickchart-complete');\n",
              "    }\n",
              "    (() => {\n",
              "      let quickchartButtonEl =\n",
              "        document.querySelector('#df-fc9c69aa-b855-4dd5-9fe8-8f43820e1355 button');\n",
              "      quickchartButtonEl.style.display =\n",
              "        google.colab.kernel.accessAllowed ? 'block' : 'none';\n",
              "    })();\n",
              "  </script>\n",
              "</div>\n",
              "\n",
              "    </div>\n",
              "  </div>\n"
            ],
            "application/vnd.google.colaboratory.intrinsic+json": {
              "type": "dataframe",
              "variable_name": "df",
              "summary": "{\n  \"name\": \"df\",\n  \"rows\": 700,\n  \"fields\": [\n    {\n      \"column\": \"review_id\",\n      \"properties\": {\n        \"dtype\": \"string\",\n        \"num_unique_values\": 420,\n        \"samples\": [\n          \"r2lew74w174us4\",\n          \"r2d7oph4fyd02r\",\n          \"r1ocso52rhsiu3\"\n        ],\n        \"semantic_type\": \"\",\n        \"description\": \"\"\n      }\n    },\n    {\n      \"column\": \"product_id\",\n      \"properties\": {\n        \"dtype\": \"category\",\n        \"num_unique_values\": 12,\n        \"samples\": [\n          \"b07594hz6y\",\n          \"b01crpv4uk\",\n          \"b0d4sx9rc6\"\n        ],\n        \"semantic_type\": \"\",\n        \"description\": \"\"\n      }\n    },\n    {\n      \"column\": \"product_name\",\n      \"properties\": {\n        \"dtype\": \"category\",\n        \"num_unique_values\": 6,\n        \"samples\": [\n          \"beats pill\",\n          \"jbl flip 6\",\n          \"tribit xsound go\"\n        ],\n        \"semantic_type\": \"\",\n        \"description\": \"\"\n      }\n    },\n    {\n      \"column\": \"brand\",\n      \"properties\": {\n        \"dtype\": \"category\",\n        \"num_unique_values\": 6,\n        \"samples\": [\n          \"beats by dre\",\n          \"jbl\",\n          \"tribit\"\n        ],\n        \"semantic_type\": \"\",\n        \"description\": \"\"\n      }\n    },\n    {\n      \"column\": \"title\",\n      \"properties\": {\n        \"dtype\": \"string\",\n        \"num_unique_values\": 368,\n        \"samples\": [\n          \"5.0 out of 5 stars these work really well\",\n          \"5.0 out of 5 stars color me surprised\",\n          \"5.0 out of 5 stars the pill is the cure\"\n        ],\n        \"semantic_type\": \"\",\n        \"description\": \"\"\n      }\n    },\n    {\n      \"column\": \"author\",\n      \"properties\": {\n        \"dtype\": \"string\",\n        \"num_unique_values\": 390,\n        \"samples\": [\n          \"lisa vanalstyne\",\n          \"trey\",\n          \"stoned shopper\"\n        ],\n        \"semantic_type\": \"\",\n        \"description\": \"\"\n      }\n    },\n    {\n      \"column\": \"rating\",\n      \"properties\": {\n        \"dtype\": \"number\",\n        \"std\": 1,\n        \"min\": 1,\n        \"max\": 5,\n        \"num_unique_values\": 5,\n        \"samples\": [\n          2,\n          1,\n          3\n        ],\n        \"semantic_type\": \"\",\n        \"description\": \"\"\n      }\n    },\n    {\n      \"column\": \"content\",\n      \"properties\": {\n        \"dtype\": \"string\",\n        \"num_unique_values\": 417,\n        \"samples\": [\n          \"little speaker produces a lot of sound read more\",\n          \"i have an original tribit stormbox and have enjoyed the extra \\\"bass\\\" on that model for years. blows the old bluetooth speaker i have from a decade go out of the water (tinny and zero bass).i didn't expect this xsound go to be as powerful as the stormbox, but it was also less than half the price. imo this is a great speaker and delivers sound comparable to the stormbox, just won't get as loud. very happy to add this one to my speaker collection. read more\",\n          \"lotta noise from such a little package! although i am used to my devices telling me thru voice prompts when ready to pair, paired, etc. this one does not do that, but i can live with it! read more\"\n        ],\n        \"semantic_type\": \"\",\n        \"description\": \"\"\n      }\n    },\n    {\n      \"column\": \"timestamp\",\n      \"properties\": {\n        \"dtype\": \"category\",\n        \"num_unique_values\": 68,\n        \"samples\": [\n          \"reviewed in the united states october 30, 2024\",\n          \"reviewed in the united states december 22, 2024\",\n          \"reviewed in the united states january 5, 2025\"\n        ],\n        \"semantic_type\": \"\",\n        \"description\": \"\"\n      }\n    },\n    {\n      \"column\": \"profile_id\",\n      \"properties\": {\n        \"dtype\": \"string\",\n        \"num_unique_values\": 420,\n        \"samples\": [\n          \"ae4sbwrg7736ziic7z3kmqua47zq\",\n          \"ahecytssjsodqi4ltzusxtk7saha\",\n          \"ahxkytknmoi7b7ghb553sjsj6omq\"\n        ],\n        \"semantic_type\": \"\",\n        \"description\": \"\"\n      }\n    },\n    {\n      \"column\": \"is_verified\",\n      \"properties\": {\n        \"dtype\": \"boolean\",\n        \"num_unique_values\": 1,\n        \"samples\": [\n          false\n        ],\n        \"semantic_type\": \"\",\n        \"description\": \"\"\n      }\n    },\n    {\n      \"column\": \"helpful_count\",\n      \"properties\": {\n        \"dtype\": \"number\",\n        \"std\": 1,\n        \"min\": 0,\n        \"max\": 14,\n        \"num_unique_values\": 10,\n        \"samples\": [\n          5\n        ],\n        \"semantic_type\": \"\",\n        \"description\": \"\"\n      }\n    },\n    {\n      \"column\": \"product_attributes\",\n      \"properties\": {\n        \"dtype\": \"category\",\n        \"num_unique_values\": 1,\n        \"samples\": [\n          \"{}\"\n        ],\n        \"semantic_type\": \"\",\n        \"description\": \"\"\n      }\n    },\n    {\n      \"column\": \"date\",\n      \"properties\": {\n        \"dtype\": \"object\",\n        \"num_unique_values\": 68,\n        \"samples\": [\n          \"10/30/2024\"\n        ],\n        \"semantic_type\": \"\",\n        \"description\": \"\"\n      }\n    },\n    {\n      \"column\": \"review length\",\n      \"properties\": {\n        \"dtype\": \"number\",\n        \"std\": 36,\n        \"min\": 2,\n        \"max\": 289,\n        \"num_unique_values\": 105,\n        \"samples\": [\n          47\n        ],\n        \"semantic_type\": \"\",\n        \"description\": \"\"\n      }\n    }\n  ]\n}"
            }
          },
          "metadata": {},
          "execution_count": 2
        }
      ]
    },
    {
      "cell_type": "code",
      "source": [
        "# Display data information\n",
        "\n",
        "df.info()"
      ],
      "metadata": {
        "colab": {
          "base_uri": "https://localhost:8080/"
        },
        "id": "dDLEqSPgQc6G",
        "outputId": "71204bb3-036e-410e-badd-eecb61ced3a8"
      },
      "execution_count": null,
      "outputs": [
        {
          "output_type": "stream",
          "name": "stdout",
          "text": [
            "<class 'pandas.core.frame.DataFrame'>\n",
            "RangeIndex: 700 entries, 0 to 699\n",
            "Data columns (total 15 columns):\n",
            " #   Column              Non-Null Count  Dtype \n",
            "---  ------              --------------  ----- \n",
            " 0   review_id           700 non-null    object\n",
            " 1   product_id          700 non-null    object\n",
            " 2   product_name        700 non-null    object\n",
            " 3   brand               700 non-null    object\n",
            " 4   title               700 non-null    object\n",
            " 5   author              700 non-null    object\n",
            " 6   rating              700 non-null    int64 \n",
            " 7   content             700 non-null    object\n",
            " 8   timestamp           700 non-null    object\n",
            " 9   profile_id          700 non-null    object\n",
            " 10  is_verified         700 non-null    bool  \n",
            " 11  helpful_count       700 non-null    int64 \n",
            " 12  product_attributes  700 non-null    object\n",
            " 13  date                700 non-null    object\n",
            " 14  review length       700 non-null    int64 \n",
            "dtypes: bool(1), int64(3), object(11)\n",
            "memory usage: 77.4+ KB\n"
          ]
        }
      ]
    },
    {
      "cell_type": "markdown",
      "source": [
        "# Calculate the Correlation Matrix"
      ],
      "metadata": {
        "id": "vaps_XkOQzxQ"
      }
    },
    {
      "cell_type": "code",
      "source": [
        "# Calculate the correlation matrix\n",
        "correlation_matrix = df.select_dtypes(include=['number']).corr()\n",
        "\n",
        "# Display the correlation matrix\n",
        "print(correlation_matrix)"
      ],
      "metadata": {
        "colab": {
          "base_uri": "https://localhost:8080/"
        },
        "id": "OzDWYmLfQgHd",
        "outputId": "8c600cd7-2446-4885-c4af-60b02b66ec04"
      },
      "execution_count": null,
      "outputs": [
        {
          "output_type": "stream",
          "name": "stdout",
          "text": [
            "                 rating  helpful_count  review length\n",
            "rating         1.000000       0.007650      -0.131176\n",
            "helpful_count  0.007650       1.000000       0.344824\n",
            "review length -0.131176       0.344824       1.000000\n"
          ]
        }
      ]
    },
    {
      "cell_type": "markdown",
      "source": [
        "# Filter Significant Correlations"
      ],
      "metadata": {
        "id": "vNBlUYOCQ5KJ"
      }
    },
    {
      "cell_type": "code",
      "source": [
        "# Filter correlations above 0.1 or below -0.1\n",
        "significant_correlations = correlation_matrix[(correlation_matrix >= 0.5) | (correlation_matrix <= -0.5)]\n",
        "print(significant_correlations)"
      ],
      "metadata": {
        "colab": {
          "base_uri": "https://localhost:8080/"
        },
        "id": "sy_i6O8_Q4tY",
        "outputId": "7b5c7ac4-f493-4f0d-c3c5-051fc4ee03f4"
      },
      "execution_count": null,
      "outputs": [
        {
          "output_type": "stream",
          "name": "stdout",
          "text": [
            "               rating  helpful_count  review length\n",
            "rating            1.0            NaN            NaN\n",
            "helpful_count     NaN            1.0            NaN\n",
            "review length     NaN            NaN            1.0\n"
          ]
        }
      ]
    },
    {
      "cell_type": "markdown",
      "source": [
        "- No significant correlations between variables in the data"
      ],
      "metadata": {
        "id": "ft6US6V3R_z1"
      }
    },
    {
      "cell_type": "markdown",
      "source": [
        "# Visualize Correlations"
      ],
      "metadata": {
        "id": "E24-Ql7gRSn0"
      }
    },
    {
      "cell_type": "markdown",
      "source": [
        "## Heatmap"
      ],
      "metadata": {
        "id": "FBP5GAQiRWUl"
      }
    },
    {
      "cell_type": "code",
      "source": [
        "# Create a heatmap\n",
        "\n",
        "plt.figure(figsize=(10, 8))\n",
        "sns.heatmap(correlation_matrix, annot=True, cmap='coolwarm', fmt=\".2f\", vmin=-1, vmax=1)\n",
        "plt.title(\"Correlation Matrix Heatmap\")\n",
        "plt.show()"
      ],
      "metadata": {
        "colab": {
          "base_uri": "https://localhost:8080/",
          "height": 699
        },
        "id": "8vIXRNwpRENn",
        "outputId": "2c305bc1-9eea-4844-e384-789bea21a2b7"
      },
      "execution_count": null,
      "outputs": [
        {
          "output_type": "display_data",
          "data": {
            "text/plain": [
              "<Figure size 1000x800 with 2 Axes>"
            ],
            "image/png": "[encoded data removed]"
          },
          "metadata": {}
        }
      ]
    },
    {
      "cell_type": "markdown",
      "source": [
        "## Scatterplots"
      ],
      "metadata": {
        "id": "lNewQamFRYlO"
      }
    },
    {
      "cell_type": "code",
      "source": [
        "# Scatter plot for Review Length vs Rating\n",
        "sns.scatterplot(x='review length', y='rating', data=df, alpha=0.6)\n",
        "plt.title(\"Review Length vs Rating\")\n",
        "plt.xlabel(\"Review Length\")\n",
        "plt.ylabel(\"Rating\")\n",
        "plt.show()"
      ],
      "metadata": {
        "colab": {
          "base_uri": "https://localhost:8080/",
          "height": 472
        },
        "id": "W2BXd9L3RZa0",
        "outputId": "eea6cdce-dbe6-4d68-96b7-31f1080f0072"
      },
      "execution_count": null,
      "outputs": [
        {
          "output_type": "display_data",
          "data": {
            "text/plain": [
              "<Figure size 640x480 with 1 Axes>"
            ],
            "image/png": "[encoded data removed]"
          },
          "metadata": {}
        }
      ]
    },
    {
      "cell_type": "markdown",
      "source": [
        "# Insights from Correlation Analysis\n",
        "- There are **no significant correlations** between the numerical variables in the data.\n",
        "- The **highest positive correlation is between 'helpful count' and 'review length' which is 0.34**. This indicates that there is some positive relationship with the review length and the amount of other reviewers finding it helpful.\n",
        "- A longer review would typically be more thorough and have more explanation, so it's likely that other reviewers find it helpful becomes it provides more information.\n",
        "- A **negative correlation exists between 'review length' and 'rating' (value of - 0.13)**, which shows a negative relationship.\n",
        "- Longer reviews tend to contain negative comments about a product because customers would have a lot to say about what makes the product bad, and that would be tied to a lower rating.\n"
      ],
      "metadata": {
        "id": "7fBGmCwcSQ_y"
      }
    },
    {
      "cell_type": "code",
      "source": [],
      "metadata": {
        "id": "rq9Z_QfbUrbE"
      },
      "execution_count": null,
      "outputs": []
    }
  ]
}