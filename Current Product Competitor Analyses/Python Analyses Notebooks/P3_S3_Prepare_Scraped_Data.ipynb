{
  "nbformat": 4,
  "nbformat_minor": 0,
  "metadata": {
    "colab": {
      "provenance": []
    },
    "kernelspec": {
      "name": "python3",
      "display_name": "Python 3"
    },
    "language_info": {
      "name": "python"
    }
  },
  "cells": [
    {
      "cell_type": "code",
      "execution_count": null,
      "metadata": {
        "id": "2jkN1RmBJJe2"
      },
      "outputs": [],
      "source": [
        "# Importing libraries\n",
        "import numpy as np\n",
        "import pandas as pd"
      ]
    },
    {
      "cell_type": "code",
      "source": [
        "# load reviews data\n",
        "df = pd.read_csv('/content/amazon_reviews_data_clean.csv')"
      ],
      "metadata": {
        "id": "6XhVoHNAJV2C"
      },
      "execution_count": null,
      "outputs": []
    },
    {
      "cell_type": "code",
      "source": [
        "df.head()"
      ],
      "metadata": {
        "colab": {
          "base_uri": "https://localhost:8080/",
          "height": 414
        },
        "id": "W8_XeHaeJ_Vw",
        "outputId": "29e9368f-3cfa-44dd-9c6f-40ead1bd6e30"
      },
      "execution_count": null,
      "outputs": [
        {
          "output_type": "execute_result",
          "data": {
            "text/plain": [
              "        review_id  product_id         brand  \\\n",
              "0  r2lvx0omhfzx0l  b0d4sx9rc6  beats by dre   \n",
              "1  r1vf3bhpt5c61n  b0d4sx9rc6  beats by dre   \n",
              "2  r2yfcrsc298ts7  b0d4sx9rc6  beats by dre   \n",
              "3  r1dkvihxe9rzus  b0d4sx9rc6  beats by dre   \n",
              "4   rlruivaagz3en  b0d4sx9rc6  beats by dre   \n",
              "\n",
              "                                               title      author  rating  \\\n",
              "0                    5.0 out of 5 stars sounds great  hollywoody       5   \n",
              "1                             5.0 out of 5 stars jbl     michael       5   \n",
              "2                      5.0 out of 5 stars i love it!  william g.       5   \n",
              "3  2.0 out of 5 stars must me rejects from a real...      lady b       2   \n",
              "4               5.0 out of 5 stars a gift for my dad    jacky k.       5   \n",
              "\n",
              "                                             content  \\\n",
              "0  i just sent back my jbl flip because it had di...   \n",
              "1  they are a great value. the sound is awesome. ...   \n",
              "2  the sound quality is amazing, it’s easy to pai...   \n",
              "3  this speaker must have come from failed qualit...   \n",
              "4  sound quality is good. it can get pretty loud ...   \n",
              "\n",
              "                                       timestamp  \\\n",
              "0  reviewed in the united states january 9, 2025   \n",
              "1  reviewed in the united states january 8, 2025   \n",
              "2  reviewed in the united states january 8, 2025   \n",
              "3  reviewed in the united states january 8, 2025   \n",
              "4  reviewed in the united states january 8, 2025   \n",
              "\n",
              "                     profile_id  is_verified  helpful_count  \\\n",
              "0  ahcsv6wlxxa2exlwomlmb2fzbkeq        False              0   \n",
              "1  ahuwzoal676robbd7srer6kyjbka        False              0   \n",
              "2  agy6hyebnuxqxea7gpozyzrry3fq        False              0   \n",
              "3  ah3zdvkgdobn2oi6ch5wlvmn3jma        False              0   \n",
              "4  afyjoku2nxnz5qcvtjcrgjbfuiva        False              0   \n",
              "\n",
              "  product_attributes        date  \n",
              "0                 {}  2025-01-09  \n",
              "1                 {}  2025-01-08  \n",
              "2                 {}  2025-01-08  \n",
              "3                 {}  2025-01-08  \n",
              "4                 {}  2025-01-08  "
            ],
            "text/html": [
              "\n",
              "  <div id=\"df-99e4e04b-5474-41d8-8b6e-f8c32f734b03\" class=\"colab-df-container\">\n",
              "    <div>\n",
              "<style scoped>\n",
              "    .dataframe tbody tr th:only-of-type {\n",
              "        vertical-align: middle;\n",
              "    }\n",
              "\n",
              "    .dataframe tbody tr th {\n",
              "        vertical-align: top;\n",
              "    }\n",
              "\n",
              "    .dataframe thead th {\n",
              "        text-align: right;\n",
              "    }\n",
              "</style>\n",
              "<table border=\"1\" class=\"dataframe\">\n",
              "  <thead>\n",
              "    <tr style=\"text-align: right;\">\n",
              "      <th></th>\n",
              "      <th>review_id</th>\n",
              "      <th>product_id</th>\n",
              "      <th>brand</th>\n",
              "      <th>title</th>\n",
              "      <th>author</th>\n",
              "      <th>rating</th>\n",
              "      <th>content</th>\n",
              "      <th>timestamp</th>\n",
              "      <th>profile_id</th>\n",
              "      <th>is_verified</th>\n",
              "      <th>helpful_count</th>\n",
              "      <th>product_attributes</th>\n",
              "      <th>date</th>\n",
              "    </tr>\n",
              "  </thead>\n",
              "  <tbody>\n",
              "    <tr>\n",
              "      <th>0</th>\n",
              "      <td>r2lvx0omhfzx0l</td>\n",
              "      <td>b0d4sx9rc6</td>\n",
              "      <td>beats by dre</td>\n",
              "      <td>5.0 out of 5 stars sounds great</td>\n",
              "      <td>hollywoody</td>\n",
              "      <td>5</td>\n",
              "      <td>i just sent back my jbl flip because it had di...</td>\n",
              "      <td>reviewed in the united states january 9, 2025</td>\n",
              "      <td>ahcsv6wlxxa2exlwomlmb2fzbkeq</td>\n",
              "      <td>False</td>\n",
              "      <td>0</td>\n",
              "      <td>{}</td>\n",
              "      <td>2025-01-09</td>\n",
              "    </tr>\n",
              "    <tr>\n",
              "      <th>1</th>\n",
              "      <td>r1vf3bhpt5c61n</td>\n",
              "      <td>b0d4sx9rc6</td>\n",
              "      <td>beats by dre</td>\n",
              "      <td>5.0 out of 5 stars jbl</td>\n",
              "      <td>michael</td>\n",
              "      <td>5</td>\n",
              "      <td>they are a great value. the sound is awesome. ...</td>\n",
              "      <td>reviewed in the united states january 8, 2025</td>\n",
              "      <td>ahuwzoal676robbd7srer6kyjbka</td>\n",
              "      <td>False</td>\n",
              "      <td>0</td>\n",
              "      <td>{}</td>\n",
              "      <td>2025-01-08</td>\n",
              "    </tr>\n",
              "    <tr>\n",
              "      <th>2</th>\n",
              "      <td>r2yfcrsc298ts7</td>\n",
              "      <td>b0d4sx9rc6</td>\n",
              "      <td>beats by dre</td>\n",
              "      <td>5.0 out of 5 stars i love it!</td>\n",
              "      <td>william g.</td>\n",
              "      <td>5</td>\n",
              "      <td>the sound quality is amazing, it’s easy to pai...</td>\n",
              "      <td>reviewed in the united states january 8, 2025</td>\n",
              "      <td>agy6hyebnuxqxea7gpozyzrry3fq</td>\n",
              "      <td>False</td>\n",
              "      <td>0</td>\n",
              "      <td>{}</td>\n",
              "      <td>2025-01-08</td>\n",
              "    </tr>\n",
              "    <tr>\n",
              "      <th>3</th>\n",
              "      <td>r1dkvihxe9rzus</td>\n",
              "      <td>b0d4sx9rc6</td>\n",
              "      <td>beats by dre</td>\n",
              "      <td>2.0 out of 5 stars must me rejects from a real...</td>\n",
              "      <td>lady b</td>\n",
              "      <td>2</td>\n",
              "      <td>this speaker must have come from failed qualit...</td>\n",
              "      <td>reviewed in the united states january 8, 2025</td>\n",
              "      <td>ah3zdvkgdobn2oi6ch5wlvmn3jma</td>\n",
              "      <td>False</td>\n",
              "      <td>0</td>\n",
              "      <td>{}</td>\n",
              "      <td>2025-01-08</td>\n",
              "    </tr>\n",
              "    <tr>\n",
              "      <th>4</th>\n",
              "      <td>rlruivaagz3en</td>\n",
              "      <td>b0d4sx9rc6</td>\n",
              "      <td>beats by dre</td>\n",
              "      <td>5.0 out of 5 stars a gift for my dad</td>\n",
              "      <td>jacky k.</td>\n",
              "      <td>5</td>\n",
              "      <td>sound quality is good. it can get pretty loud ...</td>\n",
              "      <td>reviewed in the united states january 8, 2025</td>\n",
              "      <td>afyjoku2nxnz5qcvtjcrgjbfuiva</td>\n",
              "      <td>False</td>\n",
              "      <td>0</td>\n",
              "      <td>{}</td>\n",
              "      <td>2025-01-08</td>\n",
              "    </tr>\n",
              "  </tbody>\n",
              "</table>\n",
              "</div>\n",
              "    <div class=\"colab-df-buttons\">\n",
              "\n",
              "  <div class=\"colab-df-container\">\n",
              "    <button class=\"colab-df-convert\" onclick=\"convertToInteractive('df-99e4e04b-5474-41d8-8b6e-f8c32f734b03')\"\n",
              "            title=\"Convert this dataframe to an interactive table.\"\n",
              "            style=\"display:none;\">\n",
              "\n",
              "  <svg xmlns=\"http://www.w3.org/2000/svg\" height=\"24px\" viewBox=\"0 -960 960 960\">\n",
              "    <path d=\"M120-120v-720h720v720H120Zm60-500h600v-160H180v160Zm220 220h160v-160H400v160Zm0 220h160v-160H400v160ZM180-400h160v-160H180v160Zm440 0h160v-160H620v160ZM180-180h160v-160H180v160Zm440 0h160v-160H620v160Z\"/>\n",
              "  </svg>\n",
              "    </button>\n",
              "\n",
              "  <style>\n",
              "    .colab-df-container {\n",
              "      display:flex;\n",
              "      gap: 12px;\n",
              "    }\n",
              "\n",
              "    .colab-df-convert {\n",
              "      background-color: #E8F0FE;\n",
              "      border: none;\n",
              "      border-radius: 50%;\n",
              "      cursor: pointer;\n",
              "      display: none;\n",
              "      fill: #1967D2;\n",
              "      height: 32px;\n",
              "      padding: 0 0 0 0;\n",
              "      width: 32px;\n",
              "    }\n",
              "\n",
              "    .colab-df-convert:hover {\n",
              "      background-color: #E2EBFA;\n",
              "      box-shadow: 0px 1px 2px rgba(60, 64, 67, 0.3), 0px 1px 3px 1px rgba(60, 64, 67, 0.15);\n",
              "      fill: #174EA6;\n",
              "    }\n",
              "\n",
              "    .colab-df-buttons div {\n",
              "      margin-bottom: 4px;\n",
              "    }\n",
              "\n",
              "    [theme=dark] .colab-df-convert {\n",
              "      background-color: #3B4455;\n",
              "      fill: #D2E3FC;\n",
              "    }\n",
              "\n",
              "    [theme=dark] .colab-df-convert:hover {\n",
              "      background-color: #434B5C;\n",
              "      box-shadow: 0px 1px 3px 1px rgba(0, 0, 0, 0.15);\n",
              "      filter: drop-shadow(0px 1px 2px rgba(0, 0, 0, 0.3));\n",
              "      fill: #FFFFFF;\n",
              "    }\n",
              "  </style>\n",
              "\n",
              "    <script>\n",
              "      const buttonEl =\n",
              "        document.querySelector('#df-99e4e04b-5474-41d8-8b6e-f8c32f734b03 button.colab-df-convert');\n",
              "      buttonEl.style.display =\n",
              "        google.colab.kernel.accessAllowed ? 'block' : 'none';\n",
              "\n",
              "      async function convertToInteractive(key) {\n",
              "        const element = document.querySelector('#df-99e4e04b-5474-41d8-8b6e-f8c32f734b03');\n",
              "        const dataTable =\n",
              "          await google.colab.kernel.invokeFunction('convertToInteractive',\n",
              "                                                    [key], {});\n",
              "        if (!dataTable) return;\n",
              "\n",
              "        const docLinkHtml = 'Like what you see? Visit the ' +\n",
              "          '<a target=\"_blank\" href=https://colab.research.google.com/notebooks/data_table.ipynb>data table notebook</a>'\n",
              "          + ' to learn more about interactive tables.';\n",
              "        element.innerHTML = '';\n",
              "        dataTable['output_type'] = 'display_data';\n",
              "        await google.colab.output.renderOutput(dataTable, element);\n",
              "        const docLink = document.createElement('div');\n",
              "        docLink.innerHTML = docLinkHtml;\n",
              "        element.appendChild(docLink);\n",
              "      }\n",
              "    </script>\n",
              "  </div>\n",
              "\n",
              "\n",
              "<div id=\"df-410450f9-6d48-4135-910c-d443a341ffc9\">\n",
              "  <button class=\"colab-df-quickchart\" onclick=\"quickchart('df-410450f9-6d48-4135-910c-d443a341ffc9')\"\n",
              "            title=\"Suggest charts\"\n",
              "            style=\"display:none;\">\n",
              "\n",
              "<svg xmlns=\"http://www.w3.org/2000/svg\" height=\"24px\"viewBox=\"0 0 24 24\"\n",
              "     width=\"24px\">\n",
              "    <g>\n",
              "        <path d=\"M19 3H5c-1.1 0-2 .9-2 2v14c0 1.1.9 2 2 2h14c1.1 0 2-.9 2-2V5c0-1.1-.9-2-2-2zM9 17H7v-7h2v7zm4 0h-2V7h2v10zm4 0h-2v-4h2v4z\"/>\n",
              "    </g>\n",
              "</svg>\n",
              "  </button>\n",
              "\n",
              "<style>\n",
              "  .colab-df-quickchart {\n",
              "      --bg-color: #E8F0FE;\n",
              "      --fill-color: #1967D2;\n",
              "      --hover-bg-color: #E2EBFA;\n",
              "      --hover-fill-color: #174EA6;\n",
              "      --disabled-fill-color: #AAA;\n",
              "      --disabled-bg-color: #DDD;\n",
              "  }\n",
              "\n",
              "  [theme=dark] .colab-df-quickchart {\n",
              "      --bg-color: #3B4455;\n",
              "      --fill-color: #D2E3FC;\n",
              "      --hover-bg-color: #434B5C;\n",
              "      --hover-fill-color: #FFFFFF;\n",
              "      --disabled-bg-color: #3B4455;\n",
              "      --disabled-fill-color: #666;\n",
              "  }\n",
              "\n",
              "  .colab-df-quickchart {\n",
              "    background-color: var(--bg-color);\n",
              "    border: none;\n",
              "    border-radius: 50%;\n",
              "    cursor: pointer;\n",
              "    display: none;\n",
              "    fill: var(--fill-color);\n",
              "    height: 32px;\n",
              "    padding: 0;\n",
              "    width: 32px;\n",
              "  }\n",
              "\n",
              "  .colab-df-quickchart:hover {\n",
              "    background-color: var(--hover-bg-color);\n",
              "    box-shadow: 0 1px 2px rgba(60, 64, 67, 0.3), 0 1px 3px 1px rgba(60, 64, 67, 0.15);\n",
              "    fill: var(--button-hover-fill-color);\n",
              "  }\n",
              "\n",
              "  .colab-df-quickchart-complete:disabled,\n",
              "  .colab-df-quickchart-complete:disabled:hover {\n",
              "    background-color: var(--disabled-bg-color);\n",
              "    fill: var(--disabled-fill-color);\n",
              "    box-shadow: none;\n",
              "  }\n",
              "\n",
              "  .colab-df-spinner {\n",
              "    border: 2px solid var(--fill-color);\n",
              "    border-color: transparent;\n",
              "    border-bottom-color: var(--fill-color);\n",
              "    animation:\n",
              "      spin 1s steps(1) infinite;\n",
              "  }\n",
              "\n",
              "  @keyframes spin {\n",
              "    0% {\n",
              "      border-color: transparent;\n",
              "      border-bottom-color: var(--fill-color);\n",
              "      border-left-color: var(--fill-color);\n",
              "    }\n",
              "    20% {\n",
              "      border-color: transparent;\n",
              "      border-left-color: var(--fill-color);\n",
              "      border-top-color: var(--fill-color);\n",
              "    }\n",
              "    30% {\n",
              "      border-color: transparent;\n",
              "      border-left-color: var(--fill-color);\n",
              "      border-top-color: var(--fill-color);\n",
              "      border-right-color: var(--fill-color);\n",
              "    }\n",
              "    40% {\n",
              "      border-color: transparent;\n",
              "      border-right-color: var(--fill-color);\n",
              "      border-top-color: var(--fill-color);\n",
              "    }\n",
              "    60% {\n",
              "      border-color: transparent;\n",
              "      border-right-color: var(--fill-color);\n",
              "    }\n",
              "    80% {\n",
              "      border-color: transparent;\n",
              "      border-right-color: var(--fill-color);\n",
              "      border-bottom-color: var(--fill-color);\n",
              "    }\n",
              "    90% {\n",
              "      border-color: transparent;\n",
              "      border-bottom-color: var(--fill-color);\n",
              "    }\n",
              "  }\n",
              "</style>\n",
              "\n",
              "  <script>\n",
              "    async function quickchart(key) {\n",
              "      const quickchartButtonEl =\n",
              "        document.querySelector('#' + key + ' button');\n",
              "      quickchartButtonEl.disabled = true;  // To prevent multiple clicks.\n",
              "      quickchartButtonEl.classList.add('colab-df-spinner');\n",
              "      try {\n",
              "        const charts = await google.colab.kernel.invokeFunction(\n",
              "            'suggestCharts', [key], {});\n",
              "      } catch (error) {\n",
              "        console.error('Error during call to suggestCharts:', error);\n",
              "      }\n",
              "      quickchartButtonEl.classList.remove('colab-df-spinner');\n",
              "      quickchartButtonEl.classList.add('colab-df-quickchart-complete');\n",
              "    }\n",
              "    (() => {\n",
              "      let quickchartButtonEl =\n",
              "        document.querySelector('#df-410450f9-6d48-4135-910c-d443a341ffc9 button');\n",
              "      quickchartButtonEl.style.display =\n",
              "        google.colab.kernel.accessAllowed ? 'block' : 'none';\n",
              "    })();\n",
              "  </script>\n",
              "</div>\n",
              "\n",
              "    </div>\n",
              "  </div>\n"
            ],
            "application/vnd.google.colaboratory.intrinsic+json": {
              "type": "dataframe",
              "variable_name": "df",
              "summary": "{\n  \"name\": \"df\",\n  \"rows\": 700,\n  \"fields\": [\n    {\n      \"column\": \"review_id\",\n      \"properties\": {\n        \"dtype\": \"string\",\n        \"num_unique_values\": 420,\n        \"samples\": [\n          \"r2lew74w174us4\",\n          \"r2d7oph4fyd02r\",\n          \"r1ocso52rhsiu3\"\n        ],\n        \"semantic_type\": \"\",\n        \"description\": \"\"\n      }\n    },\n    {\n      \"column\": \"product_id\",\n      \"properties\": {\n        \"dtype\": \"category\",\n        \"num_unique_values\": 12,\n        \"samples\": [\n          \"b07594hz6y\",\n          \"b01crpv4uk\",\n          \"b0d4sx9rc6\"\n        ],\n        \"semantic_type\": \"\",\n        \"description\": \"\"\n      }\n    },\n    {\n      \"column\": \"brand\",\n      \"properties\": {\n        \"dtype\": \"category\",\n        \"num_unique_values\": 6,\n        \"samples\": [\n          \"beats by dre\",\n          \"jbl\",\n          \"tribit\"\n        ],\n        \"semantic_type\": \"\",\n        \"description\": \"\"\n      }\n    },\n    {\n      \"column\": \"title\",\n      \"properties\": {\n        \"dtype\": \"string\",\n        \"num_unique_values\": 368,\n        \"samples\": [\n          \"5.0 out of 5 stars these work really well\",\n          \"5.0 out of 5 stars color me surprised\",\n          \"5.0 out of 5 stars the pill is the cure\"\n        ],\n        \"semantic_type\": \"\",\n        \"description\": \"\"\n      }\n    },\n    {\n      \"column\": \"author\",\n      \"properties\": {\n        \"dtype\": \"string\",\n        \"num_unique_values\": 390,\n        \"samples\": [\n          \"lisa vanalstyne\",\n          \"trey\",\n          \"stoned shopper\"\n        ],\n        \"semantic_type\": \"\",\n        \"description\": \"\"\n      }\n    },\n    {\n      \"column\": \"rating\",\n      \"properties\": {\n        \"dtype\": \"number\",\n        \"std\": 1,\n        \"min\": 1,\n        \"max\": 5,\n        \"num_unique_values\": 5,\n        \"samples\": [\n          2,\n          1,\n          3\n        ],\n        \"semantic_type\": \"\",\n        \"description\": \"\"\n      }\n    },\n    {\n      \"column\": \"content\",\n      \"properties\": {\n        \"dtype\": \"string\",\n        \"num_unique_values\": 417,\n        \"samples\": [\n          \"little speaker produces a lot of sound read more\",\n          \"i have an original tribit stormbox and have enjoyed the extra \\\"bass\\\" on that model for years. blows the old bluetooth speaker i have from a decade go out of the water (tinny and zero bass).i didn't expect this xsound go to be as powerful as the stormbox, but it was also less than half the price. imo this is a great speaker and delivers sound comparable to the stormbox, just won't get as loud. very happy to add this one to my speaker collection. read more\",\n          \"lotta noise from such a little package! although i am used to my devices telling me thru voice prompts when ready to pair, paired, etc. this one does not do that, but i can live with it! read more\"\n        ],\n        \"semantic_type\": \"\",\n        \"description\": \"\"\n      }\n    },\n    {\n      \"column\": \"timestamp\",\n      \"properties\": {\n        \"dtype\": \"category\",\n        \"num_unique_values\": 68,\n        \"samples\": [\n          \"reviewed in the united states october 30, 2024\",\n          \"reviewed in the united states december 22, 2024\",\n          \"reviewed in the united states january 5, 2025\"\n        ],\n        \"semantic_type\": \"\",\n        \"description\": \"\"\n      }\n    },\n    {\n      \"column\": \"profile_id\",\n      \"properties\": {\n        \"dtype\": \"string\",\n        \"num_unique_values\": 420,\n        \"samples\": [\n          \"ae4sbwrg7736ziic7z3kmqua47zq\",\n          \"ahecytssjsodqi4ltzusxtk7saha\",\n          \"ahxkytknmoi7b7ghb553sjsj6omq\"\n        ],\n        \"semantic_type\": \"\",\n        \"description\": \"\"\n      }\n    },\n    {\n      \"column\": \"is_verified\",\n      \"properties\": {\n        \"dtype\": \"boolean\",\n        \"num_unique_values\": 1,\n        \"samples\": [\n          false\n        ],\n        \"semantic_type\": \"\",\n        \"description\": \"\"\n      }\n    },\n    {\n      \"column\": \"helpful_count\",\n      \"properties\": {\n        \"dtype\": \"number\",\n        \"std\": 1,\n        \"min\": 0,\n        \"max\": 14,\n        \"num_unique_values\": 10,\n        \"samples\": [\n          5\n        ],\n        \"semantic_type\": \"\",\n        \"description\": \"\"\n      }\n    },\n    {\n      \"column\": \"product_attributes\",\n      \"properties\": {\n        \"dtype\": \"category\",\n        \"num_unique_values\": 1,\n        \"samples\": [\n          \"{}\"\n        ],\n        \"semantic_type\": \"\",\n        \"description\": \"\"\n      }\n    },\n    {\n      \"column\": \"date\",\n      \"properties\": {\n        \"dtype\": \"object\",\n        \"num_unique_values\": 68,\n        \"samples\": [\n          \"2024-10-30\"\n        ],\n        \"semantic_type\": \"\",\n        \"description\": \"\"\n      }\n    }\n  ]\n}"
            }
          },
          "metadata": {},
          "execution_count": 3
        }
      ]
    },
    {
      "cell_type": "code",
      "source": [
        "df.info()"
      ],
      "metadata": {
        "colab": {
          "base_uri": "https://localhost:8080/"
        },
        "id": "zTW7Xg22KA1l",
        "outputId": "08a5f0f5-9a59-4806-b1ae-260dbfa4925b"
      },
      "execution_count": null,
      "outputs": [
        {
          "output_type": "stream",
          "name": "stdout",
          "text": [
            "<class 'pandas.core.frame.DataFrame'>\n",
            "RangeIndex: 700 entries, 0 to 699\n",
            "Data columns (total 13 columns):\n",
            " #   Column              Non-Null Count  Dtype \n",
            "---  ------              --------------  ----- \n",
            " 0   review_id           700 non-null    object\n",
            " 1   product_id          700 non-null    object\n",
            " 2   brand               700 non-null    object\n",
            " 3   title               700 non-null    object\n",
            " 4   author              700 non-null    object\n",
            " 5   rating              700 non-null    int64 \n",
            " 6   content             700 non-null    object\n",
            " 7   timestamp           700 non-null    object\n",
            " 8   profile_id          700 non-null    object\n",
            " 9   is_verified         700 non-null    bool  \n",
            " 10  helpful_count       700 non-null    int64 \n",
            " 11  product_attributes  700 non-null    object\n",
            " 12  date                700 non-null    object\n",
            "dtypes: bool(1), int64(2), object(10)\n",
            "memory usage: 66.4+ KB\n"
          ]
        }
      ]
    },
    {
      "cell_type": "markdown",
      "source": [
        "### Detect and Handle Missing or Extreme Values"
      ],
      "metadata": {
        "id": "F2279x9cKMI0"
      }
    },
    {
      "cell_type": "code",
      "source": [
        "# Convert 'Rating' column to a NumPy array\n",
        "ratings = df['rating'].values\n",
        "\n",
        "# Replace missing values (e.g., np.nan) with the mean using NumPy\n",
        "mean_rating = np.nanmean(ratings)\n",
        "ratings = np.where(np.isnan(ratings), mean_rating, ratings)\n",
        "df['rating'] = ratings  # Assign back to DataFrame"
      ],
      "metadata": {
        "id": "v5Vu1UlZJ65Q"
      },
      "execution_count": null,
      "outputs": []
    },
    {
      "cell_type": "markdown",
      "source": [
        "### Filtering Outliers Using NumPy"
      ],
      "metadata": {
        "id": "dblWX1QKKPdd"
      }
    },
    {
      "cell_type": "code",
      "source": [
        "# Filter out ratings that are outside the range of 0 to 5\n",
        "valid_ratings = ratings[(ratings >= 0) & (ratings <= 5)]\n",
        "df = df[df['rating'].isin(valid_ratings)]  # Keep only valid ratings"
      ],
      "metadata": {
        "id": "WUsWCD4UJ7QL"
      },
      "execution_count": null,
      "outputs": []
    },
    {
      "cell_type": "markdown",
      "source": [
        "### Calculate Review Lengths"
      ],
      "metadata": {
        "id": "Z0thHa67KYZP"
      }
    },
    {
      "cell_type": "code",
      "source": [
        "review_lengths = np.array([len(review.split()) for review in df['content']])\n",
        "# length of first 5 reviews\n",
        "review_lengths[:5]"
      ],
      "metadata": {
        "colab": {
          "base_uri": "https://localhost:8080/"
        },
        "id": "z_o-9flMKI0O",
        "outputId": "72be506a-79f5-408b-d36f-294a762bbe27"
      },
      "execution_count": null,
      "outputs": [
        {
          "output_type": "execute_result",
          "data": {
            "text/plain": [
              "array([23, 11, 14, 66, 26])"
            ]
          },
          "metadata": {},
          "execution_count": 7
        }
      ]
    },
    {
      "cell_type": "markdown",
      "source": [
        "### Normalizing Data"
      ],
      "metadata": {
        "id": "ZUvj1Yz1K71M"
      }
    },
    {
      "cell_type": "code",
      "source": [
        "# Min-Max scaling using NumPy\n",
        "min_rating = np.min(ratings)\n",
        "max_rating = np.max(ratings)\n",
        "normalized_ratings = (ratings - min_rating) / (max_rating - min_rating)\n",
        "df['normalized_rating'] = normalized_ratings"
      ],
      "metadata": {
        "id": "MdSsK5cjKJCF"
      },
      "execution_count": null,
      "outputs": []
    },
    {
      "cell_type": "markdown",
      "source": [
        "### Handling Inconsistent Formats"
      ],
      "metadata": {
        "id": "SSMKExmQLGqz"
      }
    },
    {
      "cell_type": "code",
      "source": [
        "# Ensure ratings are in float format\n",
        "df['rating'] = df['rating'].astype(np.float64)"
      ],
      "metadata": {
        "id": "VTgoAjNILGQm"
      },
      "execution_count": null,
      "outputs": []
    },
    {
      "cell_type": "markdown",
      "source": [
        "### Save Cleaned Data"
      ],
      "metadata": {
        "id": "iPZR0KHsLVRT"
      }
    },
    {
      "cell_type": "code",
      "source": [
        "# Combine the cleaned ratings and review lengths into a new array and save it\n",
        "#np.savetxt('clean_rating_review_length.csv', np.column_stack((ratings, review_lengths)), delimiter=\",\", fmt='%s', header=\"rating,review length\")"
      ],
      "metadata": {
        "id": "DY-sxjeSLNGu"
      },
      "execution_count": null,
      "outputs": []
    }
  ]
}